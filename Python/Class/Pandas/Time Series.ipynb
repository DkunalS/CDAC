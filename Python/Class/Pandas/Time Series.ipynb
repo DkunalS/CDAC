{
 "cells": [
  {
   "cell_type": "code",
   "execution_count": 2,
   "metadata": {},
   "outputs": [],
   "source": [
    "import pandas as pd\n",
    "import numpy as np"
   ]
  },
  {
   "cell_type": "code",
   "execution_count": null,
   "metadata": {},
   "outputs": [],
   "source": []
  },
  {
   "cell_type": "markdown",
   "metadata": {},
   "source": [
    "# Date Time Indexing"
   ]
  },
  {
   "cell_type": "code",
   "execution_count": 3,
   "metadata": {},
   "outputs": [],
   "source": [
    "dates = pd.date_range(start = '2024-01-01', periods = 10 , freq = 'D')"
   ]
  },
  {
   "cell_type": "code",
   "execution_count": 4,
   "metadata": {},
   "outputs": [],
   "source": [
    "data  = np.random.randn(10)"
   ]
  },
  {
   "cell_type": "code",
   "execution_count": 5,
   "metadata": {},
   "outputs": [
    {
     "data": {
      "text/plain": [
       "2024-01-01    0.382800\n",
       "2024-01-02    1.228444\n",
       "2024-01-03   -1.072055\n",
       "2024-01-04    1.461194\n",
       "2024-01-05    0.391327\n",
       "2024-01-06    0.592093\n",
       "2024-01-07   -0.490964\n",
       "2024-01-08    0.131775\n",
       "2024-01-09   -2.612515\n",
       "2024-01-10   -0.011134\n",
       "Freq: D, dtype: float64"
      ]
     },
     "execution_count": 5,
     "metadata": {},
     "output_type": "execute_result"
    }
   ],
   "source": [
    "time_series = pd.Series(data, index = dates)\n",
    "time_series"
   ]
  },
  {
   "cell_type": "code",
   "execution_count": 6,
   "metadata": {},
   "outputs": [
    {
     "name": "stdout",
     "output_type": "stream",
     "text": [
      "Times Series for : '2024-01-05'\n",
      " 0.3913268643351248\n"
     ]
    }
   ],
   "source": [
    "print(\"Times Series for : '2024-01-05'\\n\",time_series['2024-01-05'])"
   ]
  },
  {
   "cell_type": "code",
   "execution_count": 7,
   "metadata": {},
   "outputs": [
    {
     "name": "stdout",
     "output_type": "stream",
     "text": [
      "Times Series for Range : \n",
      " 2024-01-03   -1.072055\n",
      "2024-01-04    1.461194\n",
      "2024-01-05    0.391327\n",
      "2024-01-06    0.592093\n",
      "Freq: D, dtype: float64\n"
     ]
    }
   ],
   "source": [
    "print(\"Times Series for Range : \\n\",time_series['2024-01-03' : '2024-01-06'])"
   ]
  },
  {
   "cell_type": "code",
   "execution_count": 8,
   "metadata": {},
   "outputs": [
    {
     "name": "stdout",
     "output_type": "stream",
     "text": [
      "With Boolen indexing :\n",
      " 2024-01-01    0.382800\n",
      "2024-01-02    1.228444\n",
      "2024-01-04    1.461194\n",
      "2024-01-05    0.391327\n",
      "2024-01-06    0.592093\n",
      "2024-01-08    0.131775\n",
      "dtype: float64\n"
     ]
    }
   ],
   "source": [
    "print(\"With Boolen indexing :\\n\",time_series[time_series > 0])"
   ]
  },
  {
   "cell_type": "code",
   "execution_count": 9,
   "metadata": {},
   "outputs": [],
   "source": [
    "hourly_dates = pd.date_range(start = '2024-01-01',periods = 20 , freq = 'h')"
   ]
  },
  {
   "cell_type": "code",
   "execution_count": 10,
   "metadata": {},
   "outputs": [],
   "source": [
    "hourly_data = np.random.randn(24)"
   ]
  },
  {
   "cell_type": "code",
   "execution_count": 11,
   "metadata": {},
   "outputs": [],
   "source": [
    "hourly_series = pd.Series(hourly_data, index = hourly_data)"
   ]
  },
  {
   "cell_type": "code",
   "execution_count": 12,
   "metadata": {},
   "outputs": [
    {
     "name": "stdout",
     "output_type": "stream",
     "text": [
      "Complete Hourly Series: \n",
      "  0.305619    0.305619\n",
      " 0.266402    0.266402\n",
      "-0.619963   -0.619963\n",
      "-1.012984   -1.012984\n",
      " 1.335793    1.335793\n",
      "-0.770734   -0.770734\n",
      " 0.939334    0.939334\n",
      "-1.186913   -1.186913\n",
      " 0.033023    0.033023\n",
      " 1.531177    1.531177\n",
      "-0.078428   -0.078428\n",
      "-0.946453   -0.946453\n",
      "-0.540395   -0.540395\n",
      "-0.108033   -0.108033\n",
      "-0.548192   -0.548192\n",
      " 1.039126    1.039126\n",
      " 0.399015    0.399015\n",
      "-0.114448   -0.114448\n",
      "-0.250662   -0.250662\n",
      "-0.767322   -0.767322\n",
      " 0.798314    0.798314\n",
      " 0.583951    0.583951\n",
      " 0.526384    0.526384\n",
      " 1.760773    1.760773\n",
      "dtype: float64\n"
     ]
    }
   ],
   "source": [
    "print(\"Complete Hourly Series: \\n\",hourly_series)"
   ]
  },
  {
   "cell_type": "code",
   "execution_count": 13,
   "metadata": {},
   "outputs": [
    {
     "name": "stdout",
     "output_type": "stream",
     "text": [
      "Data With Multiple Condition: \n",
      " 2024-01-01    0.382800\n",
      "2024-01-02    1.228444\n",
      "2024-01-04    1.461194\n",
      "2024-01-05    0.391327\n",
      "2024-01-06    0.592093\n",
      "2024-01-08    0.131775\n",
      "dtype: float64\n"
     ]
    }
   ],
   "source": [
    "print(\"Data With Multiple Condition: \\n\",time_series['2024-01-01':'2024-01-10'][time_series>0])"
   ]
  },
  {
   "cell_type": "code",
   "execution_count": 14,
   "metadata": {},
   "outputs": [
    {
     "name": "stdout",
     "output_type": "stream",
     "text": [
      "0.3913268643351248\n"
     ]
    }
   ],
   "source": [
    "print(time_series.loc['2024-01-05'])"
   ]
  },
  {
   "cell_type": "code",
   "execution_count": 15,
   "metadata": {},
   "outputs": [
    {
     "name": "stdout",
     "output_type": "stream",
     "text": [
      "2024-01-03   -1.072055\n",
      "2024-01-04    1.461194\n",
      "2024-01-05    0.391327\n",
      "2024-01-06    0.592093\n",
      "Freq: D, dtype: float64\n"
     ]
    }
   ],
   "source": [
    "print(time_series.loc['2024-01-03':'2024-01-06'])"
   ]
  },
  {
   "cell_type": "code",
   "execution_count": 16,
   "metadata": {},
   "outputs": [
    {
     "name": "stdout",
     "output_type": "stream",
     "text": [
      "Multiple Specific Dates: \n",
      " 2024-01-01    0.382800\n",
      "2024-01-05    0.391327\n",
      "2024-01-05    0.391327\n",
      "dtype: float64\n"
     ]
    }
   ],
   "source": [
    "print(\"Multiple Specific Dates: \\n\",time_series[['2024-01-01','2024-01-05','2024-01-05']])"
   ]
  },
  {
   "cell_type": "code",
   "execution_count": 17,
   "metadata": {},
   "outputs": [
    {
     "name": "stdout",
     "output_type": "stream",
     "text": [
      "0.38280015261645495\n"
     ]
    }
   ],
   "source": [
    "print(time_series.iloc[0])"
   ]
  },
  {
   "cell_type": "code",
   "execution_count": 18,
   "metadata": {},
   "outputs": [
    {
     "name": "stdout",
     "output_type": "stream",
     "text": [
      "2024-01-03   -1.072055\n",
      "2024-01-04    1.461194\n",
      "2024-01-05    0.391327\n",
      "2024-01-06    0.592093\n",
      "Freq: D, dtype: float64\n"
     ]
    }
   ],
   "source": [
    "print(time_series.iloc[2:6])"
   ]
  },
  {
   "cell_type": "code",
   "execution_count": 19,
   "metadata": {},
   "outputs": [
    {
     "name": "stdout",
     "output_type": "stream",
     "text": [
      "2024-01-01    0.382800\n",
      "2024-01-04    1.461194\n",
      "2024-01-08    0.131775\n",
      "dtype: float64\n"
     ]
    }
   ],
   "source": [
    "print(time_series.iloc[[0,3,7]])"
   ]
  },
  {
   "cell_type": "code",
   "execution_count": 20,
   "metadata": {},
   "outputs": [
    {
     "name": "stdout",
     "output_type": "stream",
     "text": [
      "2024-01-03   -1.072055\n",
      "2024-01-04    1.461194\n",
      "2024-01-05    0.391327\n",
      "2024-01-06    0.592093\n",
      "Freq: D, dtype: float64\n"
     ]
    }
   ],
   "source": [
    "print(time_series['2024-01-03':'2024-01-06'])"
   ]
  },
  {
   "cell_type": "code",
   "execution_count": 21,
   "metadata": {},
   "outputs": [
    {
     "name": "stdout",
     "output_type": "stream",
     "text": [
      "2024-01-01    0.382800\n",
      "2024-01-02    1.228444\n",
      "2024-01-03   -1.072055\n",
      "2024-01-04    1.461194\n",
      "2024-01-05    0.391327\n",
      "Freq: D, dtype: float64\n"
     ]
    }
   ],
   "source": [
    "print(time_series[:'2024-01-05'])"
   ]
  },
  {
   "cell_type": "code",
   "execution_count": 22,
   "metadata": {},
   "outputs": [
    {
     "name": "stdout",
     "output_type": "stream",
     "text": [
      "2024-01-06    0.592093\n",
      "2024-01-07   -0.490964\n",
      "2024-01-08    0.131775\n",
      "2024-01-09   -2.612515\n",
      "2024-01-10   -0.011134\n",
      "Freq: D, dtype: float64\n"
     ]
    }
   ],
   "source": [
    "print(time_series['2024-01-06':])"
   ]
  },
  {
   "cell_type": "markdown",
   "metadata": {},
   "source": [
    "# Resampling"
   ]
  },
  {
   "cell_type": "code",
   "execution_count": 23,
   "metadata": {},
   "outputs": [],
   "source": [
    "weekly_data = time_series.resample('w').mean()"
   ]
  },
  {
   "cell_type": "code",
   "execution_count": 24,
   "metadata": {},
   "outputs": [
    {
     "name": "stdout",
     "output_type": "stream",
     "text": [
      "Resampled: \n",
      " 2024-01-07    0.356120\n",
      "2024-01-14   -0.830625\n",
      "Freq: W-SUN, dtype: float64\n"
     ]
    }
   ],
   "source": [
    "print(\"Resampled: \\n\",weekly_data)"
   ]
  },
  {
   "cell_type": "code",
   "execution_count": 25,
   "metadata": {},
   "outputs": [],
   "source": [
    "rolling_mean = time_series.rolling(window = 3).mean()"
   ]
  },
  {
   "cell_type": "code",
   "execution_count": 26,
   "metadata": {},
   "outputs": [
    {
     "name": "stdout",
     "output_type": "stream",
     "text": [
      "Rolling Mean: \n",
      " 2024-01-01         NaN\n",
      "2024-01-02         NaN\n",
      "2024-01-03    0.179730\n",
      "2024-01-04    0.539194\n",
      "2024-01-05    0.260155\n",
      "2024-01-06    0.814871\n",
      "2024-01-07    0.164152\n",
      "2024-01-08    0.077634\n",
      "2024-01-09   -0.990568\n",
      "2024-01-10   -0.830625\n",
      "Freq: D, dtype: float64\n"
     ]
    }
   ],
   "source": [
    "print(\"Rolling Mean: \\n\",rolling_mean)"
   ]
  },
  {
   "cell_type": "code",
   "execution_count": 27,
   "metadata": {},
   "outputs": [],
   "source": [
    "time_series['2024-01-04'] = np.nan"
   ]
  },
  {
   "cell_type": "code",
   "execution_count": 28,
   "metadata": {},
   "outputs": [
    {
     "name": "stdout",
     "output_type": "stream",
     "text": [
      "Adding a Null Value: \n",
      " 2024-01-01    0.382800\n",
      "2024-01-02    1.228444\n",
      "2024-01-03   -1.072055\n",
      "2024-01-04         NaN\n",
      "2024-01-05    0.391327\n",
      "2024-01-06    0.592093\n",
      "2024-01-07   -0.490964\n",
      "2024-01-08    0.131775\n",
      "2024-01-09   -2.612515\n",
      "2024-01-10   -0.011134\n",
      "Freq: D, dtype: float64\n"
     ]
    }
   ],
   "source": [
    "print(\"Adding a Null Value: \\n\", time_series)"
   ]
  },
  {
   "cell_type": "code",
   "execution_count": 29,
   "metadata": {},
   "outputs": [],
   "source": [
    "filled_series = time_series.ffill()"
   ]
  },
  {
   "cell_type": "code",
   "execution_count": 30,
   "metadata": {},
   "outputs": [
    {
     "name": "stdout",
     "output_type": "stream",
     "text": [
      "Handling Missing Values : \n",
      " 2024-01-01    0.382800\n",
      "2024-01-02    1.228444\n",
      "2024-01-03   -1.072055\n",
      "2024-01-04   -1.072055\n",
      "2024-01-05    0.391327\n",
      "2024-01-06    0.592093\n",
      "2024-01-07   -0.490964\n",
      "2024-01-08    0.131775\n",
      "2024-01-09   -2.612515\n",
      "2024-01-10   -0.011134\n",
      "Freq: D, dtype: float64\n"
     ]
    }
   ],
   "source": [
    "print(\"Handling Missing Values : \\n\",filled_series)"
   ]
  },
  {
   "cell_type": "code",
   "execution_count": 31,
   "metadata": {},
   "outputs": [],
   "source": [
    "weekly_series = time_series.resample('w').mean()"
   ]
  },
  {
   "cell_type": "code",
   "execution_count": 32,
   "metadata": {},
   "outputs": [
    {
     "name": "stdout",
     "output_type": "stream",
     "text": [
      "Weekly Resampled Series: \n",
      " 2024-01-07    0.171941\n",
      "2024-01-14   -0.830625\n",
      "Freq: W-SUN, dtype: float64\n"
     ]
    }
   ],
   "source": [
    "print(\"Weekly Resampled Series: \\n\",weekly_series)"
   ]
  },
  {
   "cell_type": "code",
   "execution_count": 33,
   "metadata": {},
   "outputs": [],
   "source": [
    "filled_backward = time_series.bfill()"
   ]
  },
  {
   "cell_type": "code",
   "execution_count": 34,
   "metadata": {},
   "outputs": [
    {
     "name": "stdout",
     "output_type": "stream",
     "text": [
      "Backward Filling  Series: \n",
      " 2024-01-01    0.382800\n",
      "2024-01-02    1.228444\n",
      "2024-01-03   -1.072055\n",
      "2024-01-04    0.391327\n",
      "2024-01-05    0.391327\n",
      "2024-01-06    0.592093\n",
      "2024-01-07   -0.490964\n",
      "2024-01-08    0.131775\n",
      "2024-01-09   -2.612515\n",
      "2024-01-10   -0.011134\n",
      "Freq: D, dtype: float64\n"
     ]
    }
   ],
   "source": [
    "print(\"Backward Filling  Series: \\n\",filled_backward)"
   ]
  },
  {
   "cell_type": "markdown",
   "metadata": {},
   "source": [
    "**Interpolate Missing Values : fills missing values baased on existing data points**"
   ]
  },
  {
   "cell_type": "code",
   "execution_count": 35,
   "metadata": {},
   "outputs": [],
   "source": [
    "interplated = time_series.bfill()"
   ]
  },
  {
   "cell_type": "code",
   "execution_count": 36,
   "metadata": {},
   "outputs": [
    {
     "name": "stdout",
     "output_type": "stream",
     "text": [
      "Interpolated Series: \n",
      " 2024-01-01    0.382800\n",
      "2024-01-02    1.228444\n",
      "2024-01-03   -1.072055\n",
      "2024-01-04    0.391327\n",
      "2024-01-05    0.391327\n",
      "2024-01-06    0.592093\n",
      "2024-01-07   -0.490964\n",
      "2024-01-08    0.131775\n",
      "2024-01-09   -2.612515\n",
      "2024-01-10   -0.011134\n",
      "Freq: D, dtype: float64\n"
     ]
    }
   ],
   "source": [
    "print(\"Interpolated Series: \\n\",interplated)"
   ]
  },
  {
   "cell_type": "code",
   "execution_count": 37,
   "metadata": {},
   "outputs": [],
   "source": [
    "###############################################################################################\n",
    "# Checking Missing Values"
   ]
  },
  {
   "cell_type": "code",
   "execution_count": 38,
   "metadata": {},
   "outputs": [],
   "source": [
    "dates = pd.date_range(start = '2024-01-01', periods = 10 , freq = 'D')"
   ]
  },
  {
   "cell_type": "code",
   "execution_count": 39,
   "metadata": {},
   "outputs": [],
   "source": [
    "data = [1,2,np.nan, 4,np.nan,6,7,np.nan,9,10]"
   ]
  },
  {
   "cell_type": "code",
   "execution_count": 40,
   "metadata": {},
   "outputs": [],
   "source": [
    "time_series = pd.Series(data, index=dates)"
   ]
  },
  {
   "cell_type": "code",
   "execution_count": 41,
   "metadata": {},
   "outputs": [
    {
     "name": "stdout",
     "output_type": "stream",
     "text": [
      "Original Time Series: \n",
      " 2024-01-01     1.0\n",
      "2024-01-02     2.0\n",
      "2024-01-03     NaN\n",
      "2024-01-04     4.0\n",
      "2024-01-05     NaN\n",
      "2024-01-06     6.0\n",
      "2024-01-07     7.0\n",
      "2024-01-08     NaN\n",
      "2024-01-09     9.0\n",
      "2024-01-10    10.0\n",
      "Freq: D, dtype: float64\n"
     ]
    }
   ],
   "source": [
    "print(\"Original Time Series: \\n\",time_series)"
   ]
  },
  {
   "cell_type": "code",
   "execution_count": 42,
   "metadata": {},
   "outputs": [],
   "source": [
    "missing_Values = time_series.index.isna()"
   ]
  },
  {
   "cell_type": "code",
   "execution_count": 43,
   "metadata": {},
   "outputs": [
    {
     "name": "stdout",
     "output_type": "stream",
     "text": [
      "Missing Valuse (Boolean Series): \n",
      " [False False False False False False False False False False]\n"
     ]
    }
   ],
   "source": [
    "print(\"Missing Valuse (Boolean Series): \\n\",missing_Values)"
   ]
  },
  {
   "cell_type": "code",
   "execution_count": 44,
   "metadata": {},
   "outputs": [],
   "source": [
    "num_missing = missing_Values.sum()"
   ]
  },
  {
   "cell_type": "code",
   "execution_count": 45,
   "metadata": {},
   "outputs": [
    {
     "name": "stdout",
     "output_type": "stream",
     "text": [
      "Number of Missing values: \n",
      " 0\n"
     ]
    }
   ],
   "source": [
    "print(\"Number of Missing values: \\n\",num_missing)"
   ]
  },
  {
   "cell_type": "code",
   "execution_count": 46,
   "metadata": {},
   "outputs": [],
   "source": [
    "missing_indices = time_series.index[missing_Values]"
   ]
  },
  {
   "cell_type": "code",
   "execution_count": 47,
   "metadata": {},
   "outputs": [],
   "source": [
    "filled_Value = time_series.fillna(0)"
   ]
  },
  {
   "cell_type": "code",
   "execution_count": 48,
   "metadata": {},
   "outputs": [
    {
     "name": "stdout",
     "output_type": "stream",
     "text": [
      "Filled with Specific Value: \n",
      " 2024-01-01     1.0\n",
      "2024-01-02     2.0\n",
      "2024-01-03     0.0\n",
      "2024-01-04     4.0\n",
      "2024-01-05     0.0\n",
      "2024-01-06     6.0\n",
      "2024-01-07     7.0\n",
      "2024-01-08     0.0\n",
      "2024-01-09     9.0\n",
      "2024-01-10    10.0\n",
      "Freq: D, dtype: float64\n"
     ]
    }
   ],
   "source": [
    "print(\"Filled with Specific Value: \\n\",filled_Value)"
   ]
  },
  {
   "cell_type": "code",
   "execution_count": 49,
   "metadata": {},
   "outputs": [],
   "source": [
    "dropped = time_series.dropna()"
   ]
  },
  {
   "cell_type": "code",
   "execution_count": 50,
   "metadata": {},
   "outputs": [
    {
     "name": "stdout",
     "output_type": "stream",
     "text": [
      "Series with Missing Values Dropped: \n",
      " 2024-01-01     1.0\n",
      "2024-01-02     2.0\n",
      "2024-01-04     4.0\n",
      "2024-01-06     6.0\n",
      "2024-01-07     7.0\n",
      "2024-01-09     9.0\n",
      "2024-01-10    10.0\n",
      "dtype: float64\n"
     ]
    }
   ],
   "source": [
    "print(\"Series with Missing Values Dropped: \\n\",dropped)"
   ]
  },
  {
   "cell_type": "code",
   "execution_count": 51,
   "metadata": {},
   "outputs": [
    {
     "name": "stdout",
     "output_type": "stream",
     "text": [
      "Weekly Series: \n",
      " 2024-01-07    0.171941\n",
      "2024-01-14   -0.830625\n",
      "Freq: W-SUN, dtype: float64\n"
     ]
    }
   ],
   "source": [
    "print(\"Weekly Series: \\n\",weekly_series)"
   ]
  },
  {
   "cell_type": "code",
   "execution_count": 52,
   "metadata": {},
   "outputs": [],
   "source": [
    "#############################################################################################\n",
    "# Create a Date range"
   ]
  },
  {
   "cell_type": "code",
   "execution_count": 53,
   "metadata": {},
   "outputs": [],
   "source": [
    "dates = pd.date_range(start = '2024-01-01',periods=10, freq= 'D')"
   ]
  },
  {
   "cell_type": "code",
   "execution_count": 54,
   "metadata": {},
   "outputs": [],
   "source": [
    "data = np.arange(10)"
   ]
  },
  {
   "cell_type": "code",
   "execution_count": 55,
   "metadata": {},
   "outputs": [],
   "source": [
    "time_series = pd.Series(data,index = dates)"
   ]
  },
  {
   "cell_type": "code",
   "execution_count": 56,
   "metadata": {},
   "outputs": [
    {
     "name": "stdout",
     "output_type": "stream",
     "text": [
      "Original Time Series is  : \n",
      " 2024-01-01    0\n",
      "2024-01-02    1\n",
      "2024-01-03    2\n",
      "2024-01-04    3\n",
      "2024-01-05    4\n",
      "2024-01-06    5\n",
      "2024-01-07    6\n",
      "2024-01-08    7\n",
      "2024-01-09    8\n",
      "2024-01-10    9\n",
      "Freq: D, dtype: int32\n"
     ]
    }
   ],
   "source": [
    "print(\"Original Time Series is  : \\n\", time_series)"
   ]
  },
  {
   "cell_type": "code",
   "execution_count": 57,
   "metadata": {},
   "outputs": [],
   "source": [
    "shifted_forward= time_series.shift(2)"
   ]
  },
  {
   "cell_type": "code",
   "execution_count": 58,
   "metadata": {},
   "outputs": [
    {
     "name": "stdout",
     "output_type": "stream",
     "text": [
      "Shifted forward by 2 periods 2024-01-01    NaN\n",
      "2024-01-02    NaN\n",
      "2024-01-03    0.0\n",
      "2024-01-04    1.0\n",
      "2024-01-05    2.0\n",
      "2024-01-06    3.0\n",
      "2024-01-07    4.0\n",
      "2024-01-08    5.0\n",
      "2024-01-09    6.0\n",
      "2024-01-10    7.0\n",
      "Freq: D, dtype: float64\n"
     ]
    }
   ],
   "source": [
    "print(\"Shifted forward by 2 periods\",shifted_forward)"
   ]
  },
  {
   "cell_type": "code",
   "execution_count": 60,
   "metadata": {},
   "outputs": [
    {
     "name": "stdout",
     "output_type": "stream",
     "text": [
      "Shifted backward by 2 periods 2024-01-01    2.0\n",
      "2024-01-02    3.0\n",
      "2024-01-03    4.0\n",
      "2024-01-04    5.0\n",
      "2024-01-05    6.0\n",
      "2024-01-06    7.0\n",
      "2024-01-07    8.0\n",
      "2024-01-08    9.0\n",
      "2024-01-09    NaN\n",
      "2024-01-10    NaN\n",
      "Freq: D, dtype: float64\n"
     ]
    }
   ],
   "source": [
    "shifted_backward= time_series.shift(-2)\n",
    "print(\"Shifted backward by 2 periods\",shifted_backward)"
   ]
  },
  {
   "cell_type": "code",
   "execution_count": null,
   "metadata": {},
   "outputs": [],
   "source": []
  }
 ],
 "metadata": {
  "kernelspec": {
   "display_name": "Python 3",
   "language": "python",
   "name": "python3"
  },
  "language_info": {
   "codemirror_mode": {
    "name": "ipython",
    "version": 3
   },
   "file_extension": ".py",
   "mimetype": "text/x-python",
   "name": "python",
   "nbconvert_exporter": "python",
   "pygments_lexer": "ipython3",
   "version": "3.8.5"
  }
 },
 "nbformat": 4,
 "nbformat_minor": 4
}
