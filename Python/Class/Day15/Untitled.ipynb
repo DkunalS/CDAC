{
 "cells": [
  {
   "cell_type": "code",
   "execution_count": 12,
   "metadata": {},
   "outputs": [],
   "source": [
    "from sympy import limit, sqrt, pprint, sin, tan, diff\n",
    "from sympy.abc import x"
   ]
  },
  {
   "cell_type": "code",
   "execution_count": 8,
   "metadata": {},
   "outputs": [
    {
     "name": "stdout",
     "output_type": "stream",
     "text": [
      "limit of\n",
      "tan(5⋅x)\n",
      "────────\n",
      "sin(3⋅x)\n",
      "at x=0 is 5/3\n"
     ]
    }
   ],
   "source": [
    "expression = tan(5*x)/sin(3*x)\n",
    "result = limit(expression,x, 0)\n",
    "print(\"limit of\")\n",
    "pprint(expression)\n",
    "print(\"at x=0 is\",result)"
   ]
  },
  {
   "cell_type": "markdown",
   "metadata": {},
   "source": [
    "# differentiation in python"
   ]
  },
  {
   "cell_type": "code",
   "execution_count": 13,
   "metadata": {},
   "outputs": [
    {
     "name": "stdout",
     "output_type": "stream",
     "text": [
      "Derivative of\n",
      " 2\n",
      "x \n",
      "with respect to x is\n",
      "2⋅x\n"
     ]
    }
   ],
   "source": [
    "expression = x**2\n",
    "result = diff(expression, x)\n",
    "print(\"Derivative of\")\n",
    "pprint(expression)\n",
    "print(\"with respect to x is\")\n",
    "pprint(result)"
   ]
  },
  {
   "cell_type": "code",
   "execution_count": null,
   "metadata": {},
   "outputs": [],
   "source": []
  }
 ],
 "metadata": {
  "kernelspec": {
   "display_name": "Python 3",
   "language": "python",
   "name": "python3"
  },
  "language_info": {
   "codemirror_mode": {
    "name": "ipython",
    "version": 3
   },
   "file_extension": ".py",
   "mimetype": "text/x-python",
   "name": "python",
   "nbconvert_exporter": "python",
   "pygments_lexer": "ipython3",
   "version": "3.8.5"
  }
 },
 "nbformat": 4,
 "nbformat_minor": 4
}
