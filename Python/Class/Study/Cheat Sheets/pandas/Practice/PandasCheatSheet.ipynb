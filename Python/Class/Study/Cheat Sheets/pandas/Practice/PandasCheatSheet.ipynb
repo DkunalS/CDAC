{
 "cells": [
  {
   "cell_type": "code",
   "execution_count": 21,
   "metadata": {},
   "outputs": [],
   "source": [
    "import pandas as pd\n",
    "import matplotlib.pyplot as plt \n",
    "import numpy as numpy\n",
    "from io import StringIO\n",
    "from pandas import DataFrame, Series"
   ]
  },
  {
   "cell_type": "markdown",
   "metadata": {},
   "source": [
    "# Concepts"
   ]
  },
  {
   "cell_type": "raw",
   "metadata": {},
   "source": [
    "1- 2D table of data with column and row indexes(like spread sheeet)\n",
    "2- columns are series objects\n",
    "3- it has two indexs(row index and column index)\n",
    "4- column index- df.columns\n",
    "5- row index- df.index(might be -Integer, String, DatetimeIndex, PeriodIndex)"
   ]
  },
  {
   "cell_type": "code",
   "execution_count": 22,
   "metadata": {},
   "outputs": [],
   "source": [
    "# Series Object\n",
    "'''ordered, 1-D array, contains Same Data type'''\n",
    "s1 = Series(range(0,5))   # 0, 1, 2, 3, 4\n",
    "s2 = Series(range(1,6))   # 1, 2, 3, 4, 5\n",
    "s3 = s1 + s2              # 1, 3, 5, 7, 9  (adding the element at respective index)"
   ]
  },
  {
   "cell_type": "code",
   "execution_count": 23,
   "metadata": {},
   "outputs": [],
   "source": [
    "# Dataframe\n",
    "df = DataFrame()            # creation of dataframe\n",
    "df = pd.read_csv('iris.csv')     # load a DataFrame form the CSV file\n",
    "df = pd.read_csv('iris.csv', index_col=0)  # index coulumn will be sepal_length"
   ]
  },
  {
   "cell_type": "code",
   "execution_count": 24,
   "metadata": {},
   "outputs": [],
   "source": [
    "# Get data from inline CSV text to a DataFrame \n",
    "data = \"\"\", Animal, Cuteness, Desirable \n",
    "row-1, dog, 8.7, True \n",
    "row-2, cat, 9.5, True \n",
    "row-3, bat, 2.6, False\"\"\"\n",
    "df = pd.read_csv(StringIO(data), header=0, index_col=0, skipinitialspace=True) "
   ]
  },
  {
   "cell_type": "code",
   "execution_count": 28,
   "metadata": {},
   "outputs": [
    {
     "data": {
      "text/plain": [
       "{'Sheet1':       0 First Name   Last Name  Gender        Country  Age        Date    Id\n",
       " 0     1      Dulce       Abril  Female  United States   32  15/10/2017  1562\n",
       " 1     2       Mara   Hashimoto  Female  Great Britain   25  16/08/2016  1582\n",
       " 2     3     Philip        Gent    Male         France   36  21/05/2015  2587\n",
       " 3     4   Kathleen      Hanner  Female  United States   25  15/10/2017  3549\n",
       " 4     5    Nereida     Magwood  Female  United States   58  16/08/2016  2468\n",
       " ..  ...        ...         ...     ...            ...  ...         ...   ...\n",
       " 95   96       Roma  Lafollette  Female  United States   34  15/10/2017  2654\n",
       " 96   97     Felisa        Cail  Female  United States   28  16/08/2016  6525\n",
       " 97   98   Demetria       Abbey  Female  United States   32  21/05/2015  3265\n",
       " 98   99     Jeromy        Danz    Male  United States   39  15/10/2017  3265\n",
       " 99  100   Rasheeda      Alkire  Female  United States   29  16/08/2016  6125\n",
       " \n",
       " [100 rows x 8 columns]}"
      ]
     },
     "execution_count": 28,
     "metadata": {},
     "output_type": "execute_result"
    }
   ],
   "source": [
    "# Load DataFrames from a Microsoft Excel file\n",
    "workbook = pd.ExcelFile('file_example_XLS_100.xls')\n",
    "d = {}\n",
    "for sheet_name in workbook.sheet_names:\n",
    "    df = workbook.parse(sheet_name)\n",
    "    d[sheet_name] = df\n",
    "d"
   ]
  },
  {
   "cell_type": "code",
   "execution_count": 37,
   "metadata": {},
   "outputs": [
    {
     "data": {
      "text/plain": [
       "A  Tom       1\n",
       "   Hardy     2\n",
       "   Sandhu    3\n",
       "B  Tom       5\n",
       "   Hardy     6\n",
       "   Honey     3\n",
       "dtype: int64"
      ]
     },
     "execution_count": 37,
     "metadata": {},
     "output_type": "execute_result"
    }
   ],
   "source": [
    "# Data in Series then combine into a DataFrame \n",
    "s1 = Series(range(1,5))\n",
    "s2 = s1 * s1\n",
    "s2.index = s2.index + 2            # misalign indexes starting the index from 2\n",
    "df = pd.concat([s1, s2], axis=1)   # 1st method has in integer column labels\n",
    "print(df)"
   ]
  },
  {
   "cell_type": "code",
   "execution_count": 44,
   "metadata": {},
   "outputs": [
    {
     "data": {
      "text/plain": [
       "A  Tom       1\n",
       "   Hardy     2\n",
       "   Sandhu    3\n",
       "B  Tom       5\n",
       "   Hardy     6\n",
       "   Honey     3\n",
       "dtype: int64"
      ]
     },
     "execution_count": 44,
     "metadata": {},
     "output_type": "execute_result"
    }
   ],
   "source": [
    "s3 = Series({'Tom': 1, 'Hardy': 2, 'Sandhu': 3})\n",
    "s4 = Series({'Tom': 5, 'Hardy': 6, 'Honey': 3})\n",
    "df = pd.concat({'A':s3, 'B':s4})   # 2nd method does not guarantee col order\n",
    "df"
   ]
  },
  {
   "cell_type": "code",
   "execution_count": 43,
   "metadata": {},
   "outputs": [
    {
     "data": {
      "text/html": [
       "<div>\n",
       "<style scoped>\n",
       "    .dataframe tbody tr th:only-of-type {\n",
       "        vertical-align: middle;\n",
       "    }\n",
       "\n",
       "    .dataframe tbody tr th {\n",
       "        vertical-align: top;\n",
       "    }\n",
       "\n",
       "    .dataframe thead th {\n",
       "        text-align: right;\n",
       "    }\n",
       "</style>\n",
       "<table border=\"1\" class=\"dataframe\">\n",
       "  <thead>\n",
       "    <tr style=\"text-align: right;\">\n",
       "      <th></th>\n",
       "      <th>col0</th>\n",
       "      <th>col1</th>\n",
       "    </tr>\n",
       "  </thead>\n",
       "  <tbody>\n",
       "    <tr>\n",
       "      <th>0</th>\n",
       "      <td>1.0</td>\n",
       "      <td>100</td>\n",
       "    </tr>\n",
       "    <tr>\n",
       "      <th>1</th>\n",
       "      <td>2.0</td>\n",
       "      <td>200</td>\n",
       "    </tr>\n",
       "    <tr>\n",
       "      <th>2</th>\n",
       "      <td>3.0</td>\n",
       "      <td>300</td>\n",
       "    </tr>\n",
       "    <tr>\n",
       "      <th>3</th>\n",
       "      <td>4.0</td>\n",
       "      <td>400</td>\n",
       "    </tr>\n",
       "  </tbody>\n",
       "</table>\n",
       "</div>"
      ],
      "text/plain": [
       "   col0  col1\n",
       "0   1.0   100\n",
       "1   2.0   200\n",
       "2   3.0   300\n",
       "3   4.0   400"
      ]
     },
     "execution_count": 43,
     "metadata": {},
     "output_type": "execute_result"
    }
   ],
   "source": [
    "df = DataFrame({ \n",
    " 'col0' : [1.0, 2.0, 3.0, 4.0], \n",
    " 'col1' : [100, 200, 300, 400] \n",
    " }) \n",
    "df"
   ]
  },
  {
   "cell_type": "code",
   "execution_count": 45,
   "metadata": {},
   "outputs": [
    {
     "data": {
      "text/html": [
       "<div>\n",
       "<style scoped>\n",
       "    .dataframe tbody tr th:only-of-type {\n",
       "        vertical-align: middle;\n",
       "    }\n",
       "\n",
       "    .dataframe tbody tr th {\n",
       "        vertical-align: top;\n",
       "    }\n",
       "\n",
       "    .dataframe thead th {\n",
       "        text-align: right;\n",
       "    }\n",
       "</style>\n",
       "<table border=\"1\" class=\"dataframe\">\n",
       "  <thead>\n",
       "    <tr style=\"text-align: right;\">\n",
       "      <th></th>\n",
       "      <th>col0</th>\n",
       "      <th>col1</th>\n",
       "    </tr>\n",
       "  </thead>\n",
       "  <tbody>\n",
       "    <tr>\n",
       "      <th>row0</th>\n",
       "      <td>0</td>\n",
       "      <td>A</td>\n",
       "    </tr>\n",
       "    <tr>\n",
       "      <th>row1</th>\n",
       "      <td>1</td>\n",
       "      <td>B</td>\n",
       "    </tr>\n",
       "  </tbody>\n",
       "</table>\n",
       "</div>"
      ],
      "text/plain": [
       "      col0 col1\n",
       "row0     0    A\n",
       "row1     1    B"
      ]
     },
     "execution_count": 45,
     "metadata": {},
     "output_type": "execute_result"
    }
   ],
   "source": [
    "# --- use helper method for data in rows \n",
    "df = DataFrame.from_dict({ # data by row \n",
    " # rows as python dictionaries \n",
    " 'row0' : {'col0':0, 'col1':'A'}, \n",
    " 'row1' : {'col0':1, 'col1':'B'} \n",
    " }, orient='index') \n",
    "df"
   ]
  },
  {
   "cell_type": "code",
   "execution_count": 46,
   "metadata": {},
   "outputs": [
    {
     "data": {
      "text/html": [
       "<div>\n",
       "<style scoped>\n",
       "    .dataframe tbody tr th:only-of-type {\n",
       "        vertical-align: middle;\n",
       "    }\n",
       "\n",
       "    .dataframe tbody tr th {\n",
       "        vertical-align: top;\n",
       "    }\n",
       "\n",
       "    .dataframe thead th {\n",
       "        text-align: right;\n",
       "    }\n",
       "</style>\n",
       "<table border=\"1\" class=\"dataframe\">\n",
       "  <thead>\n",
       "    <tr style=\"text-align: right;\">\n",
       "      <th></th>\n",
       "      <th>0</th>\n",
       "      <th>1</th>\n",
       "      <th>2</th>\n",
       "    </tr>\n",
       "  </thead>\n",
       "  <tbody>\n",
       "    <tr>\n",
       "      <th>row0</th>\n",
       "      <td>1</td>\n",
       "      <td>1.000000+1.000000j</td>\n",
       "      <td>A</td>\n",
       "    </tr>\n",
       "    <tr>\n",
       "      <th>row1</th>\n",
       "      <td>2</td>\n",
       "      <td>2.000000+2.000000j</td>\n",
       "      <td>B</td>\n",
       "    </tr>\n",
       "  </tbody>\n",
       "</table>\n",
       "</div>"
      ],
      "text/plain": [
       "      0                   1  2\n",
       "row0  1  1.000000+1.000000j  A\n",
       "row1  2  2.000000+2.000000j  B"
      ]
     },
     "execution_count": 46,
     "metadata": {},
     "output_type": "execute_result"
    }
   ],
   "source": [
    "df = DataFrame.from_dict({ # data by row \n",
    " # rows as python lists \n",
    " 'row0' : [1, 1+1j, 'A'], \n",
    " 'row1' : [2, 2+2j, 'B'] \n",
    " }, orient='index') \n",
    "df"
   ]
  },
  {
   "cell_type": "code",
   "execution_count": null,
   "metadata": {},
   "outputs": [],
   "source": []
  }
 ],
 "metadata": {
  "kernelspec": {
   "display_name": "Python 3",
   "language": "python",
   "name": "python3"
  },
  "language_info": {
   "codemirror_mode": {
    "name": "ipython",
    "version": 3
   },
   "file_extension": ".py",
   "mimetype": "text/x-python",
   "name": "python",
   "nbconvert_exporter": "python",
   "pygments_lexer": "ipython3",
   "version": "3.8.5"
  }
 },
 "nbformat": 4,
 "nbformat_minor": 4
}
