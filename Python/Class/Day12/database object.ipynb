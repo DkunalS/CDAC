{
 "cells": [
  {
   "cell_type": "code",
   "execution_count": 19,
   "metadata": {},
   "outputs": [],
   "source": [
    "from sqlalchemy import Column, Integer, String, Sequence, Float\n",
    "from sqlalchemy.ext.declarative import declarative_base\n",
    "# set up the database and base class\n",
    "\n",
    "engine = create_engine('sqlite:///company_orm1.db')\n",
    "\n",
    "\n",
    "Base = declarative_base()\n",
    "# define the emp model\n",
    "\n"
   ]
  },
  {
   "cell_type": "code",
   "execution_count": 9,
   "metadata": {},
   "outputs": [],
   "source": [
    "\n",
    "\n",
    "class Employee(Base):\n",
    "    __tablename__ = 'employees'\n",
    "    id = Column(Integer, Sequence('employee_id_seq'), primary_key=True)\n",
    "    name = Column(String(50))\n",
    "    age = Column(Integer)\n",
    "    department = Column(String(50))\n",
    "    salary = Column(Float)\n"
   ]
  },
  {
   "cell_type": "code",
   "execution_count": 18,
   "metadata": {},
   "outputs": [
    {
     "name": "stdout",
     "output_type": "stream",
     "text": [
      "Table employee details\n",
      "columns: id - Type: INTEGER\n",
      "columns: name - Type: VARCHAR(50)\n",
      "columns: age - Type: INTEGER\n",
      "columns: department - Type: VARCHAR(50)\n",
      "columns: salary - Type: FLOAT\n",
      "1:ARUN-HR,7000.0\n",
      "2:Omkar-IT,7500.0\n",
      "3:Daksh-Finance,78000.0\n",
      "4:ARUN-HR,7000.0\n",
      "5:Omkar-IT,7500.0\n",
      "6:Daksh-Finance,78000.0\n",
      "7:ARUN-HR,7000.0\n",
      "8:Omkar-IT,7500.0\n",
      "9:Daksh-Finance,78000.0\n"
     ]
    }
   ],
   "source": [
    "metadata = MetaData()\n",
    "metadata.reflect(bind=engine)\n",
    "Base.metadata.create_all(engine)\n",
    "\n",
    "\n",
    "employees = metadata.tables['employees']\n",
    "\n",
    "# Reflect the emp table\n",
    "inspector = inspect(engine)\n",
    "columns = inspector.get_columns('employees')\n",
    "\n",
    "#\n",
    "print(\"Table employee details\")\n",
    "\n",
    "for column in columns:\n",
    "    print(f\"columns: {column['name']} - Type: {column['type']}\")\n",
    "    \n",
    "    \n",
    "    \n",
    "Session = sessionmaker(bind=engine)\n",
    "session = Session()\n",
    "employees = [\n",
    "    Employee(name = 'ARUN' ,age = 30 , department = 'HR',salary = 7000),\n",
    "    Employee(name = 'Omkar' ,age = 25 , department = 'IT',salary = 7500),\n",
    "    Employee(name = 'Daksh' ,age = 24 , department = 'Finance',salary = 78000)\n",
    "]\n",
    "\n",
    "session.add_all(employees)\n",
    "session.commit()\n",
    "\n",
    "all_employee = session.query(Employee).all()\n",
    "\n",
    "for emp in all_employee:\n",
    "    print(f\"{emp.id}:{emp.name}-{emp.department},{emp.salary}\")\n",
    "    \n",
    "employee_to_update = session.query(Employee).filter_by(name = 'ARUN').first()\n",
    "session.commit()\n",
    "\n",
    "\n",
    "employee_to_delete = session.query(Employee).filter_by(name= 'ARUN').first()\n",
    "session.commit()\n",
    "\n"
   ]
  },
  {
   "cell_type": "code",
   "execution_count": null,
   "metadata": {},
   "outputs": [],
   "source": []
  }
 ],
 "metadata": {
  "kernelspec": {
   "display_name": "Python 3",
   "language": "python",
   "name": "python3"
  },
  "language_info": {
   "codemirror_mode": {
    "name": "ipython",
    "version": 3
   },
   "file_extension": ".py",
   "mimetype": "text/x-python",
   "name": "python",
   "nbconvert_exporter": "python",
   "pygments_lexer": "ipython3",
   "version": "3.8.5"
  }
 },
 "nbformat": 4,
 "nbformat_minor": 4
}
