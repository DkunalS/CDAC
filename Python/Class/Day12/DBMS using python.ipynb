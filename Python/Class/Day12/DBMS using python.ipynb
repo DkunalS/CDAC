{
 "cells": [
  {
   "cell_type": "code",
   "execution_count": 1,
   "metadata": {},
   "outputs": [],
   "source": [
    "# \"\"\"What is Data?\n",
    "# Raw, unprocessed facts, figures, or symbols\n",
    "# Types-\n",
    "# Structured Data\n",
    "# Unstructured Data\n",
    "# Semi-structured Data\n",
    "# Quantitative Data\n",
    "# Qualitative\n",
    "\n",
    "# Methods of data Collection\n",
    "\n",
    "# -Surveys and\"\"\""
   ]
  },
  {
   "cell_type": "code",
   "execution_count": 2,
   "metadata": {},
   "outputs": [],
   "source": [
    "import sqlite3\n",
    "\n",
    "conn = sqlite3.connect('DBIBatch2024.db')"
   ]
  },
  {
   "cell_type": "code",
   "execution_count": 3,
   "metadata": {},
   "outputs": [
    {
     "data": {
      "text/plain": [
       "<function Connection.commit>"
      ]
     },
     "execution_count": 3,
     "metadata": {},
     "output_type": "execute_result"
    }
   ],
   "source": [
    "cursor = conn.cursor()\n",
    "cursor.execute('''CREATE TABLE IF NOT EXISTS users(\n",
    "id INTEGER PRIMARY KEY,\n",
    "name TEXT,\n",
    "age INTEGER\n",
    ")\n",
    "''')\n",
    "\n",
    "\n",
    "# Insert into table\n",
    "cursor.execute(\"insert into users(name,age) values ('Omkar',23)\")\n",
    "cursor.execute(\"insert into users(name,age) values ('Daksh',21)\")\n",
    "cursor.execute(\"insert into users(name,age) values ('Ram',25)\")\n",
    "cursor.execute(\"insert into users(name,age) values ('Kunal',27)\")\n",
    "\n",
    "conn.commit\n",
    "\n"
   ]
  },
  {
   "cell_type": "code",
   "execution_count": 4,
   "metadata": {},
   "outputs": [
    {
     "name": "stdout",
     "output_type": "stream",
     "text": [
      "[(4, 'Kunal', 27), (3, 'Ram', 25), (1, 'Omkar', 23), (2, 'Daksh', 21)]\n"
     ]
    }
   ],
   "source": [
    "# Query for orbder by\n",
    "\n",
    "cursor.execute(\"select * from users order by age desc\")\n",
    "row = cursor.fetchall()\n",
    "\n",
    "print(row)\n"
   ]
  },
  {
   "cell_type": "code",
   "execution_count": 5,
   "metadata": {},
   "outputs": [
    {
     "name": "stdout",
     "output_type": "stream",
     "text": [
      "[(21, 1), (23, 1), (25, 1), (27, 1)]\n"
     ]
    }
   ],
   "source": [
    "# Query for group by\n",
    "\n",
    "cursor.execute(\"select age, count(*) as count from users group by age\")\n",
    "row = cursor.fetchall()\n",
    "\n",
    "print(row)"
   ]
  },
  {
   "cell_type": "code",
   "execution_count": 6,
   "metadata": {},
   "outputs": [
    {
     "name": "stdout",
     "output_type": "stream",
     "text": [
      "[(1, 'waghmare', 23), (2, 'Daksh', 21), (3, 'Ram', 25), (4, 'Kunal', 27)]\n"
     ]
    }
   ],
   "source": [
    "# update\n",
    "cursor.execute(\"update users set name ='waghmare' where age = 23\")\n",
    "cursor.execute(\"select * from users\")\n",
    "row = cursor.fetchall()\n",
    "\n",
    "print(row)"
   ]
  },
  {
   "cell_type": "code",
   "execution_count": 7,
   "metadata": {},
   "outputs": [
    {
     "name": "stdout",
     "output_type": "stream",
     "text": [
      "[]\n"
     ]
    },
    {
     "data": {
      "text/plain": [
       "<function Connection.close>"
      ]
     },
     "execution_count": 7,
     "metadata": {},
     "output_type": "execute_result"
    }
   ],
   "source": [
    "#\n",
    "cursor.execute(\"select * from users where name like 'Omkar'\")\n",
    "row = cursor.fetchall()\n",
    "print(row)\n",
    "conn.close"
   ]
  },
  {
   "cell_type": "markdown",
   "metadata": {},
   "source": [
    "# Assignment 1 Basic Database operation"
   ]
  },
  {
   "cell_type": "code",
   "execution_count": 8,
   "metadata": {},
   "outputs": [],
   "source": [
    "# OPERATION_SELECT = 'select'\n",
    "# OPERATION_CREATE = 'create'\n",
    "# OPERATION_UPDATE = 'update'\n",
    "# OPERATION_DLETE = 'delete'\n",
    "\n",
    "\n",
    "def query_master(query, dbName):\n",
    "        try:\n",
    "            conn1 = sqlite3.connect(dbName)\n",
    "            conn1.execute(\"PRAGMA foreign_keys = 1\")\n",
    "            cursor1 = conn1.cursor() \n",
    "            result = cursor1.execute(query)\n",
    "            conn1.commit()\n",
    "            return result\n",
    "        except ValueError:\n",
    "            print(\"Invalid input! Please enter a number.\")\n",
    "        finally:\n",
    "            cursor1.close()\n",
    "            conn.close()\n"
   ]
  },
  {
   "cell_type": "code",
   "execution_count": 9,
   "metadata": {},
   "outputs": [
    {
     "data": {
      "text/plain": [
       "<sqlite3.Cursor at 0x1ba07db0880>"
      ]
     },
     "execution_count": 9,
     "metadata": {},
     "output_type": "execute_result"
    }
   ],
   "source": [
    "conn1 = sqlite3.connect('school.db')\n",
    "cursor1 = conn1.cursor()\n",
    "cursor1.execute('''CREATE TABLE IF NOT EXISTS student(\n",
    "id INTEGER PRIMARY KEY,\n",
    "name TEXT,\n",
    "age INTEGER,\n",
    "grade text\n",
    ")\n",
    "''')"
   ]
  },
  {
   "cell_type": "code",
   "execution_count": 10,
   "metadata": {},
   "outputs": [],
   "source": [
    "cursor1.execute('''CREATE TABLE IF NOT EXISTS courses(\n",
    "course_id INTEGER PRIMARY KEY,\n",
    "course_name TEXT,\n",
    "instructor text\n",
    ")\n",
    "''')\n",
    "\n",
    "conn1.commit()"
   ]
  },
  {
   "cell_type": "code",
   "execution_count": 11,
   "metadata": {},
   "outputs": [
    {
     "data": {
      "text/plain": [
       "<sqlite3.Cursor at 0x1ba07db0880>"
      ]
     },
     "execution_count": 11,
     "metadata": {},
     "output_type": "execute_result"
    }
   ],
   "source": [
    "cursor1.execute(\"insert into student(name,age,grade) values ('Omkar',23,'A')\")\n",
    "cursor1.execute(\"insert into student(name,age,grade) values ('Daksh',21,'A')\")\n",
    "cursor1.execute(\"insert into student(name,age,grade) values ('Ram',25,'A')\")\n",
    "cursor1.execute(\"insert into student(name,age,grade) values ('Kunal',27,'A')\")\n",
    "cursor1.execute(\"insert into student(name,age,grade) values ('makrand',23,'A')\")\n",
    "\n",
    "cursor1.execute(\"insert into courses(course_name,instructor) values ('python','anjali')\")\n",
    "cursor1.execute(\"insert into courses(course_name,instructor) values ('maths','sajida')\")\n",
    "cursor1.execute(\"insert into courses(course_name,instructor) values ('ml','atul')\")\n",
    "\n"
   ]
  },
  {
   "cell_type": "code",
   "execution_count": 12,
   "metadata": {},
   "outputs": [
    {
     "name": "stdout",
     "output_type": "stream",
     "text": [
      "(1, 'Omkar', 23, 'A')\n",
      "(2, 'Daksh', 21, 'A')\n",
      "(3, 'Ram', 25, 'A')\n",
      "(4, 'Kunal', 27, 'A')\n",
      "(5, 'makrand', 23, 'A')\n"
     ]
    }
   ],
   "source": [
    "cursor1.execute(\"select * from student where grade = 'A'\")\n",
    "\n",
    "rows = cursor1.fetchall()\n",
    "for row in rows:\n",
    "    print(row)"
   ]
  },
  {
   "cell_type": "code",
   "execution_count": 13,
   "metadata": {},
   "outputs": [
    {
     "name": "stdout",
     "output_type": "stream",
     "text": [
      "('maths', 'sajida')\n",
      "('ml', 'atul')\n",
      "('python', 'anjali')\n"
     ]
    }
   ],
   "source": [
    "cursor1.execute(\"select course_name, instructor from courses order by course_name asc\")\n",
    "rows = cursor1.fetchall()\n",
    "for row in rows:\n",
    "    print(row)"
   ]
  },
  {
   "cell_type": "code",
   "execution_count": 14,
   "metadata": {},
   "outputs": [
    {
     "name": "stdout",
     "output_type": "stream",
     "text": [
      "(1, 'Omkar', 23, 'A')\n",
      "(3, 'Ram', 25, 'A')\n",
      "(4, 'Kunal', 27, 'A')\n",
      "(5, 'makrand', 23, 'A')\n"
     ]
    }
   ],
   "source": [
    "# update data\n",
    "cursor1.execute(\"update student set grade ='B' where name ='Daksh'\")\n",
    "cursor1.execute(\"select * from student where grade = 'A'\")\n",
    "rows = cursor1.fetchall()\n",
    "for row in rows:\n",
    "    print(row)"
   ]
  },
  {
   "cell_type": "code",
   "execution_count": 15,
   "metadata": {},
   "outputs": [
    {
     "name": "stdout",
     "output_type": "stream",
     "text": [
      "(1, 'python', 'anjali')\n",
      "(2, 'maths', 'sanjay')\n",
      "(3, 'ml', 'atul')\n"
     ]
    }
   ],
   "source": [
    "cursor1.execute(\"update courses set instructor ='sanjay' where course_id = 2\")\n",
    "cursor1.execute(\"select * from courses\")\n",
    "rows = cursor1.fetchall()\n",
    "for row in rows:\n",
    "    print(row)"
   ]
  },
  {
   "cell_type": "code",
   "execution_count": 16,
   "metadata": {},
   "outputs": [
    {
     "name": "stdout",
     "output_type": "stream",
     "text": [
      "(1, 'python', 'anjali')\n",
      "(2, 'maths', 'sanjay')\n",
      "(3, 'ml', 'atul')\n"
     ]
    }
   ],
   "source": [
    "# Delete records\n",
    "cursor1.execute(\"delete from student where id =2\")\n",
    "cursor1.execute(\"select * from courses\")\n",
    "rows = cursor1.fetchall()\n",
    "for row in rows:\n",
    "    print(row)"
   ]
  },
  {
   "cell_type": "code",
   "execution_count": 17,
   "metadata": {},
   "outputs": [
    {
     "data": {
      "text/plain": [
       "<sqlite3.Cursor at 0x1ba07db0880>"
      ]
     },
     "execution_count": 17,
     "metadata": {},
     "output_type": "execute_result"
    }
   ],
   "source": [
    "cursor1.execute(\"drop table student\")\n",
    "cursor1.execute(\"drop table courses\")\n",
    "# cursor1.execute(\"Show tables\")\n",
    "\n",
    "\n"
   ]
  },
  {
   "cell_type": "code",
   "execution_count": 18,
   "metadata": {},
   "outputs": [
    {
     "data": {
      "text/plain": [
       "[]"
      ]
     },
     "execution_count": 18,
     "metadata": {},
     "output_type": "execute_result"
    }
   ],
   "source": [
    "# cursor1.execute(\"drop table student\")\n",
    "cursor1.execute(\"select * from sqlite_master where type='table' \")\n",
    "result = cursor1.fetchall()\n",
    "\n",
    "result"
   ]
  },
  {
   "cell_type": "markdown",
   "metadata": {},
   "source": [
    "# Constraints- primary key and Foreign key"
   ]
  },
  {
   "cell_type": "code",
   "execution_count": 19,
   "metadata": {},
   "outputs": [
    {
     "ename": "OperationalError",
     "evalue": "no such table: main.emp",
     "output_type": "error",
     "traceback": [
      "\u001b[1;31m---------------------------------------------------------------------------\u001b[0m",
      "\u001b[1;31mOperationalError\u001b[0m                          Traceback (most recent call last)",
      "\u001b[1;32m<ipython-input-19-8c2b42f30d01>\u001b[0m in \u001b[0;36m<module>\u001b[1;34m\u001b[0m\n\u001b[0;32m     20\u001b[0m \u001b[1;33m\u001b[0m\u001b[0m\n\u001b[0;32m     21\u001b[0m \u001b[0minsert\u001b[0m \u001b[1;33m=\u001b[0m \u001b[1;34m'''create index if not exists idx_emp_name on emp(emp_name)'''\u001b[0m\u001b[1;33m\u001b[0m\u001b[1;33m\u001b[0m\u001b[0m\n\u001b[1;32m---> 22\u001b[1;33m \u001b[0mcursor1\u001b[0m\u001b[1;33m.\u001b[0m\u001b[0mexecute\u001b[0m\u001b[1;33m(\u001b[0m\u001b[0minsert\u001b[0m\u001b[1;33m)\u001b[0m\u001b[1;33m\u001b[0m\u001b[1;33m\u001b[0m\u001b[0m\n\u001b[0m\u001b[0;32m     23\u001b[0m \u001b[0minsert\u001b[0m \u001b[1;33m=\u001b[0m \u001b[1;34m'''create index if not exists idx_dept_name on dept(dept_name)'''\u001b[0m\u001b[1;33m\u001b[0m\u001b[1;33m\u001b[0m\u001b[0m\n\u001b[0;32m     24\u001b[0m \u001b[0mcursor1\u001b[0m\u001b[1;33m.\u001b[0m\u001b[0mexecute\u001b[0m\u001b[1;33m(\u001b[0m\u001b[0minsert\u001b[0m\u001b[1;33m)\u001b[0m\u001b[1;33m\u001b[0m\u001b[1;33m\u001b[0m\u001b[0m\n",
      "\u001b[1;31mOperationalError\u001b[0m: no such table: main.emp"
     ]
    }
   ],
   "source": [
    "dept_db = 'emp_dept_db.db'\n",
    "\n",
    "\n",
    "dept_table = '''CREATE TABLE IF NOT EXISTS dept(\n",
    "dept_id INTEGER PRIMARY KEY,\n",
    "dept_name TEXT not null\n",
    ")\n",
    "'''\n",
    "emp_table = '''CREATE TABLE IF NOT EXISTS emp(\n",
    "emp_id INTEGER PRIMARY KEY,\n",
    "emp_name TEXT not null,\n",
    "dept_id INTEGER,\n",
    "FOREIGN KEY(dept_id) REFERENCES dept(dept_id)\n",
    ")\n",
    "'''\n",
    "query_master(dept_table,dept_db)\n",
    "query_master(emp_table,dept_db)\n",
    "\n",
    "# Creating the indexs\n",
    "\n",
    "insert = '''create index if not exists idx_emp_name on emp(emp_name)'''\n",
    "cursor1.execute(insert)\n",
    "insert = '''create index if not exists idx_dept_name on dept(dept_name)'''\n",
    "cursor1.execute(insert)\n",
    "\n",
    "\n",
    "\n",
    "# insert data into dept\n",
    "\n",
    "insert = '''insert into dept(dept_name) values ('Human Resources')'''\n",
    "cursor1.execute(insert)\n",
    "insert = '''insert into dept(dept_name) values ('Engineering')'''\n",
    "cursor1.execute(insert)\n",
    "insert = '''insert into dept(dept_name) values ('Sales')'''\n",
    "cursor1.execute(insert)\n",
    "\n",
    "# query = '''select * from emp'''\n",
    "\n",
    "# conn1 = sqlite3.connect(dept_db)\n",
    "# cursor1 = conn1.cursor() \n",
    "# result = cursor1.execute(query)\n",
    "# for row in result:\n",
    "#     print(row)"
   ]
  },
  {
   "cell_type": "code",
   "execution_count": null,
   "metadata": {},
   "outputs": [],
   "source": [
    "# insert data into emp\n",
    "insert = '''insert into emp(emp_name, dept_id) values ('Omkar', 1)'''\n",
    "query_master(insert,dept_db)\n",
    "\n",
    "insert = '''insert into emp(emp_name, dept_id) values ('Daksh', 2)'''\n",
    "query_master(insert,dept_db)\n",
    "\n",
    "insert = '''insert into emp(emp_name, dept_id) values ('Ram', 1)'''\n",
    "query_master(insert,dept_db)\n",
    "\n",
    "insert = '''insert into emp(emp_name, dept_id) values ('Kunal', 2)'''\n",
    "query_master(insert,dept_db)\n",
    "\n",
    "# Select the data of emp\n",
    "\n",
    "# query = '''select emp_id, emp_name, dept_id from emp'''\n",
    "# query_master(query,OPERATION_UPDATE)\n",
    "\n",
    "# result = query_master()"
   ]
  },
  {
   "cell_type": "code",
   "execution_count": null,
   "metadata": {},
   "outputs": [],
   "source": [
    "\n",
    "stu_db = 'stu_db.db'\n",
    "\n",
    "sub_table = '''CREATE TABLE IF NOT EXISTS subjects(\n",
    "sub_id INTEGER PRIMARY KEY,\n",
    "sub_name TEXT not null\n",
    ")\n",
    "'''\n",
    "stu_table = '''CREATE TABLE IF NOT EXISTS students(\n",
    "stu_id INTEGER PRIMARY KEY,\n",
    "stu_name TEXT not null,\n",
    "sub_id INTEGER,\n",
    "stu_marks INTEGER,\n",
    "FOREIGN KEY(sub_id) REFERENCES sub(sub_id)\n",
    ")\n",
    "'''\n",
    "query_master(sub_table,stu_db)\n",
    "query_master(stu_table,stu_db)"
   ]
  },
  {
   "cell_type": "code",
   "execution_count": null,
   "metadata": {},
   "outputs": [],
   "source": [
    "insert = '''create index if not exists idx_emp_name on emp(emp_name)'''\n",
    "query_master(insert,stu_db)\n",
    "insert = '''create index if not exists idx_dept_name on dept(dept_name)'''\n",
    "query_master(insert,stu_db)\n",
    "\n",
    "insert = '''insert into students(stu_name, sub_id, stu_marks) values ('Ram', 1, 50)'''\n",
    "query_master(insert,stu_db)\n",
    "insert = '''insert into students(stu_name, sub_id, stu_marks) values ('Daksh', 2, 60)'''\n",
    "query_master(insert,stu_db)\n",
    "insert = '''insert into students(stu_name, sub_id, stu_marks) values ('Omkar', 3, 70)'''\n",
    "query_master(insert,stu_db)\n",
    "insert = '''insert into students(stu_name, sub_id, stu_marks) values ('Kunal', 1, 80)'''\n",
    "query_master(insert,stu_db)\n",
    "insert = '''insert into students(stu_name, sub_id, stu_marks) values ('Dhruv', 2, 80)'''\n",
    "query_master(insert,stu_db)\n",
    "insert = '''insert into students(stu_name, sub_id, stu_marks) values ('Harsh', 3, 75)'''\n",
    "query_master(insert,stu_db)\n",
    "\n",
    "\n",
    "insert = '''insert into subjects(sub_name) values ('DAI')'''\n",
    "query_master(insert,stu_db)\n",
    "insert = '''insert into subjects(sub_name) values ('DITISS')'''\n",
    "query_master(insert,stu_db)\n",
    "insert = '''insert into subjects(sub_name) values ('DBDA')'''\n",
    "query_master(insert,stu_db)\n",
    "insert = '''insert into subjects(sub_name) values ('DIOT')'''\n",
    "query_master(insert,stu_db)"
   ]
  },
  {
   "cell_type": "code",
   "execution_count": null,
   "metadata": {},
   "outputs": [],
   "source": [
    "\n",
    "\n",
    "query = '''select students.stu_name, subject.sub_name, students.marks from subject join subject on subject.sub_id = students.sub_id '''\n",
    "result = query_master(query,OPERATION_SELECT,stu_db)\n",
    "result\n"
   ]
  },
  {
   "cell_type": "code",
   "execution_count": null,
   "metadata": {},
   "outputs": [],
   "source": []
  }
 ],
 "metadata": {
  "kernelspec": {
   "display_name": "Python 3",
   "language": "python",
   "name": "python3"
  },
  "language_info": {
   "codemirror_mode": {
    "name": "ipython",
    "version": 3
   },
   "file_extension": ".py",
   "mimetype": "text/x-python",
   "name": "python",
   "nbconvert_exporter": "python",
   "pygments_lexer": "ipython3",
   "version": "3.8.5"
  }
 },
 "nbformat": 4,
 "nbformat_minor": 4
}
