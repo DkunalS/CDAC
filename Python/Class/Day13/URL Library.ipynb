{
 "cells": [
  {
   "cell_type": "code",
   "execution_count": 1,
   "metadata": {},
   "outputs": [],
   "source": [
    "from urllib.parse import urlparse, parse_qs, urlencode"
   ]
  },
  {
   "cell_type": "code",
   "execution_count": 10,
   "metadata": {},
   "outputs": [
    {
     "name": "stdout",
     "output_type": "stream",
     "text": [
      "Domain: www.example.com\n",
      "path: /path/to/resources\n",
      "Query: search=python&lang=en\n"
     ]
    }
   ],
   "source": [
    "\n",
    "url = \"https://www.example.com/path/to/resources?search=python&lang=en\"\n",
    "parsed_url = urlparse(url)\n",
    "print(f\"Domain: {parsed_url.netloc}\")\n",
    "print(f\"path: {parsed_url.path}\")\n",
    "print(f\"Query: {parsed_url.query}\")"
   ]
  },
  {
   "cell_type": "code",
   "execution_count": 11,
   "metadata": {},
   "outputs": [
    {
     "name": "stdout",
     "output_type": "stream",
     "text": [
      "Query Params: {'query': ['python'], 'sort': ['recent']}\n"
     ]
    }
   ],
   "source": [
    "\n",
    "url = \"https://www.example.com/search?query=python&sort=recent\"\n",
    "parsed_url = urlparse(url)\n",
    "query_params = parse_qs(parsed_url.query)\n",
    "print(f\"Query Params: {query_params}\")"
   ]
  },
  {
   "cell_type": "code",
   "execution_count": 12,
   "metadata": {},
   "outputs": [
    {
     "name": "stdout",
     "output_type": "stream",
     "text": [
      "Upadted URL: https://www.example.com/search?query=python&sort=recent\n"
     ]
    }
   ],
   "source": [
    "base_url = \"https://www.example.com/search\"\n",
    "query_params = {'query':'python', 'sort':'recent'}\n",
    "updated_url = f\"{base_url}?{urlencode(query_params)}\"\n",
    "print(f\"Upadted URL: {updated_url}\")"
   ]
  },
  {
   "cell_type": "markdown",
   "metadata": {},
   "source": [
    "# Hand ON"
   ]
  },
  {
   "cell_type": "code",
   "execution_count": 23,
   "metadata": {},
   "outputs": [
    {
     "name": "stdout",
     "output_type": "stream",
     "text": [
      "Domain: www.example.com\n",
      "path: /shop\n",
      "Query: {'category': ['books'], 'sort': ['desc']}\n",
      "Domain: news.site.com\n",
      "path: /resources/articles\n",
      "Query: {'page': ['5'], 'category': ['tech\\n']}\n",
      "Domain: blog.example.org\n",
      "path: /\n",
      "Query: {'author': ['alice'], 'year': ['2024\\n']}\n"
     ]
    }
   ],
   "source": [
    "\n",
    "def query_parser(url):\n",
    "    parsed_url = urlparse(url)\n",
    "    print(f\"Domain: {parsed_url.netloc}\")\n",
    "    print(f\"path: {parsed_url.path}\")\n",
    "    print(f\"Query: {parse_qs(parsed_url.query)}\")\n",
    "    \n",
    "with open('urls.txt', 'r') as file:\n",
    "    content = file.readlines()\n",
    "    for url in content:\n",
    "        query_parser(url)\n",
    "# print(content)"
   ]
  },
  {
   "cell_type": "code",
   "execution_count": null,
   "metadata": {},
   "outputs": [],
   "source": []
  }
 ],
 "metadata": {
  "kernelspec": {
   "display_name": "Python 3",
   "language": "python",
   "name": "python3"
  },
  "language_info": {
   "codemirror_mode": {
    "name": "ipython",
    "version": 3
   },
   "file_extension": ".py",
   "mimetype": "text/x-python",
   "name": "python",
   "nbconvert_exporter": "python",
   "pygments_lexer": "ipython3",
   "version": "3.8.5"
  }
 },
 "nbformat": 4,
 "nbformat_minor": 4
}
