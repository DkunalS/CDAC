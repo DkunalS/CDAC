{
 "cells": [
  {
   "cell_type": "code",
   "execution_count": 1,
   "id": "f3c940e5-0a78-4e34-b260-e8d973904275",
   "metadata": {},
   "outputs": [],
   "source": [
    "import numpy as np"
   ]
  },
  {
   "cell_type": "code",
   "execution_count": 3,
   "id": "ca0ed8ea-42f3-4b80-8a9e-da547e9bc4ac",
   "metadata": {},
   "outputs": [],
   "source": [
    "my_list = [1,2,3]\n",
    "my_array = np.array([1,2,3])"
   ]
  },
  {
   "cell_type": "code",
   "execution_count": 4,
   "id": "565f0069-f38b-4cf9-aacf-7ddd3c139555",
   "metadata": {},
   "outputs": [
    {
     "name": "stdout",
     "output_type": "stream",
     "text": [
      "<class 'list'>\n"
     ]
    }
   ],
   "source": [
    "print(type(my_list))"
   ]
  },
  {
   "cell_type": "code",
   "execution_count": 5,
   "id": "e6198d99-c59e-4c7b-b8f3-e0ccb5e568b5",
   "metadata": {},
   "outputs": [
    {
     "name": "stdout",
     "output_type": "stream",
     "text": [
      "[1 2 3]\n"
     ]
    }
   ],
   "source": [
    "# Create numpy array from list\n",
    "print(np.array(my_list))"
   ]
  },
  {
   "cell_type": "code",
   "execution_count": 6,
   "id": "fa67dbf7-168e-43cc-99d4-1fa928b550f1",
   "metadata": {},
   "outputs": [
    {
     "name": "stdout",
     "output_type": "stream",
     "text": [
      "[[1 2 3]\n",
      " [4 5 6]\n",
      " [7 8 9]]\n"
     ]
    }
   ],
   "source": [
    "# Or from a list of a list\n",
    "my_matrix = [[1,2,3],[4,5,6],[7,8,9]]\n",
    "print(np.array(my_matrix))"
   ]
  },
  {
   "cell_type": "raw",
   "id": "032a4f8b-8d7e-422e-906f-a87c1aeaa4b0",
   "metadata": {},
   "source": [
    "Create arrays using built-in functions\n",
    "Return evenly spaced values whithin a given interval\n",
    "Satrt, Stop, Step"
   ]
  },
  {
   "cell_type": "code",
   "execution_count": 7,
   "id": "3fc50b29-725f-43f1-bb84-9ef39434791f",
   "metadata": {},
   "outputs": [
    {
     "name": "stdout",
     "output_type": "stream",
     "text": [
      "[0 1 2 3 4 5 6 7 8 9]\n"
     ]
    }
   ],
   "source": [
    "print(np.arange(0,10))"
   ]
  },
  {
   "cell_type": "code",
   "execution_count": 8,
   "id": "e7373852-16c7-486c-9b6f-fc5f6e7a1046",
   "metadata": {},
   "outputs": [
    {
     "name": "stdout",
     "output_type": "stream",
     "text": [
      "[ 0  2  4  6  8 10]\n"
     ]
    }
   ],
   "source": [
    "print(np.arange(0,11,2))"
   ]
  },
  {
   "cell_type": "raw",
   "id": "45f06233-aca8-4587-8702-8a4092d79a5b",
   "metadata": {},
   "source": [
    "Generate arrays of zero or once"
   ]
  },
  {
   "cell_type": "code",
   "execution_count": 9,
   "id": "8acdd126-b195-4e57-a5d4-2a0520d7a3f9",
   "metadata": {},
   "outputs": [
    {
     "name": "stdout",
     "output_type": "stream",
     "text": [
      "[0. 0. 0.]\n"
     ]
    }
   ],
   "source": [
    "print(np.zeros(3))"
   ]
  },
  {
   "cell_type": "code",
   "execution_count": 11,
   "id": "e5e54eac-9d73-4545-94ae-762d957ddcf2",
   "metadata": {},
   "outputs": [
    {
     "name": "stdout",
     "output_type": "stream",
     "text": [
      "[[0. 0. 0. 0. 0.]\n",
      " [0. 0. 0. 0. 0.]\n",
      " [0. 0. 0. 0. 0.]\n",
      " [0. 0. 0. 0. 0.]\n",
      " [0. 0. 0. 0. 0.]]\n"
     ]
    }
   ],
   "source": [
    "print(np.zeros((5,5)))"
   ]
  },
  {
   "cell_type": "code",
   "execution_count": 13,
   "id": "c46bb36c-82e0-430a-a8f8-30c4dd2e4f79",
   "metadata": {},
   "outputs": [
    {
     "name": "stdout",
     "output_type": "stream",
     "text": [
      "[1. 1. 1.]\n"
     ]
    }
   ],
   "source": [
    "print(np.ones(3))"
   ]
  },
  {
   "cell_type": "code",
   "execution_count": 14,
   "id": "a947477d-40f5-4fef-a33d-37729fac8421",
   "metadata": {},
   "outputs": [
    {
     "name": "stdout",
     "output_type": "stream",
     "text": [
      "[[1. 1. 1. 1. 1.]\n",
      " [1. 1. 1. 1. 1.]\n",
      " [1. 1. 1. 1. 1.]\n",
      " [1. 1. 1. 1. 1.]\n",
      " [1. 1. 1. 1. 1.]]\n"
     ]
    }
   ],
   "source": [
    "print(np.ones((5,5)))"
   ]
  },
  {
   "cell_type": "raw",
   "id": "057cca04-00f2-485b-9afe-417c8be42794",
   "metadata": {},
   "source": [
    "# Return evenly spaced numbers over a specifed interval\n",
    "# Start, Stop, number of elements (and not stop)\n",
    "# Unlike numpy.aramge(), the stop value is include in the result\n",
    "# The spacing betwwen values is automatically determined based on specified number of values (num)"
   ]
  },
  {
   "cell_type": "code",
   "execution_count": 15,
   "id": "d2c780f3-65cd-474f-9194-f8eb16902225",
   "metadata": {},
   "outputs": [
    {
     "name": "stdout",
     "output_type": "stream",
     "text": [
      "[ 0.  5. 10.]\n"
     ]
    }
   ],
   "source": [
    "print(np.linspace(0,10,3))"
   ]
  },
  {
   "cell_type": "code",
   "execution_count": 17,
   "id": "41ef19f3-2c59-4d69-a743-5a5f9d1beac1",
   "metadata": {},
   "outputs": [
    {
     "name": "stdout",
     "output_type": "stream",
     "text": [
      "[0.         0.26315789 0.52631579 0.78947368 1.05263158 1.31578947\n",
      " 1.57894737 1.84210526 2.10526316 2.36842105 2.63157895 2.89473684\n",
      " 3.15789474 3.42105263 3.68421053 3.94736842 4.21052632 4.47368421\n",
      " 4.73684211 5.        ]\n"
     ]
    }
   ],
   "source": [
    "print(np.linspace(0,5,20))"
   ]
  },
  {
   "cell_type": "code",
   "execution_count": 18,
   "id": "3590aa2c-dc56-4250-a0cb-89cf20a01e29",
   "metadata": {},
   "outputs": [
    {
     "name": "stdout",
     "output_type": "stream",
     "text": [
      "[0.   0.25 0.5  0.75 1.   1.25 1.5  1.75 2.   2.25 2.5  2.75 3.   3.25\n",
      " 3.5  3.75 4.   4.25 4.5  4.75 5.  ]\n"
     ]
    }
   ],
   "source": [
    "print(np.linspace(0,5,21))"
   ]
  },
  {
   "cell_type": "raw",
   "id": "1a07aa95-431f-4e02-9e96-d18644309da4",
   "metadata": {},
   "source": [
    "*arange: is a specified a stape/gap betwwen consecative elements\n",
    "*linspace: is a specified howmany elements we want step/gap will be calculate by numpy"
   ]
  },
  {
   "cell_type": "code",
   "execution_count": 23,
   "id": "0b717583-7ac7-43f1-b861-3cdbc95314eb",
   "metadata": {},
   "outputs": [
    {
     "name": "stdout",
     "output_type": "stream",
     "text": [
      "[0.15498185 0.66377464]\n",
      "[[0.8373086  0.19675849 0.15497049 0.19560795 0.0445291 ]\n",
      " [0.43995834 0.60521514 0.30507471 0.04632194 0.90903389]\n",
      " [0.51995739 0.53341957 0.97878221 0.60074675 0.70538581]\n",
      " [0.29911861 0.52634059 0.61902051 0.26416215 0.48928526]\n",
      " [0.20525523 0.07971661 0.69169902 0.86693905 0.33617694]]\n"
     ]
    }
   ],
   "source": [
    "# Random Number arrays\n",
    "print(np.random.rand(2))\n",
    "print(np.random.rand(5,5))"
   ]
  },
  {
   "cell_type": "code",
   "execution_count": 24,
   "id": "014426f2-9c94-4ae3-984c-1b84113f4045",
   "metadata": {},
   "outputs": [
    {
     "name": "stdout",
     "output_type": "stream",
     "text": [
      "[-1.8381015   0.74108851]\n",
      "[[ 0.47023147 -0.48556336 -1.04135837  0.20213858 -1.58357837]\n",
      " [ 0.78841887 -1.81037055 -1.31522833 -0.61514415 -0.06204753]\n",
      " [-1.26581986 -0.11515888 -1.39810226 -1.18254883  2.33584124]\n",
      " [ 1.89661628 -0.14527896  0.229963   -0.64465494 -2.19658549]\n",
      " [ 1.20238526  1.98753682  0.27234652  0.18287579  2.21780633]]\n"
     ]
    }
   ],
   "source": [
    "# From normal distribution \n",
    "print(np.random.randn(2)) # Function used to generate random value close to zero(can be +ve and -ve value) \n",
    "print(np.random.randn(5,5))"
   ]
  },
  {
   "cell_type": "code",
   "execution_count": 75,
   "id": "60404568-f45a-40ce-9c01-29e6d8311c4c",
   "metadata": {},
   "outputs": [
    {
     "name": "stdout",
     "output_type": "stream",
     "text": [
      "[0.4964146  0.67356546 0.93930446 0.35401226]\n"
     ]
    }
   ],
   "source": [
    "# Random sampling function in numpy, Return the array of specified shape and fills it random float\n",
    "print(np.random.ranf(4))"
   ]
  },
  {
   "cell_type": "code",
   "execution_count": 25,
   "id": "bd9403f4-57ea-408f-bc48-a32be96e1bed",
   "metadata": {},
   "outputs": [
    {
     "name": "stdout",
     "output_type": "stream",
     "text": [
      "53\n",
      "[37 35 51 22 13 26  7 10 12 67]\n"
     ]
    }
   ],
   "source": [
    "# Random integers form low (inclusive) to high (exlusive)\n",
    "print(np.random.randint(1,100))                      # Single random integer between  1 - 100\n",
    "print(np.random.randint(1,100,10))                   # 10 random integer between  1 - 100"
   ]
  },
  {
   "cell_type": "code",
   "execution_count": 27,
   "id": "8d60cd9f-cdda-4704-a170-51a3dd3b32ad",
   "metadata": {},
   "outputs": [],
   "source": [
    "# Seed the unpredictability (means all of us should get same random number)\n",
    "# To check or compair the result"
   ]
  },
  {
   "cell_type": "code",
   "execution_count": 28,
   "id": "56f71b0a-fc94-4a5c-b2eb-ebaaed02d75b",
   "metadata": {},
   "outputs": [
    {
     "name": "stdout",
     "output_type": "stream",
     "text": [
      "[0.91910903 0.6421956  0.75371223 0.13931457]\n"
     ]
    }
   ],
   "source": [
    "# Seeding for reproducable results\n",
    "np.random.seed(77)\n",
    "print(np.random.rand(4))           # 4 random numbers"
   ]
  },
  {
   "cell_type": "code",
   "execution_count": 29,
   "id": "9c700b54-8014-4082-864d-e006701e203e",
   "metadata": {},
   "outputs": [],
   "source": [
    "# Sorting"
   ]
  },
  {
   "cell_type": "code",
   "execution_count": 43,
   "id": "d3a19893-1c44-455d-af40-65395b17e21c",
   "metadata": {},
   "outputs": [
    {
     "name": "stdout",
     "output_type": "stream",
     "text": [
      "[ 0  1  2  3  4  5  6  7  8  9 10 11 12 13 14 15 16 17 18 19 20 21 22 23\n",
      " 24]\n",
      "\n",
      " [44 37 26 17 34 25  4 44 35  9]\n"
     ]
    }
   ],
   "source": [
    "arr = np.arange(25)      # Numbers from 0-25\n",
    "print(arr)\n",
    "ranarr = np.random.randint(0,50,10)        # 10 random numbers between 0 - 50\n",
    "print(\"\\n\",ranarr)"
   ]
  },
  {
   "cell_type": "code",
   "execution_count": 44,
   "id": "98e7d931-e65c-4860-a987-63ad7887d21c",
   "metadata": {},
   "outputs": [
    {
     "name": "stdout",
     "output_type": "stream",
     "text": [
      "[[ 0  1  2  3  4]\n",
      " [ 5  6  7  8  9]\n",
      " [10 11 12 13 14]\n",
      " [15 16 17 18 19]\n",
      " [20 21 22 23 24]]\n"
     ]
    }
   ],
   "source": [
    "# Reshape: Returns an array conntaining the same data with a new shape\n",
    "print(arr.reshape(5,5))"
   ]
  },
  {
   "cell_type": "code",
   "execution_count": 45,
   "id": "a414c442-1e6f-4b3a-b9d8-ae4cb91fdd3f",
   "metadata": {},
   "outputs": [],
   "source": [
    "# Max, Min and their index positions"
   ]
  },
  {
   "cell_type": "code",
   "execution_count": 46,
   "id": "78612227-f01c-4063-bbe3-93b425a2f035",
   "metadata": {},
   "outputs": [
    {
     "name": "stdout",
     "output_type": "stream",
     "text": [
      "44\n",
      "0\n",
      "4\n"
     ]
    }
   ],
   "source": [
    "print(ranarr.max())\n",
    "print(ranarr.argmax())\n",
    "print(ranarr.min())\n"
   ]
  },
  {
   "cell_type": "markdown",
   "id": "c6ac9bd0-5034-43c1-89bb-d930ab896503",
   "metadata": {},
   "source": [
    "#  Creating Sample Array"
   ]
  },
  {
   "cell_type": "code",
   "execution_count": 48,
   "id": "9febf588-513b-4158-9579-d7989863e80c",
   "metadata": {},
   "outputs": [
    {
     "name": "stdout",
     "output_type": "stream",
     "text": [
      "[ 0  1  2  3  4  5  6  7  8  9 10]\n"
     ]
    }
   ],
   "source": [
    "arr = np.arange(0,11)\n",
    "print(arr)"
   ]
  },
  {
   "cell_type": "code",
   "execution_count": 49,
   "id": "7b37f960-1a6d-4550-a68a-8d70f781a371",
   "metadata": {},
   "outputs": [
    {
     "name": "stdout",
     "output_type": "stream",
     "text": [
      "8\n"
     ]
    }
   ],
   "source": [
    "# Bracket indexing and selection - similar to python list\n",
    "# Get a value at an index  \n",
    "print(arr[8])"
   ]
  },
  {
   "cell_type": "code",
   "execution_count": 50,
   "id": "367bdaf5-fcd0-405f-8d7c-afdd3beb6e5b",
   "metadata": {},
   "outputs": [
    {
     "name": "stdout",
     "output_type": "stream",
     "text": [
      "[1 2 3 4]\n"
     ]
    }
   ],
   "source": [
    "# Get value in a range\n",
    "print(arr[1:5])"
   ]
  },
  {
   "cell_type": "code",
   "execution_count": 51,
   "id": "ad745a17-34b3-4057-ad80-40ecf76eb038",
   "metadata": {},
   "outputs": [
    {
     "name": "stdout",
     "output_type": "stream",
     "text": [
      "[0 1 2 3 4]\n"
     ]
    }
   ],
   "source": [
    "# Get value in a range\n",
    "print(arr[0:5])"
   ]
  },
  {
   "cell_type": "code",
   "execution_count": 52,
   "id": "4b043464-a0cc-4984-88cc-293e70635d47",
   "metadata": {},
   "outputs": [
    {
     "name": "stdout",
     "output_type": "stream",
     "text": [
      "[100 100 100 100 100   5   6   7   8   9  10]\n"
     ]
    }
   ],
   "source": [
    "# Brodcasting\n",
    "# Setting a valu with index range (Broadcasting)\n",
    "arr[0:5]=100\n",
    "print(arr)"
   ]
  },
  {
   "cell_type": "code",
   "execution_count": 53,
   "id": "41ee6460-e65a-4086-bffd-2ccaaa4659cf",
   "metadata": {},
   "outputs": [
    {
     "name": "stdout",
     "output_type": "stream",
     "text": [
      "[ 1  2  3  4  5  6  7  8  9 10]\n"
     ]
    }
   ],
   "source": [
    "# Reset array \n",
    "arr = np.arange(1,11)\n",
    "print(arr)"
   ]
  },
  {
   "cell_type": "code",
   "execution_count": 54,
   "id": "6ad99bcc-35bd-4111-9013-5aa85c69587f",
   "metadata": {},
   "outputs": [
    {
     "name": "stdout",
     "output_type": "stream",
     "text": [
      "[1 2 3 4 5 6]\n"
     ]
    }
   ],
   "source": [
    "# Important note on Slice\n",
    "slice_of_arr = arr[0:6]\n",
    "print(slice_of_arr)"
   ]
  },
  {
   "cell_type": "code",
   "execution_count": 56,
   "id": "07210001-dd3c-468f-8a81-439e5a253f02",
   "metadata": {},
   "outputs": [
    {
     "name": "stdout",
     "output_type": "stream",
     "text": [
      "[99 99 99 99 99 99]\n",
      "[99 99 99 99 99 99  7  8  9 10]\n"
     ]
    }
   ],
   "source": [
    "# Change Slice\n",
    "slice_of_arr[:] = 99\n",
    "print(slice_of_arr)\n",
    "print(arr)"
   ]
  },
  {
   "cell_type": "code",
   "execution_count": 58,
   "id": "d0d81a39-b1e9-4ada-aede-0356cf16ba3e",
   "metadata": {},
   "outputs": [],
   "source": [
    "# Toget actual copy, we need .copy method()"
   ]
  },
  {
   "cell_type": "code",
   "execution_count": 59,
   "id": "3006b769-65e6-43af-8246-8e1ac2a46cd3",
   "metadata": {},
   "outputs": [
    {
     "name": "stdout",
     "output_type": "stream",
     "text": [
      "[ 1  2  3  4  5  6  7  8  9 10]\n"
     ]
    }
   ],
   "source": [
    "# Conditional Section \n",
    "arr = np.arange(1,11)\n",
    "print(arr)"
   ]
  },
  {
   "cell_type": "code",
   "execution_count": 60,
   "id": "0391da67-ce96-4b1d-ace0-2251cb585914",
   "metadata": {},
   "outputs": [
    {
     "name": "stdout",
     "output_type": "stream",
     "text": [
      "[False False False False  True  True  True  True  True  True]\n"
     ]
    }
   ],
   "source": [
    "# Change made are also in our original array!\n",
    "# Data is not copy, it is a another view of original array!\n",
    "# and False otherwise\n",
    "print(arr>4)"
   ]
  },
  {
   "cell_type": "code",
   "execution_count": 61,
   "id": "0f985466-05e3-49ee-b639-d699c8a9a6e1",
   "metadata": {},
   "outputs": [
    {
     "name": "stdout",
     "output_type": "stream",
     "text": [
      "[False False False False  True  True  True  True  True  True]\n"
     ]
    }
   ],
   "source": [
    "# Store boolen result in another array\n",
    "bool_arr = arr>4\n",
    "print(bool_arr)"
   ]
  },
  {
   "cell_type": "code",
   "execution_count": 70,
   "id": "77e58e37-853f-41ed-aa9c-e01f76a48638",
   "metadata": {},
   "outputs": [
    {
     "name": "stdout",
     "output_type": "stream",
     "text": [
      "[4 5 6 7 8 9]\n"
     ]
    }
   ],
   "source": [
    "# Select only those elements form the arr array where the corresponding elements from in bool_arr is True\n",
    "# It effectively filters out the elements of arr where the condition arr > 4 is True\n",
    "print(arr[bool_arr])"
   ]
  },
  {
   "cell_type": "code",
   "execution_count": null,
   "id": "2d911e32-3c34-493c-b0d8-6d2035a60f8c",
   "metadata": {},
   "outputs": [],
   "source": [
    "# Operatios in NumPy"
   ]
  },
  {
   "cell_type": "code",
   "execution_count": 62,
   "id": "516cf090-4574-4da6-8be5-5bc17407fbb0",
   "metadata": {},
   "outputs": [
    {
     "name": "stdout",
     "output_type": "stream",
     "text": [
      "[0 1 2 3 4 5 6 7 8 9]\n"
     ]
    }
   ],
   "source": [
    "arr = np.arange(0,10)\n",
    "print(arr)"
   ]
  },
  {
   "cell_type": "code",
   "execution_count": 63,
   "id": "7a3db47c-701e-4835-a412-4c753ca0ac62",
   "metadata": {},
   "outputs": [
    {
     "name": "stdout",
     "output_type": "stream",
     "text": [
      "[ 0  2  4  6  8 10 12 14 16 18]\n",
      "[ 0  1  4  9 16 25 36 49 64 81]\n",
      "[0 0 0 0 0 0 0 0 0 0]\n"
     ]
    }
   ],
   "source": [
    "# Basic Arethmatic\n",
    "print(arr + arr)\n",
    "print(arr * arr)\n",
    "print(arr - arr)"
   ]
  },
  {
   "cell_type": "code",
   "execution_count": 64,
   "id": "32cc9a02-aaef-4bcb-98cf-59d1b216ee12",
   "metadata": {},
   "outputs": [
    {
     "name": "stdout",
     "output_type": "stream",
     "text": [
      "[nan  1.  1.  1.  1.  1.  1.  1.  1.  1.]\n"
     ]
    },
    {
     "name": "stderr",
     "output_type": "stream",
     "text": [
      "C:\\Users\\DAI.STUDENTSDC\\AppData\\Local\\Temp\\ipykernel_4808\\135280326.py:3: RuntimeWarning: invalid value encountered in divide\n",
      "  print(arr/arr)\n"
     ]
    }
   ],
   "source": [
    "# This will raise a warning on division by zeros, but not an error! \n",
    "# It just  fill the spot with nan\n",
    "print(arr/arr)"
   ]
  },
  {
   "cell_type": "code",
   "execution_count": 65,
   "id": "6384d136-4eba-4a17-a3ce-284b8142cd7f",
   "metadata": {},
   "outputs": [
    {
     "name": "stdout",
     "output_type": "stream",
     "text": [
      "[       inf 1.         0.5        0.33333333 0.25       0.2\n",
      " 0.16666667 0.14285714 0.125      0.11111111]\n",
      "[  0   1   8  27  64 125 216 343 512 729]\n"
     ]
    },
    {
     "name": "stderr",
     "output_type": "stream",
     "text": [
      "C:\\Users\\DAI.STUDENTSDC\\AppData\\Local\\Temp\\ipykernel_4808\\2341962743.py:2: RuntimeWarning: divide by zero encountered in divide\n",
      "  print(1/arr)\n"
     ]
    }
   ],
   "source": [
    "# Also  waring (but not an error)  relating to infinity\n",
    "print(1/arr)\n",
    "print(arr**3)"
   ]
  },
  {
   "cell_type": "code",
   "execution_count": 66,
   "id": "62b561b0-7135-4c80-9d07-242d813e7e8f",
   "metadata": {},
   "outputs": [
    {
     "name": "stdout",
     "output_type": "stream",
     "text": [
      "[0.         1.         1.41421356 1.73205081 2.         2.23606798\n",
      " 2.44948974 2.64575131 2.82842712 3.        ]\n",
      "[1.00000000e+00 2.71828183e+00 7.38905610e+00 2.00855369e+01\n",
      " 5.45981500e+01 1.48413159e+02 4.03428793e+02 1.09663316e+03\n",
      " 2.98095799e+03 8.10308393e+03]\n",
      "[ 0.          0.84147098  0.90929743  0.14112001 -0.7568025  -0.95892427\n",
      " -0.2794155   0.6569866   0.98935825  0.41211849]\n",
      "[      -inf 0.         0.69314718 1.09861229 1.38629436 1.60943791\n",
      " 1.79175947 1.94591015 2.07944154 2.19722458]\n"
     ]
    },
    {
     "name": "stderr",
     "output_type": "stream",
     "text": [
      "C:\\Users\\DAI.STUDENTSDC\\AppData\\Local\\Temp\\ipykernel_4808\\2742828541.py:5: RuntimeWarning: divide by zero encountered in log\n",
      "  print(np.log(arr))\n"
     ]
    }
   ],
   "source": [
    "# Universal function\n",
    "print(np.sqrt(arr))\n",
    "print(np.exp(arr))\n",
    "print(np.sin(arr))\n",
    "print(np.log(arr))"
   ]
  },
  {
   "cell_type": "code",
   "execution_count": 67,
   "id": "efd389ae-f7aa-42a4-9c5e-4d59b52dc0d7",
   "metadata": {},
   "outputs": [
    {
     "name": "stdout",
     "output_type": "stream",
     "text": [
      "45\n",
      "4.5\n",
      "9\n",
      "0\n",
      "8.25\n",
      "2.8722813232690143\n"
     ]
    }
   ],
   "source": [
    "# Summary Statistics\n",
    "print(arr.sum())\n",
    "print(arr.mean())\n",
    "print(arr.max())\n",
    "print(arr.min())\n",
    "print(arr.var())\n",
    "print(arr.std())"
   ]
  },
  {
   "cell_type": "code",
   "execution_count": 68,
   "id": "f29508e6-98e7-426f-8836-292e21369052",
   "metadata": {},
   "outputs": [],
   "source": [
    "# 2D array"
   ]
  },
  {
   "cell_type": "code",
   "execution_count": 69,
   "id": "7e934354-8901-48a8-bbef-0da771a6ec09",
   "metadata": {},
   "outputs": [
    {
     "name": "stdout",
     "output_type": "stream",
     "text": [
      "[[ 1  2  3  4]\n",
      " [ 5  6  7  8]\n",
      " [ 9 10 11 12]]\n"
     ]
    }
   ],
   "source": [
    "# This is a 2- Dimentional array with 3 rows and 4 coloumns\n",
    "arr_2d = np.array([[1,2,3,4,],[5,6,7,8],[9,10,11,12]])\n",
    "print(arr_2d)"
   ]
  },
  {
   "cell_type": "code",
   "execution_count": 71,
   "id": "6b7cc858-8ea4-4238-9501-67c245cb3ec0",
   "metadata": {},
   "outputs": [
    {
     "name": "stdout",
     "output_type": "stream",
     "text": [
      "(3, 4)\n"
     ]
    }
   ],
   "source": [
    "# Row and Column count\n",
    "print(arr_2d.shape)"
   ]
  },
  {
   "cell_type": "code",
   "execution_count": 73,
   "id": "6d939474-7c81-439b-86cc-ba59753c6cb3",
   "metadata": {},
   "outputs": [
    {
     "name": "stdout",
     "output_type": "stream",
     "text": [
      "[15 18 21 24]\n"
     ]
    }
   ],
   "source": [
    "# Sum all the rows for each row \n",
    "print(arr_2d.sum(axis=0))"
   ]
  },
  {
   "cell_type": "code",
   "execution_count": 74,
   "id": "08e75e98-393c-48c5-b147-c039cd35c6fa",
   "metadata": {},
   "outputs": [
    {
     "name": "stdout",
     "output_type": "stream",
     "text": [
      "[10 26 42]\n"
     ]
    }
   ],
   "source": [
    "# Sum all the columns for each column\n",
    "print(arr_2d.sum(axis=1))"
   ]
  },
  {
   "cell_type": "code",
   "execution_count": null,
   "id": "2d3f3343-b47e-4206-b2c5-17c41221f97a",
   "metadata": {},
   "outputs": [],
   "source": []
  }
 ],
 "metadata": {
  "kernelspec": {
   "display_name": "Python 3 (ipykernel)",
   "language": "python",
   "name": "python3"
  },
  "language_info": {
   "codemirror_mode": {
    "name": "ipython",
    "version": 3
   },
   "file_extension": ".py",
   "mimetype": "text/x-python",
   "name": "python",
   "nbconvert_exporter": "python",
   "pygments_lexer": "ipython3",
   "version": "3.12.4"
  }
 },
 "nbformat": 4,
 "nbformat_minor": 5
}
