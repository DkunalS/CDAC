{
 "cells": [
  {
   "cell_type": "code",
   "execution_count": 267,
   "id": "136749b0-2391-403a-9dd0-f4a3ab5ca384",
   "metadata": {},
   "outputs": [],
   "source": [
    "import pandas as pd\n",
    "import numpy as np"
   ]
  },
  {
   "cell_type": "raw",
   "id": "bcbfb650-c2fe-4ca4-a0d3-eb66a62fb18e",
   "metadata": {},
   "source": [
    "1. Write a Pandas program to create and display a one-dimensional array-like object containing an array of data using Pandas module"
   ]
  },
  {
   "cell_type": "code",
   "execution_count": 268,
   "id": "e59d162e-be40-43b6-9ab4-8a33e6548e59",
   "metadata": {},
   "outputs": [
    {
     "data": {
      "text/plain": [
       "0    1\n",
       "1    2\n",
       "2    3\n",
       "3    4\n",
       "4    5\n",
       "dtype: int32"
      ]
     },
     "execution_count": 268,
     "metadata": {},
     "output_type": "execute_result"
    }
   ],
   "source": [
    "a = np.array([1,2,3,4,5])\n",
    "a = pd.Series(a)\n",
    "a"
   ]
  },
  {
   "cell_type": "raw",
   "id": "2f1f03f9-1795-400e-a47b-0250f168d0c5",
   "metadata": {},
   "source": [
    "2. Write a Pandas program to convert a Panda module Series to Python list and it's type."
   ]
  },
  {
   "cell_type": "code",
   "execution_count": 301,
   "id": "674032c1-8d83-41bc-a234-4d328ccdc47f",
   "metadata": {},
   "outputs": [
    {
     "data": {
      "text/plain": [
       "[2, 4, 6, 8, 10]"
      ]
     },
     "execution_count": 301,
     "metadata": {},
     "output_type": "execute_result"
    }
   ],
   "source": [
    "list = a.tolist()\n",
    "list"
   ]
  },
  {
   "cell_type": "raw",
   "id": "7d48ea82-29c3-4650-84bc-f1849359232a",
   "metadata": {},
   "source": [
    "3. Write a Pandas program to add, subtract, multiple and divide two Pandas Series\n",
    "Sample Series: [2, 4, 6, 8, 10], [1, 3, 5, 7, 9]"
   ]
  },
  {
   "cell_type": "code",
   "execution_count": 302,
   "id": "05ec5887-bbe3-4777-9c1e-7e7a78c13f42",
   "metadata": {},
   "outputs": [
    {
     "name": "stdout",
     "output_type": "stream",
     "text": [
      "0     3\n",
      "1     7\n",
      "2    11\n",
      "3    15\n",
      "4    19\n",
      "dtype: int64 \n",
      "\n",
      "0    1\n",
      "1    1\n",
      "2    1\n",
      "3    1\n",
      "4    1\n",
      "dtype: int64 \n",
      "\n",
      "0     2\n",
      "1    12\n",
      "2    30\n",
      "3    56\n",
      "4    90\n",
      "dtype: int64 \n",
      "\n",
      "0    2.000000\n",
      "1    1.333333\n",
      "2    1.200000\n",
      "3    1.142857\n",
      "4    1.111111\n",
      "dtype: float64 \n",
      "\n"
     ]
    }
   ],
   "source": [
    "a = pd.Series([2, 4, 6, 8, 10])\n",
    "b =  pd.Series([1, 3, 5, 7, 9])\n",
    "\n",
    "# Addition\n",
    "add = pd.Series.add(a,b)\n",
    "print(add,\"\\n\")\n",
    "\n",
    "# Subtraction\n",
    "sub = pd.Series.sub(a,b)\n",
    "print(sub,\"\\n\")\n",
    "\n",
    "# Multiplication\n",
    "mul = pd.Series.mul(a,b)\n",
    "print(mul,\"\\n\")\n",
    "\n",
    "# Division\n",
    "div = pd.Series.div(a,b)\n",
    "print(div,\"\\n\")"
   ]
  },
  {
   "cell_type": "raw",
   "id": "78ff30d0-0f1d-4c7b-ba41-2f3b24a86dea",
   "metadata": {},
   "source": [
    "4. Write a Pandas program to compare the elements of the two Pandas Series.\n",
    "Sample Series: [2, 4, 6, 8, 10], [1, 3, 5, 7, 10]"
   ]
  },
  {
   "cell_type": "code",
   "execution_count": 303,
   "id": "551ee1f3-452e-42d4-a003-f5f90eb91678",
   "metadata": {},
   "outputs": [
    {
     "data": {
      "text/html": [
       "<div>\n",
       "<style scoped>\n",
       "    .dataframe tbody tr th:only-of-type {\n",
       "        vertical-align: middle;\n",
       "    }\n",
       "\n",
       "    .dataframe tbody tr th {\n",
       "        vertical-align: top;\n",
       "    }\n",
       "\n",
       "    .dataframe thead th {\n",
       "        text-align: right;\n",
       "    }\n",
       "</style>\n",
       "<table border=\"1\" class=\"dataframe\">\n",
       "  <thead>\n",
       "    <tr style=\"text-align: right;\">\n",
       "      <th></th>\n",
       "      <th>self</th>\n",
       "      <th>other</th>\n",
       "    </tr>\n",
       "  </thead>\n",
       "  <tbody>\n",
       "    <tr>\n",
       "      <th>0</th>\n",
       "      <td>2.0</td>\n",
       "      <td>1.0</td>\n",
       "    </tr>\n",
       "    <tr>\n",
       "      <th>1</th>\n",
       "      <td>4.0</td>\n",
       "      <td>3.0</td>\n",
       "    </tr>\n",
       "    <tr>\n",
       "      <th>2</th>\n",
       "      <td>6.0</td>\n",
       "      <td>5.0</td>\n",
       "    </tr>\n",
       "    <tr>\n",
       "      <th>3</th>\n",
       "      <td>8.0</td>\n",
       "      <td>7.0</td>\n",
       "    </tr>\n",
       "  </tbody>\n",
       "</table>\n",
       "</div>"
      ],
      "text/plain": [
       "   self  other\n",
       "0   2.0    1.0\n",
       "1   4.0    3.0\n",
       "2   6.0    5.0\n",
       "3   8.0    7.0"
      ]
     },
     "execution_count": 303,
     "metadata": {},
     "output_type": "execute_result"
    }
   ],
   "source": [
    "a = pd.Series([2, 4, 6, 8, 10])\n",
    "b =  pd.Series([1, 3, 5, 7, 10])\n",
    "\n",
    "comp = a.compare(b)\n",
    "comp"
   ]
  },
  {
   "cell_type": "raw",
   "id": "a91c1125-97c7-48a3-98e5-928af086167b",
   "metadata": {},
   "source": [
    "5. Write a Pandas program to convert a dictionary to a Pandas series.\n",
    "Sample Series: \n",
    "    riginal dictionary:\n",
    "        {'a': 100, 'b': 200, 'c': 300, 'd': 400, 'e': 800}\n",
    "        Converted series:\n",
    "        a 100\n",
    "        b 200\n",
    "        c 300\n",
    "        d 400\n",
    "        e 800\n",
    "        dtype: int64"
   ]
  },
  {
   "cell_type": "code",
   "execution_count": 304,
   "id": "4988a745-f8fc-4019-99c3-91695911a05b",
   "metadata": {},
   "outputs": [
    {
     "data": {
      "text/plain": [
       "a    100\n",
       "b    200\n",
       "c    300\n",
       "d    400\n",
       "e    800\n",
       "dtype: int64"
      ]
     },
     "execution_count": 304,
     "metadata": {},
     "output_type": "execute_result"
    }
   ],
   "source": [
    "a = {'a': 100, 'b': 200, 'c': 300, 'd': 400, 'e': 800}\n",
    "b = pd.Series(a)\n",
    "b"
   ]
  },
  {
   "cell_type": "raw",
   "id": "d9b62704-c176-45ee-b53b-d639ec261028",
   "metadata": {},
   "source": [
    "6. Write a Pandas program to convert a NumPy array to a Pandas series.\n",
    "Sample Series: \n",
    "         NumPy array:\n",
    "        [10 20 30 40 50]\n",
    "        Converted Pandas series:\n",
    "        0 10\n",
    "        1 20\n",
    "        2 30\n",
    "        3 40\n",
    "        4 50\n",
    "        dtype: int64"
   ]
  },
  {
   "cell_type": "code",
   "execution_count": 305,
   "id": "957b37a3-affd-444d-a20e-d230372209a0",
   "metadata": {},
   "outputs": [
    {
     "data": {
      "text/plain": [
       "0    10\n",
       "1    20\n",
       "2    30\n",
       "3    40\n",
       "4    50\n",
       "dtype: int32"
      ]
     },
     "execution_count": 305,
     "metadata": {},
     "output_type": "execute_result"
    }
   ],
   "source": [
    "a = np.array([10,20,30,40,50])\n",
    "b = pd.Series(a)\n",
    "b"
   ]
  },
  {
   "cell_type": "raw",
   "id": "14f2bb7e-fdae-463e-bde1-910af6888936",
   "metadata": {},
   "source": [
    "7. Write a Pandas program to change the data type of given a column or a \n",
    "Series.\n",
    "        Sample Series: \n",
    "         Original Data Series:\n",
    "        0 100\n",
    "        1 200\n",
    "        2 python\n",
    "        3 300.12\n",
    "        4 400\n",
    "        dtype: object\n",
    "        Change the said data type to numeric:\n",
    "        0 100.00\n",
    "        1 200.00\n",
    "        2 NaN\n",
    "        3 300.12\n",
    "        4 400.00\n",
    "        dtype: float64"
   ]
  },
  {
   "cell_type": "code",
   "execution_count": 306,
   "id": "787755b3-b790-4e4e-8dc5-a28741e1809a",
   "metadata": {},
   "outputs": [
    {
     "data": {
      "text/plain": [
       "0    100.00\n",
       "1    200.00\n",
       "2       NaN\n",
       "3    300.12\n",
       "4    400.00\n",
       "dtype: float64"
      ]
     },
     "execution_count": 306,
     "metadata": {},
     "output_type": "execute_result"
    }
   ],
   "source": [
    "os = pd.Series({ 0 : 100, 1 : 200, 2 : 'python', 3 : 300.12, 4 : 400})\n",
    "pd.to_numeric(os,errors='coerce')"
   ]
  },
  {
   "cell_type": "raw",
   "id": "128c0d28-5e9b-43d6-82ff-55523624d37f",
   "metadata": {},
   "source": [
    "8. Write a Pandas program to convert the first column of a DataFrame as a \n",
    "Series.\n",
    "        Sample Output: \n",
    "        Original DataFrame\n",
    "         col1 col2 col3\n",
    "      0    1   4    7\n",
    "      1    2   5    5\n",
    "      2    3   6    8\n",
    "      3    4   9    12\n",
    "      4    7   5    1\n",
    "      5    11  0    11\n",
    "        1st column as a Series:\n",
    "          0   1\n",
    "          1   2\n",
    "          2   3\n",
    "          3   4\n",
    "          4   7\n",
    "          5   11\n",
    "        Name: col1, dtype: int64\n",
    "        <class 'pandas.core.series.Series'>"
   ]
  },
  {
   "cell_type": "code",
   "execution_count": 307,
   "id": "83aa9d5f-f22d-4056-b315-861285fcead2",
   "metadata": {},
   "outputs": [
    {
     "data": {
      "text/plain": [
       "0     1\n",
       "1     2\n",
       "2     3\n",
       "3     4\n",
       "4     7\n",
       "5    11\n",
       "Name: col1, dtype: int64"
      ]
     },
     "execution_count": 307,
     "metadata": {},
     "output_type": "execute_result"
    }
   ],
   "source": [
    "a = pd.DataFrame({'col1':[1,2,3,4,7,11],'col2':[2,5,6,9,5,0],'col3':[7,5,8,12,1,11]})\n",
    "a = pd.Series(a['col1'])\n",
    "a"
   ]
  },
  {
   "cell_type": "raw",
   "id": "0f7357a9-0f16-42a7-a77f-4c7e256a721a",
   "metadata": {},
   "source": [
    "9. Write a Pandas program to convert a given Series to an array.\n",
    "        Sample Output: \n",
    "        Original Data Series:\n",
    "        0 100\n",
    "        1 200\n",
    "        2 python\n",
    "        3 300.12\n",
    "        4 400\n",
    "        dtype: object\n",
    "        Series to an array\n",
    "        ['100' '200' 'python' '300.12' '400']\n",
    "        <class 'numpy.ndarray'>"
   ]
  },
  {
   "cell_type": "code",
   "execution_count": 308,
   "id": "ced82ef0-6a7d-447c-8302-b1153a43a5ad",
   "metadata": {},
   "outputs": [
    {
     "data": {
      "text/plain": [
       "<NumpyExtensionArray>\n",
       "[100, 200, 'python', 300.12, 400]\n",
       "Length: 5, dtype: object"
      ]
     },
     "execution_count": 308,
     "metadata": {},
     "output_type": "execute_result"
    }
   ],
   "source": [
    "a = pd.Series({ 0 : 100, 1 : 200, 2 : 'python', 3 : 300.12, 4 : 400})\n",
    "a = pd.array(a)\n",
    "a"
   ]
  },
  {
   "cell_type": "raw",
   "id": "9f001c83-8f31-42c8-9575-47a086b5757f",
   "metadata": {},
   "source": [
    "10. Write a Pandas program to convert Series of lists to one Series.\n",
    "Sample Output: \n",
    "        Original Series of list\n",
    "        0 [Red, Green, White]\n",
    "        1 [Red, Black]\n",
    "        2 [Yellow]\n",
    "        dtype: object\n",
    "        One Series\n",
    "        0 Red\n",
    "        1 Green\n",
    "        2 White\n",
    "        3 Red\n",
    "        4 Black\n",
    "        5 Yellow\n",
    "        dtype: object"
   ]
  },
  {
   "cell_type": "code",
   "execution_count": 309,
   "id": "7e3feda9-2f98-4bdf-ad58-a500f036b17a",
   "metadata": {},
   "outputs": [
    {
     "data": {
      "text/plain": [
       "0       Red\n",
       "0     Green\n",
       "0     White\n",
       "1       Red\n",
       "1     Black\n",
       "2    Yellow\n",
       "dtype: object"
      ]
     },
     "execution_count": 309,
     "metadata": {},
     "output_type": "execute_result"
    }
   ],
   "source": [
    "a = pd.Series({0:['Red', 'Green', 'White'], 1:['Red', 'Black'], 2:['Yellow']})\n",
    "b = a.explode()\n",
    "b"
   ]
  },
  {
   "cell_type": "raw",
   "id": "2cbeacc1-e752-4f09-941d-d850cc491f40",
   "metadata": {},
   "source": [
    "11. Write a Pandas program to sort a given Series.\n",
    "Sample Output:\n",
    "        Original Data Series:\n",
    "        0 100\n",
    "        1 200\n",
    "        2 python\n",
    "        3 300.12\n",
    "        4 400\n",
    "        dtype: object\n",
    "        0 100\n",
    "        1 200\n",
    "        3 300.12\n",
    "        4 400\n",
    "        2 python\n",
    "        dtype: object"
   ]
  },
  {
   "cell_type": "code",
   "execution_count": 310,
   "id": "9429e925-3dad-4035-8677-f17494c11160",
   "metadata": {},
   "outputs": [
    {
     "data": {
      "text/plain": [
       "0    python\n",
       "1    300.12\n",
       "2       400\n",
       "3       100\n",
       "dtype: object"
      ]
     },
     "execution_count": 310,
     "metadata": {},
     "output_type": "execute_result"
    }
   ],
   "source": [
    "a = pd.Series({ 3:100, 1:200, 0:'python', 1:300.12, 2:400})\n",
    "a.sort_index()"
   ]
  },
  {
   "cell_type": "raw",
   "id": "25578433-0d91-4ca6-830b-3cf5c981b8ce",
   "metadata": {},
   "source": [
    "12. Write a Pandas program to add some data to an existing Series.\n",
    "Sample Output: \n",
    "        Original Data Series:\n",
    "        0 100\n",
    "        1 200\n",
    "        2 python\n",
    "        3 300.12\n",
    "        4 400\n",
    "        dtype: object\n",
    "        Data Series after adding some data:\n",
    "        0 100\n",
    "        1 200\n",
    "        2 python\n",
    "        3 300.12\n",
    "        4 400\n",
    "        5 500\n",
    "        6 php\n",
    "        dtype: object"
   ]
  },
  {
   "cell_type": "code",
   "execution_count": 311,
   "id": "6b979178-003b-4116-87d8-d418af585747",
   "metadata": {},
   "outputs": [
    {
     "data": {
      "text/plain": [
       "0       100\n",
       "1       200\n",
       "2    python\n",
       "3    300.12\n",
       "4       400\n",
       "5       500\n",
       "6       php\n",
       "dtype: object"
      ]
     },
     "execution_count": 311,
     "metadata": {},
     "output_type": "execute_result"
    }
   ],
   "source": [
    "a = pd.Series({ 0 : 100, 1 : 200, 2 : 'python', 3 : 300.12, 4 : 400})\n",
    "a[len(a)] = 500\n",
    "a[len(a)] = 'php'\n",
    "a"
   ]
  },
  {
   "cell_type": "raw",
   "id": "c46ce32c-3b97-49e3-9bd5-7c7cff40ba57",
   "metadata": {},
   "source": [
    "13. Write a Pandas program to create a subset of a given series based on value and \n",
    "condition.\n",
    "Sample Output:\n",
    "        Original Data Series:\n",
    "        0 0\n",
    "        1 1\n",
    "        2 2\n",
    "        ....\n",
    "        9 9\n",
    "        10 10\n",
    "        dtype: int64\n",
    "        Subset of the above Data Series:\n",
    "        0 0\n",
    "        1 1\n",
    "        2 2\n",
    "        3 3\n",
    "        4 4\n",
    "        5 5\n",
    "        dtype: int64\n"
   ]
  },
  {
   "cell_type": "code",
   "execution_count": 312,
   "id": "65f75635-771a-4042-961b-9b620fe0ed7a",
   "metadata": {},
   "outputs": [
    {
     "data": {
      "text/plain": [
       "0    0\n",
       "1    1\n",
       "2    2\n",
       "3    3\n",
       "4    4\n",
       "5    5\n",
       "dtype: int64"
      ]
     },
     "execution_count": 312,
     "metadata": {},
     "output_type": "execute_result"
    }
   ],
   "source": [
    "a = pd.Series({ 0:0, 1:1, 2:2, 3:3, 4:4, 5:5, 6:6, 7:7, 8:8, 9:9, 10:10})\n",
    "a = a[a<6]\n",
    "a"
   ]
  },
  {
   "cell_type": "raw",
   "id": "e23c9917-8cce-47f6-ab1b-96126fb7d6fa",
   "metadata": {},
   "source": [
    "14. Write a Pandas program to change the order of index of a given series.\n",
    "Sample Output:\n",
    "        Original Data Series:\n",
    "        A 1\n",
    "        B 2\n",
    "        C 3\n",
    "        D 4\n",
    "        E 5\n",
    "        dtype: int64\n",
    "        Data Series after changing the order of index:\n",
    "        B 2\n",
    "        A 1\n",
    "        C 3\n",
    "        D 4\n",
    "        E 5\n",
    "        dtype: int64"
   ]
  },
  {
   "cell_type": "code",
   "execution_count": 313,
   "id": "96d3db66-f17a-4aa8-91ba-3c995a995cc3",
   "metadata": {},
   "outputs": [
    {
     "data": {
      "text/plain": [
       "A    1\n",
       "C    3\n",
       "D    4\n",
       "B    2\n",
       "E    5\n",
       "dtype: int64"
      ]
     },
     "execution_count": 313,
     "metadata": {},
     "output_type": "execute_result"
    }
   ],
   "source": [
    "a = pd.Series({ 'A':1, 'B':2, 'C':3, 'D':4, 'E':5})\n",
    "pd.Series.to_frame(a)\n",
    "a.sample(5)"
   ]
  },
  {
   "cell_type": "raw",
   "id": "f69f6283-807d-411c-a54b-918ec46f6320",
   "metadata": {},
   "source": [
    "15. Write a Pandas program to create the mean and standard deviation of the data of a given Series.\n",
    "Sample Output:\n",
    "        Original Data Series:\n",
    "        0 1\n",
    "        1 2\n",
    "        2 3\n",
    "        ....\n",
    "        7 8\n",
    "        8 9\n",
    "        9 5\n",
    "        10 3\n",
    "        dtype: int64\n",
    "        Mean of the said Data Series:\n",
    "        4.818181818181818\n",
    "        Standard deviation of the said Data Series:\n",
    "        2.522624895547565"
   ]
  },
  {
   "cell_type": "code",
   "execution_count": 314,
   "id": "06b4aa46-4fdf-49cc-8ecc-0f5f3e68ce5f",
   "metadata": {},
   "outputs": [
    {
     "name": "stdout",
     "output_type": "stream",
     "text": [
      "4.818181818181818\n",
      "2.522624895547565\n"
     ]
    }
   ],
   "source": [
    "a = pd.Series({0:1,1:2,2:3,3:4,4:5,5:6,6:7,7:8,8:9,9:5,10:3})\n",
    "print(a.mean())\n",
    "print(a.std())"
   ]
  },
  {
   "cell_type": "raw",
   "id": "d25af3bc-4c8e-49be-a784-47368c6759bf",
   "metadata": {},
   "source": [
    "16. Write a Pandas program to get the items of a given series not present in another given series.\n",
    "Sample Output: \n",
    "        Original Series:\n",
    "        sr1:\n",
    "        0 1\n",
    "        1 2\n",
    "        2 3\n",
    "        3 4\n",
    "        4 5\n",
    "        dtype: int64\n",
    "        sr2:\n",
    "        0 2\n",
    "        1 4\n",
    "        2 6\n",
    "        3 8\n",
    "        4 10\n",
    "        dtype: int64\n",
    "        Items of sr1 not present in sr2:\n",
    "        0 1\n",
    "        2 3\n",
    "        4 5\n",
    "        dtype: int64"
   ]
  },
  {
   "cell_type": "code",
   "execution_count": 315,
   "id": "f6060b8f-4d16-4116-92db-1d7bc2634cbf",
   "metadata": {},
   "outputs": [
    {
     "data": {
      "text/plain": [
       "0    1\n",
       "2    3\n",
       "4    5\n",
       "dtype: int64"
      ]
     },
     "execution_count": 315,
     "metadata": {},
     "output_type": "execute_result"
    }
   ],
   "source": [
    "a = pd.Series({0:1, 1:2, 2:3, 3:4, 4:5})\n",
    "b = pd.Series({0:2, 1:4, 2:6, 3:8, 4:10})\n",
    "a = a[~a.isin(b)]\n",
    "a"
   ]
  },
  {
   "cell_type": "raw",
   "id": "1b4f86eb-a365-4109-be5b-050b9f8eba93",
   "metadata": {},
   "source": [
    "17. Write a Pandas program to get the items which are not common of two given series.\n",
    "Sample Output: \n",
    "        Original Series:\n",
    "        sr1: \n",
    "        0 1 \n",
    "        1 2 \n",
    "        2 3 \n",
    "        3 4 \n",
    "        4 5\n",
    "        dtype: int64\n",
    "        sr2:\n",
    "        0 2\n",
    "        1 4 \n",
    "        2 6 \n",
    "        3 8\n",
    "        4 10 \n",
    "        dtype: int64 \n",
    "        Items of a given series not present in another given series: \n",
    "        0 1 \n",
    "        2 3 \n",
    "        4 5 \n",
    "        5 6 \n",
    "        6 8\n",
    "        7 10\n",
    "        dtype: int64"
   ]
  },
  {
   "cell_type": "code",
   "execution_count": 316,
   "id": "05e361ff-0ae8-4498-b4aa-a085737b78b6",
   "metadata": {},
   "outputs": [
    {
     "data": {
      "text/plain": [
       "0     1\n",
       "2     3\n",
       "4     5\n",
       "2     6\n",
       "3     8\n",
       "4    10\n",
       "dtype: int64"
      ]
     },
     "execution_count": 316,
     "metadata": {},
     "output_type": "execute_result"
    }
   ],
   "source": [
    "a = pd.Series({0:1, 1:2, 2:3, 3:4, 4:5})\n",
    "b = pd.Series({0:2, 1:4, 2:6, 3:8, 4:10})\n",
    "x = a[~(a.isin(b))]\n",
    "y = b[~(b.isin(a))]\n",
    "pd.concat((x,y))"
   ]
  },
  {
   "cell_type": "raw",
   "id": "0177d78c-0773-4a81-a28e-6fffe5d3d8e9",
   "metadata": {},
   "source": [
    "18. Write a Pandas program to compute the minimum, 25th percentile, median, 75th, and \n",
    "maximum of a given series.\n",
    "Sample Output:\n",
    "        Original Series:\n",
    "        0 3.000938\n",
    "        1 11.370722\n",
    "        2 14.612143\n",
    "        ....\n",
    "        17 14.118931\n",
    "        18 8.247458\n",
    "        19 5.526727\n",
    "        dtype: float64\n",
    "        Minimum, 25th percentile, median, 75th, and maximum of a given series:\n",
    "        [ 3.00093811 8.09463867 10.23353705 12.21537733 14.61214321]"
   ]
  },
  {
   "cell_type": "code",
   "execution_count": 317,
   "id": "41ba3f6a-0d39-4939-9af7-188b842790bd",
   "metadata": {},
   "outputs": [
    {
     "name": "stdout",
     "output_type": "stream",
     "text": [
      "Original 0     28.399663\n",
      "1      2.874901\n",
      "2     18.658935\n",
      "3     24.154222\n",
      "4     16.120835\n",
      "5     10.651841\n",
      "6      0.086075\n",
      "7     27.782702\n",
      "8     12.779760\n",
      "9      2.370566\n",
      "10    27.333739\n",
      "11    15.243497\n",
      "12    10.222605\n",
      "13    22.166384\n",
      "14    13.038997\n",
      "15    18.904024\n",
      "16    18.036332\n",
      "17    25.479405\n",
      "18    28.894527\n",
      "19     7.585130\n",
      "dtype: float64\n",
      "====================================\n",
      "Minimum            0.08607512709899234\n",
      "25% Percentile     10.544531707584463\n",
      "Median             17.078583337272654\n",
      "75% Percentile     24.4855179989842\n",
      "Maximum            28.89452670897019\n"
     ]
    }
   ],
   "source": [
    "a = pd.Series(np.random.ranf(20)*30, index = np.arange(0,20))\n",
    "print(\"Original\",a)\n",
    "print(\"====================================\")\n",
    "print(\"Minimum           \",a.min())\n",
    "print(\"25% Percentile    \",a.quantile(0.25))\n",
    "print(\"Median            \",a.median())\n",
    "print(\"75% Percentile    \",a.quantile(0.75))\n",
    "print(\"Maximum           \",a.max())"
   ]
  },
  {
   "cell_type": "raw",
   "id": "523888cc-424e-4822-bd9a-96ad58a92c61",
   "metadata": {},
   "source": [
    "19. Write a Pandas program to calculate the frequency counts of each unique value of a \n",
    "given series.\n",
    "Sample Output:\n",
    "        Original Series:\n",
    "        0 1\n",
    "        1 7\n",
    "        2 1\n",
    "        3 6\n",
    "        ...\n",
    "        37 0\n",
    "        38 4\n",
    "        39 8\n",
    "        dtype: object\n",
    "        Frequency of each unique value of the said series.\n",
    "        0 9\n",
    "        2 7\n",
    "        9 6\n",
    "        ....\n",
    "        3 2\n",
    "        4 1\n",
    "        5 1\n",
    "        dtype: int64"
   ]
  },
  {
   "cell_type": "code",
   "execution_count": 318,
   "id": "6d5c5ee0-db0a-4930-b52b-49e3fec1dca0",
   "metadata": {},
   "outputs": [
    {
     "name": "stdout",
     "output_type": "stream",
     "text": [
      "Original Series:\n",
      "0     1\n",
      "1     7\n",
      "2     1\n",
      "3     6\n",
      "4     0\n",
      "5     4\n",
      "6     8\n",
      "7     0\n",
      "8     2\n",
      "9     9\n",
      "10    2\n",
      "11    3\n",
      "12    2\n",
      "13    1\n",
      "14    9\n",
      "15    3\n",
      "16    0\n",
      "17    4\n",
      "18    9\n",
      "19    5\n",
      "20    1\n",
      "21    6\n",
      "22    8\n",
      "23    2\n",
      "24    3\n",
      "25    4\n",
      "26    2\n",
      "27    1\n",
      "28    7\n",
      "29    0\n",
      "30    4\n",
      "31    8\n",
      "32    9\n",
      "33    1\n",
      "34    2\n",
      "35    3\n",
      "36    3\n",
      "37    0\n",
      "38    1\n",
      "39    9\n",
      "dtype: int64\n",
      "\n",
      "Frequency of each unique value of the said series:\n",
      "1    7\n",
      "2    6\n",
      "0    5\n",
      "9    5\n",
      "3    5\n",
      "4    4\n",
      "8    3\n",
      "7    2\n",
      "6    2\n",
      "5    1\n",
      "Name: count, dtype: int64\n"
     ]
    }
   ],
   "source": [
    "data = [1, 7, 1, 6, 0, 4, 8, 0, 2, 9, 2, 3, 2, 1, 9, 3, 0, 4, 9, 5, 1, 6, 8, 2, 3, 4, 2, 1, 7, 0, 4, 8, 9, 1, 2, 3, 3, 0, 1, 9]\n",
    "series = pd.Series(data)\n",
    "print(\"Original Series:\")\n",
    "print(series)\n",
    "\n",
    "frequency_counts = series.value_counts()\n",
    "print(\"\\nFrequency of each unique value of the said series:\")\n",
    "print(frequency_counts)"
   ]
  },
  {
   "cell_type": "raw",
   "id": "394a74bb-8ec8-4c5c-9ddb-0bcb3f40c275",
   "metadata": {},
   "source": [
    "20. Write a Pandas program to display most frequent value in a given series and replace \n",
    "everything else as 'Other' in the series.\n",
    "Sample Output:\n",
    "        Original Series:\n",
    "        0 3\n",
    "        1 1\n",
    "        2 1\n",
    "        3 3\n",
    "        ...\n",
    "        12 2\n",
    "        13 3\n",
    "        14 3\n",
    "        dtype: int64\n",
    "        Top 2 Freq: 2 6\n",
    "        3 5\n",
    "        1 4\n",
    "        dtype: int64\n",
    "        0 Other\n",
    "        1 Other\n",
    "        2 Other\n",
    "        3 Other\n",
    "        ...\n",
    "        11 2\n",
    "        12 2\n",
    "        13 Other\n",
    "        14 Other\n",
    "        dtype: object"
   ]
  },
  {
   "cell_type": "code",
   "execution_count": 319,
   "id": "a7e2fd09-df06-4725-96a5-fa02fec43709",
   "metadata": {},
   "outputs": [
    {
     "name": "stdout",
     "output_type": "stream",
     "text": [
      "Original Series:\n",
      "0         1\n",
      "1     Other\n",
      "2         1\n",
      "3     Other\n",
      "4     Other\n",
      "5     Other\n",
      "6     Other\n",
      "7     Other\n",
      "8     Other\n",
      "9     Other\n",
      "10    Other\n",
      "11    Other\n",
      "12    Other\n",
      "13        1\n",
      "14    Other\n",
      "15    Other\n",
      "16    Other\n",
      "17    Other\n",
      "18    Other\n",
      "19    Other\n",
      "20        1\n",
      "21    Other\n",
      "22    Other\n",
      "23    Other\n",
      "24    Other\n",
      "25    Other\n",
      "26    Other\n",
      "27        1\n",
      "28    Other\n",
      "29    Other\n",
      "30    Other\n",
      "31    Other\n",
      "32    Other\n",
      "33        1\n",
      "34    Other\n",
      "35    Other\n",
      "36    Other\n",
      "37    Other\n",
      "38        1\n",
      "39    Other\n",
      "dtype: object\n"
     ]
    },
    {
     "name": "stderr",
     "output_type": "stream",
     "text": [
      "C:\\Users\\DAI.STUDENTSDC\\AppData\\Local\\Temp\\ipykernel_5000\\2860927205.py:6: FutureWarning: Setting an item of incompatible dtype is deprecated and will raise an error in a future version of pandas. Value 'Other' has dtype incompatible with int64, please explicitly cast to a compatible dtype first.\n",
      "  series[series != most_frequent_value] = 'Other'\n"
     ]
    }
   ],
   "source": [
    "data = [1, 7, 1, 6, 0, 4, 8, 0, 2, 9, 2, 3, 2, 1, 9, 3, 0, 4, 9, 5, 1, 6, 8, 2, 3, 4, 2, 1, 7, 0, 4, 8, 9, 1, 2, 3, 3, 0, 1, 9]\n",
    "series = pd.Series(data)\n",
    "\n",
    "most_frequent_value = series.mode()[0]\n",
    "\n",
    "series[series != most_frequent_value] = 'Other'\n",
    "\n",
    "print(\"Original Series:\")\n",
    "print(series)\n"
   ]
  },
  {
   "cell_type": "raw",
   "id": "4343ba9f-d243-484c-8aa3-d64815a1653b",
   "metadata": {},
   "source": [
    "21. Write a Pandas program to find the positions of numbers that are multiples of 5 of a \n",
    "given series.\n",
    "Sample Output:\n",
    "        Original Series:\n",
    "        0 1\n",
    "        1 9\n",
    "        2 8\n",
    "        3 6\n",
    "        4 9\n",
    "        5 7\n",
    "        6 1\n",
    "        7 1\n",
    "        8 1\n",
    "        dtype: int64\n",
    "        Positions of numbers that are multiples of 5:[]"
   ]
  },
  {
   "cell_type": "code",
   "execution_count": 320,
   "id": "d9133c96-eb7a-46c7-bc5e-8718810a3fcd",
   "metadata": {},
   "outputs": [
    {
     "name": "stdout",
     "output_type": "stream",
     "text": [
      "Original Series:\n",
      "0    1\n",
      "1    9\n",
      "2    8\n",
      "3    6\n",
      "4    9\n",
      "5    7\n",
      "6    1\n",
      "7    1\n",
      "8    1\n",
      "dtype: int64\n",
      "Positions of numbers that are multiples of 5:\n",
      "(array([], dtype=int64),)\n"
     ]
    }
   ],
   "source": [
    "series = pd.Series([1, 9, 8, 6, 9, 7, 1, 1, 1])\n",
    "print(\"Original Series:\")\n",
    "print(series)\n",
    "result = np.where(series % 5 == 0)\n",
    "print(\"Positions of numbers that are multiples of 5:\")\n",
    "print(result)"
   ]
  },
  {
   "cell_type": "raw",
   "id": "eca34c0a-1267-4bd5-81dc-9e846a8430de",
   "metadata": {},
   "source": [
    "22. Write a Pandas program to extract items at given positions of a given series.\n",
    "Sample Output: \n",
    "        Original Series:\n",
    "        0 2\n",
    "        1 3\n",
    "        2 9\n",
    "        3 0\n",
    "        4 2\n",
    "        5 3\n",
    "        ...\n",
    "        19 0\n",
    "        20 2 \n",
    "        21 3\n",
    "        dtype: object\n",
    "        Extract items at given positions of the said series: \n",
    "        0 2\n",
    "        2 9\n",
    "        6 8\n",
    "        11 0\n",
    "        21 3\n",
    "        dtype: object"
   ]
  },
  {
   "cell_type": "code",
   "execution_count": 322,
   "id": "74f740e3-701c-4faa-be59-743a403a8f99",
   "metadata": {},
   "outputs": [
    {
     "name": "stdout",
     "output_type": "stream",
     "text": [
      "Original Series:\n",
      "0     2\n",
      "1     3\n",
      "2     9\n",
      "3     0\n",
      "4     2\n",
      "5     3\n",
      "6     8\n",
      "7     0\n",
      "8     2\n",
      "9     3\n",
      "10    9\n",
      "11    0\n",
      "12    2\n",
      "13    3\n",
      "14    8\n",
      "15    0\n",
      "16    2\n",
      "17    3\n",
      "18    9\n",
      "19    0\n",
      "20    2\n",
      "21    3\n",
      "dtype: int64\n",
      "\n",
      "Extract items at given positions of the said series:\n",
      "0     2\n",
      "2     9\n",
      "6     8\n",
      "11    0\n",
      "21    3\n",
      "dtype: int64\n"
     ]
    }
   ],
   "source": [
    "# Sample Series for Task 22\n",
    "series = pd.Series([2, 3, 9, 0, 2, 3, 8, 0, 2, 3, 9, 0, 2, 3, 8, 0, 2, 3, 9, 0, 2, 3])\n",
    "positions = [0, 2, 6, 11, 21]\n",
    "\n",
    "# Extract items at given positions\n",
    "extracted_items = series.take(positions)\n",
    "\n",
    "print(\"Original Series:\")\n",
    "print(series)\n",
    "print(\"\\nExtract items at given positions of the said series:\")\n",
    "print(extracted_items)"
   ]
  },
  {
   "cell_type": "raw",
   "id": "9b9a6d2e-255c-438b-8395-80c91ad7ae18",
   "metadata": {},
   "source": [
    "23. Write a Pandas program to get the positions of items of a given series in another \n",
    "given series.\n",
    "Sample Output: \n",
    "        Original Series:\n",
    "        0 1\n",
    "        1 2\n",
    "        2 3\n",
    "        3 4\n",
    "        4 5\n",
    "        5 6\n",
    "        6 7\n",
    "        7 8\n",
    "        8 9\n",
    "        9 10\n",
    "        dtype: int64\n",
    "        0 1\n",
    "        1 3\n",
    "        2 5\n",
    "        3 7\n",
    "        4 10\n",
    "        dtype: int64\n",
    "        Positions of items of series2 in series1:\n",
    "        [0, 2, 4, 6, 9]"
   ]
  },
  {
   "cell_type": "code",
   "execution_count": 290,
   "id": "44b7bca6-7057-452c-9e24-9e7ac7b1524a",
   "metadata": {},
   "outputs": [
    {
     "name": "stdout",
     "output_type": "stream",
     "text": [
      "Original Series:\n",
      "0     1\n",
      "1     2\n",
      "2     3\n",
      "3     4\n",
      "4     5\n",
      "5     6\n",
      "6     7\n",
      "7     8\n",
      "8     9\n",
      "9    10\n",
      "dtype: int64\n",
      "0     1\n",
      "1     3\n",
      "2     5\n",
      "3     7\n",
      "4    10\n",
      "dtype: int64\n",
      "\n",
      "Positions of items of series23_1 in series23_2:\n",
      "[0, 2, 4, 6, 9]\n"
     ]
    }
   ],
   "source": [
    "2"
   ]
  },
  {
   "cell_type": "raw",
   "id": "baa622c5-803a-47ca-8331-51c503506fb6",
   "metadata": {},
   "source": [
    "24. Write a Pandas program convert the first and last character of each word to upper \n",
    "case in each word of a given series.\n",
    "Sample Output:\n",
    "        Original Series:\n",
    "        0 php\n",
    "        1 python\n",
    "        2 java\n",
    "        3 c#\n",
    "        dtype: object\n",
    "        First and last character of each word to upper case:\n",
    "        0 PhP\n",
    "        1 PythoN\n",
    "        2 JavA\n",
    "        3 C#\n",
    "        dtype: object"
   ]
  },
  {
   "cell_type": "code",
   "execution_count": 323,
   "id": "6552ca94-cb5b-40fe-a5ba-2a3152160b14",
   "metadata": {},
   "outputs": [
    {
     "name": "stdout",
     "output_type": "stream",
     "text": [
      "Original Series:\n",
      "0       php\n",
      "1    python\n",
      "2      java\n",
      "3        c#\n",
      "dtype: object\n",
      "\n",
      "First and last character of each word to upper case:\n",
      "0       PhP\n",
      "1    PythoN\n",
      "2      JavA\n",
      "3        C#\n",
      "dtype: object\n"
     ]
    }
   ],
   "source": [
    "series = pd.Series(['php', 'python', 'java', 'c#'])\n",
    "\n",
    "def modify_string(s):\n",
    "  if len(s) > 1:\n",
    "    return s[0].upper() + s[1:-1] + s[-1].upper()\n",
    "  elif len(s) == 1:\n",
    "    return s[0].upper()\n",
    "  else:\n",
    "    return s\n",
    "\n",
    "\n",
    "modified_series = series.map(modify_string)\n",
    "\n",
    "print(\"Original Series:\")\n",
    "print(series)\n",
    "print(\"\\nFirst and last character of each word to upper case:\")\n",
    "print(modified_series)"
   ]
  },
  {
   "cell_type": "raw",
   "id": "7dc3476d-b3dd-4a23-b4ba-300e12319598",
   "metadata": {},
   "source": [
    "25. Write a Pandas program to calculate the number of characters in each word in a given \n",
    "series.\n",
    "Sample Output: \n",
    "        Original Series:\n",
    "        0 Php\n",
    "        1 Python\n",
    "        2 Java\n",
    "        3 C#\n",
    "        dtype: object\n",
    "        Number of characters in each word in the said series:\n",
    "        0 3\n",
    "        1 6\n",
    "        2 4\n",
    "        3 2\n",
    "        dtype: int64"
   ]
  },
  {
   "cell_type": "code",
   "execution_count": 324,
   "id": "f403cd9d-505d-4a4f-9b3c-fc6bd1c0de8b",
   "metadata": {},
   "outputs": [
    {
     "name": "stdout",
     "output_type": "stream",
     "text": [
      "Original Series:\n",
      "0       Php\n",
      "1    Python\n",
      "2      Java\n",
      "3        C#\n",
      "dtype: object\n",
      "\n",
      "Number of characters in each word in the said series:\n",
      "0    3\n",
      "1    6\n",
      "2    4\n",
      "3    2\n",
      "dtype: int64\n"
     ]
    }
   ],
   "source": [
    "series = pd.Series(['Php', 'Python', 'Java', 'C#'])\n",
    "\n",
    "print(\"Original Series:\")\n",
    "print(series)\n",
    "\n",
    "# Calculate the number of characters in each word\n",
    "char_counts = series.str.len()\n",
    "\n",
    "print(\"\\nNumber of characters in each word in the said series:\")\n",
    "print(char_counts)"
   ]
  },
  {
   "cell_type": "raw",
   "id": "d4b2db63-74ae-400c-b637-211575196ebb",
   "metadata": {},
   "source": [
    "26. Write a Pandas program to compute difference of differences between consecutive \n",
    "numbers of a given series.\n",
    "Sample Output:\n",
    "        Original Series:\n",
    "        0 1\n",
    "        1 3\n",
    "        2 5\n",
    "        3 8\n",
    "        4 10\n",
    "        5 11\n",
    "        6 15\n",
    "        dtype: int64\n",
    "        Difference of differences between consecutive numbers of the said series:\n",
    "        [nan, 2.0, 2.0, 3.0, 2.0, 1.0, 4.0]\n",
    "        [nan, nan, 0.0, 1.0, -1.0, -1.0, 3.0]"
   ]
  },
  {
   "cell_type": "code",
   "execution_count": 325,
   "id": "316f00a8-f29a-4554-bf4e-cff44b6d989f",
   "metadata": {},
   "outputs": [
    {
     "name": "stdout",
     "output_type": "stream",
     "text": [
      "Original Series:\n",
      "0     1\n",
      "1     3\n",
      "2     5\n",
      "3     8\n",
      "4    10\n",
      "5    11\n",
      "6    15\n",
      "dtype: int64\n",
      "\n",
      "Difference of differences between consecutive numbers of the said series:\n",
      "[0.0, 2.0, 0.0, 1.0, -1.0, -1.0, 3.0]\n"
     ]
    }
   ],
   "source": [
    "series = pd.Series([1, 3, 5, 8, 10, 11, 15])\n",
    "\n",
    "print(\"Original Series:\")\n",
    "print(series)\n",
    "\n",
    "differences = series.diff().fillna(0)\n",
    "difference_of_differences = differences.diff().fillna(0).tolist()\n",
    "\n",
    "\n",
    "print(\"\\nDifference of differences between consecutive numbers of the said series:\")\n",
    "print(difference_of_differences)"
   ]
  },
  {
   "cell_type": "raw",
   "id": "4b37a4c7-f5de-44c4-8ed5-ee3de579fd5c",
   "metadata": {},
   "source": [
    "27. Write a Pandas program to convert a series of date strings to a timeseries.\n",
    "Sample Output:\n",
    "        Original Series:\n",
    "        0 01 Jan 2015\n",
    "        1 10-02-2016\n",
    "        2 20180307\n",
    "        3 2014/05/06\n",
    "        4 2016-04-12\n",
    "        5 2019-04-06T11:20\n",
    "        dtype: object\n",
    "        Series of date strings to a timeseries:\n",
    "        0 2015-01-01 00:00:00\n",
    "        1 2016-10-02 00:00:00\n",
    "        2 2018-03-07 00:00:00\n",
    "        3 2014-05-06 00:00:00\n",
    "        4 2016-04-12 00:00:00\n",
    "        5 2019-04-06 11:20:00\n",
    "        dtype: datetime64[ns]"
   ]
  },
  {
   "cell_type": "code",
   "execution_count": 326,
   "id": "e2596329-b265-4a9a-995f-fe03c002e5b2",
   "metadata": {},
   "outputs": [
    {
     "name": "stdout",
     "output_type": "stream",
     "text": [
      "Original Series:\n",
      "0         01 Jan 2015\n",
      "1          10-02-2016\n",
      "2            20180307\n",
      "3          2014/05/06\n",
      "4          2016-04-12\n",
      "5    2019-04-06T11:20\n",
      "dtype: object\n",
      "\n",
      "Series of date strings to a timeseries:\n",
      "0   2015-01-01 00:00:00\n",
      "1   2016-10-02 00:00:00\n",
      "2   2018-03-07 00:00:00\n",
      "3   2014-05-06 00:00:00\n",
      "4   2016-04-12 00:00:00\n",
      "5   2019-04-06 11:20:00\n",
      "dtype: datetime64[ns]\n"
     ]
    }
   ],
   "source": [
    "# Sample Series for Task 27\n",
    "series = pd.Series(['01 Jan 2015', '10-02-2016', '20180307', '2014/05/06', '2016-04-12', '2019-04-06T11:20'])\n",
    "\n",
    "print(\"Original Series:\")\n",
    "print(series)\n",
    "\n",
    "# Convert the series of date strings to a timeseries\n",
    "timeseries = pd.to_datetime(series, format ='mixed')\n",
    "\n",
    "print(\"\\nSeries of date strings to a timeseries:\")\n",
    "print(timeseries)"
   ]
  },
  {
   "cell_type": "raw",
   "id": "53e0b57e-1ac7-4535-9082-94152e2d966e",
   "metadata": {},
   "source": [
    "28. Write a Pandas program to get the day of month, day of year, week number and day of week from a given series of date strings.\n",
    "Sample Output: \n",
    "        Original Series:\n",
    "        0 01 Jan 2015\n",
    "        1 10-02-2016\n",
    "        2 20180307\n",
    "        3 2014/05/06\n",
    "        4 2016-04-12\n",
    "        5 2019-04-06T11:20\n",
    "        dtype: object\n",
    "        Day of month:\n",
    "        [1, 2, 7, 6, 12, 6]\n",
    "        Day of year:\n",
    "        [1, 276, 66, 126, 103, 96]\n",
    "        Week number:\n",
    "        [1, 39, 10, 19, 15, 14]\n",
    "        Day of week:\n",
    "        ['Thursday', 'Sunday', 'Wednesday', 'Tuesday', 'Tuesday', 'Saturday']"
   ]
  },
  {
   "cell_type": "code",
   "execution_count": 328,
   "id": "3b1defc7-dadf-4899-8330-6a3b68b9c749",
   "metadata": {},
   "outputs": [
    {
     "name": "stdout",
     "output_type": "stream",
     "text": [
      "Original Series:\n",
      "0         01 Jan 2015\n",
      "1          10-02-2016\n",
      "2            20180307\n",
      "3          2014/05/06\n",
      "4          2016-04-12\n",
      "5    2019-04-06T11:20\n",
      "dtype: object\n",
      "\n",
      "Day of month:\n",
      "[1, 2, 7, 6, 12, 6]\n",
      "\n",
      "Day of year:\n",
      "[1, 276, 66, 126, 103, 96]\n",
      "\n",
      "Week number:\n",
      "[1, 39, 10, 19, 15, 14]\n",
      "\n",
      "Day of week:\n",
      "[3, 6, 2, 1, 1, 5]\n"
     ]
    }
   ],
   "source": [
    "\n",
    "# Sample Series for Task 28\n",
    "series = pd.Series(['01 Jan 2015', '10-02-2016', '20180307', '2014/05/06', '2016-04-12', '2019-04-06T11:20'])\n",
    "\n",
    "# Convert to datetime objects\n",
    "dates = pd.to_datetime(series,format='mixed')\n",
    "\n",
    "# Extract day of month, day of year, week number, and day of week\n",
    "day_of_month = dates.dt.day.tolist()\n",
    "day_of_year = dates.dt.dayofyear.tolist()\n",
    "week_number = dates.dt.isocalendar().week.tolist()\n",
    "day_of_week = dates.dt.dayofweek.tolist()\n",
    "\n",
    "print(\"Original Series:\")\n",
    "print(series)\n",
    "print(\"\\nDay of month:\")\n",
    "print(day_of_month)\n",
    "print(\"\\nDay of year:\")\n",
    "print(day_of_year)\n",
    "print(\"\\nWeek number:\")\n",
    "print(week_number)\n",
    "print(\"\\nDay of week:\")\n",
    "print(day_of_week)\n"
   ]
  },
  {
   "cell_type": "raw",
   "id": "0b14d17d-ec9a-4f6c-9937-57d37a02c1d2",
   "metadata": {},
   "source": [
    "29. Write a Pandas program to convert year-month string to dates adding a specified day of the month.\n",
    "Sample Output:\n",
    "        Original Series:\n",
    "        0 Jan 2015\n",
    "        1 Feb 2016\n",
    "        2 Mar 2017\n",
    "        3 Apr 2018\n",
    "        4 May 2019\n",
    "        dtype: object\n",
    "        New dates:\n",
    "        0 2015-01-11\n",
    "        1 2016-02-11\n",
    "        2 2017-03-11\n",
    "        3 2018-04-11\n",
    "        4 2019-05-11\n",
    "        dtype: datetime64[ns]"
   ]
  },
  {
   "cell_type": "code",
   "execution_count": 329,
   "id": "4499eac6-1f55-4305-88bf-b68a3684243f",
   "metadata": {},
   "outputs": [
    {
     "name": "stdout",
     "output_type": "stream",
     "text": [
      "Original Series:\n",
      "0    Jan 2015\n",
      "1    Feb 2016\n",
      "2    Mar 2017\n",
      "3    Apr 2018\n",
      "4    May 2019\n",
      "dtype: object\n",
      "\n",
      "New dates:\n",
      "0   2015-01-11\n",
      "1   2016-02-11\n",
      "2   2017-03-11\n",
      "3   2018-04-11\n",
      "4   2019-05-11\n",
      "dtype: datetime64[ns]\n"
     ]
    }
   ],
   "source": [
    "series = pd.Series(['Jan 2015', 'Feb 2016', 'Mar 2017', 'Apr 2018', 'May 2019'])\n",
    "print(\"Original Series:\")\n",
    "print(series)\n",
    "\n",
    "# Convert year-month string to dates adding a specified day of the month\n",
    "from dateutil.parser import parse\n",
    "new_dates = series.map(lambda x: parse('11 ' + x))\n",
    "\n",
    "print(\"\\nNew dates:\")\n",
    "print(new_dates)"
   ]
  },
  {
   "cell_type": "raw",
   "id": "ccbfb91a-828c-469e-b1fa-31a70decfca7",
   "metadata": {},
   "source": [
    "30. Write a Pandas program to filter words from a given series that contain atleast two vowels.\n",
    "Sample Output: \n",
    "        Original Series:\n",
    "        0 Red\n",
    "        1 Green\n",
    "        2 Orange\n",
    "        3 Pink\n",
    "        4 Yellow\n",
    "        5 White\n",
    "        dtype: object\n",
    "        Filtered words:\n",
    "        1 Green\n",
    "        2 Orange\n",
    "        4 Yellow\n",
    "        5 White\n",
    "        dtype: object"
   ]
  },
  {
   "cell_type": "code",
   "execution_count": 330,
   "id": "51bf1f1a-a139-4e5a-b0bc-38a65bbd241d",
   "metadata": {},
   "outputs": [
    {
     "name": "stdout",
     "output_type": "stream",
     "text": [
      "Original Series:\n",
      "0       Red\n",
      "1     Green\n",
      "2    Orange\n",
      "3      Pink\n",
      "4    Yellow\n",
      "5     White\n",
      "dtype: object\n",
      "\n",
      "Filtered words:\n",
      "1     Green\n",
      "2    Orange\n",
      "4    Yellow\n",
      "5     White\n",
      "dtype: object\n"
     ]
    }
   ],
   "source": [
    "series = pd.Series(['Red', 'Green', 'Orange', 'Pink', 'Yellow', 'White'])\n",
    "\n",
    "print(\"Original Series:\")\n",
    "print(series)\n",
    "\n",
    "def count_vowels(word):\n",
    "  vowels = \"aeiouAEIOU\"\n",
    "  count = 0\n",
    "  for char in word:\n",
    "    if char in vowels:\n",
    "      count += 1\n",
    "  return count\n",
    "\n",
    "filtered_words = series[series.apply(lambda word: count_vowels(word) >= 2)]\n",
    "\n",
    "print(\"\\nFiltered words:\")\n",
    "print(filtered_words)"
   ]
  },
  {
   "cell_type": "raw",
   "id": "be55537b-eeec-4c31-89cb-a3318a6c488f",
   "metadata": {},
   "source": [
    "31. Write a Pandas program to compute the Euclidean distance between two given series.Euclidean distance\n",
    "From Wikipedia,\n",
    "In mathematics, the Euclidean distance or Euclidean metric is the \"ordinary\" straight-line distance between two points in Euclidean space. With this distance, Euclidean space becomes a metric space. The associated norm is called the Euclidean norm.\n",
    "Sample Output:\n",
    "        Original series:\n",
    "        0 1\n",
    "        1 2\n",
    "        2 3\n",
    "        3 4\n",
    "        4 5\n",
    "        5 6\n",
    "        6 7\n",
    "        7 8\n",
    "        8 9\n",
    "        9 10\n",
    "        dtype: int64\n",
    "        0 11\n",
    "        1 8\n",
    "        2 7\n",
    "        3 5\n",
    "        4 6\n",
    "        5 5\n",
    "        6 3\n",
    "        7 4\n",
    "        8 7\n",
    "        9 1\n",
    "        dtype: int64\n",
    "        Euclidean distance between two said series:\n",
    "        16.492422502470642"
   ]
  },
  {
   "cell_type": "code",
   "execution_count": 331,
   "id": "5c0ba638-fd14-4124-872b-0a3554c5f042",
   "metadata": {},
   "outputs": [
    {
     "name": "stdout",
     "output_type": "stream",
     "text": [
      "Original series:\n",
      "0     1\n",
      "1     2\n",
      "2     3\n",
      "3     4\n",
      "4     5\n",
      "5     6\n",
      "6     7\n",
      "7     8\n",
      "8     9\n",
      "9    10\n",
      "dtype: int64\n",
      "0    11\n",
      "1     8\n",
      "2     7\n",
      "3     5\n",
      "4     6\n",
      "5     5\n",
      "6     3\n",
      "7     4\n",
      "8     7\n",
      "9     1\n",
      "dtype: int64\n",
      "\n",
      "Euclidean distance between two said series:\n",
      "16.492422502470642\n"
     ]
    }
   ],
   "source": [
    "# Sample Series\n",
    "x = pd.Series([1, 2, 3, 4, 5, 6, 7, 8, 9, 10])\n",
    "y = pd.Series([11, 8, 7, 5, 6, 5, 3, 4, 7, 1])\n",
    "\n",
    "# Compute Euclidean distance\n",
    "distance = np.linalg.norm(x - y)\n",
    "\n",
    "print(\"Original series:\")\n",
    "print(x)\n",
    "print(y)\n",
    "print(\"\\nEuclidean distance between two said series:\")\n",
    "print(distance)"
   ]
  },
  {
   "cell_type": "raw",
   "id": "c084b92f-e518-4ea7-8405-8be1b0def16e",
   "metadata": {},
   "source": [
    "32. Write a Pandas program to find the positions of the values neighboured by smaller values on both sides in a given series.\n",
    "Sample Output: \n",
    "        Original series:\n",
    "        0 1\n",
    "        1 8\n",
    "        2 7\n",
    "        3 5\n",
    "        4 6\n",
    "        5 5\n",
    "        6 3\n",
    "        7 4\n",
    "        8 7\n",
    "        9 1\n",
    "        dtype: int64\n",
    "        Positions of the values surrounded by smaller values on both sides:\n",
    "        [1 4 8]"
   ]
  },
  {
   "cell_type": "code",
   "execution_count": 332,
   "id": "f89f8c98-73bb-4432-a9ba-b23fe1135e40",
   "metadata": {},
   "outputs": [
    {
     "name": "stdout",
     "output_type": "stream",
     "text": [
      "Original series:\n",
      "0    1\n",
      "1    8\n",
      "2    7\n",
      "3    5\n",
      "4    6\n",
      "5    5\n",
      "6    3\n",
      "7    4\n",
      "8    7\n",
      "9    1\n",
      "dtype: int64\n",
      "\n",
      "Positions of the values surrounded by smaller values on both sides:\n",
      "[1, 4, 8]\n"
     ]
    }
   ],
   "source": [
    "series = pd.Series([1, 8, 7, 5, 6, 5, 3, 4, 7, 1])\n",
    "print(\"Original series:\")\n",
    "print(series)\n",
    "\n",
    "# Find the positions of the values neighboured by smaller values on both sides\n",
    "result = []\n",
    "for i in range(1, len(series) - 1):\n",
    "    if series[i] > series[i - 1] and series[i] > series[i + 1]:\n",
    "        result.append(i)\n",
    "\n",
    "print(\"\\nPositions of the values surrounded by smaller values on both sides:\")\n",
    "print(result)"
   ]
  },
  {
   "cell_type": "raw",
   "id": "f2b64e0e-dae7-4dbb-b265-40e7d0d7098a",
   "metadata": {},
   "source": [
    "33. Write a Pandas program to replace missing white spaces in a given string with the least frequent character.\n",
    "Sample Output:\n",
    "Original series:\n",
    "        abc def abcdef icd\n",
    "        c 3\n",
    "        d 3\n",
    "         3\n",
    "        b 2\n",
    "        e 2\n",
    "        a 2\n",
    "        f 2\n",
    "        i 1\n",
    "        dtype: int64\n",
    "        abcidefiabcdefiicd"
   ]
  },
  {
   "cell_type": "code",
   "execution_count": 343,
   "id": "73a13b3e-5770-495d-aca5-a646c2e6ce21",
   "metadata": {},
   "outputs": [
    {
     "name": "stdout",
     "output_type": "stream",
     "text": [
      "Original series:\n",
      "0    abc def abcdef icd\n",
      "dtype: object\n"
     ]
    },
    {
     "data": {
      "text/plain": [
       "0    abc def abcdef icd\n",
       "dtype: object"
      ]
     },
     "execution_count": 343,
     "metadata": {},
     "output_type": "execute_result"
    }
   ],
   "source": [
    "series = pd.Series(['abc def abcdef icd'])\n",
    "print(\"Original series:\")\n",
    "print(series)\n",
    "series.replace(\" \",series.idxmin())"
   ]
  },
  {
   "cell_type": "raw",
   "id": "c054e214-0d26-4761-94e4-6f3ca6c0e6e1",
   "metadata": {},
   "source": [
    "34. Write a Pandas program to compute the autocorrelations of a given numeric series.\n",
    "From Wikipedia:\n",
    "Autocorrelation, also known as serial correlation, is the correlation of a signal with a delayed copy of itself as a function of delay. Informally, it is the similarity between observations as a function of the time lag between them.\n",
    "Sample Output:\n",
    "        Original series:\n",
    "        0 13.207262\n",
    "        1 4.098685\n",
    "        2 -1.435534\n",
    "        3 13.626760\n",
    "        ...\n",
    "        13 -2.346193\n",
    "        14 17.873884\n",
    "        dtype: float64\n",
    "        Autocorrelations of the said series:\n",
    "        [-0.38, 0.1, -0.43, 0.03, 0.35, -0.2, 0.04, -0.59, 0.34, 0.11]\n"
   ]
  },
  {
   "cell_type": "code",
   "execution_count": 335,
   "id": "f5903b38-e4f8-4b54-afcf-92cf8f6c0fec",
   "metadata": {},
   "outputs": [
    {
     "name": "stdout",
     "output_type": "stream",
     "text": [
      "Original series:\n",
      "0   -1.230851\n",
      "1    0.790828\n",
      "2    1.264328\n",
      "3   -0.358123\n",
      "4    0.922490\n",
      "dtype: float64\n",
      "\n",
      "Autocorrelations:\n",
      "Lag 0: 1.0\n",
      "Lag 1: -0.004378357491895806\n",
      "Lag 2: -0.1288851682520671\n",
      "Lag 3: -0.09361822102511087\n",
      "Lag 4: -0.16665523268823274\n",
      "Lag 5: 0.14215660514777276\n",
      "Lag 6: -0.03096819268836133\n",
      "Lag 7: -0.017962110038179987\n",
      "Lag 8: -0.07288492650732567\n",
      "Lag 9: 0.1325419578818733\n",
      "Lag 10: 0.06558051588688445\n"
     ]
    }
   ],
   "source": [
    "# Create a sample numeric series\n",
    "series = pd.Series(np.random.randn(100))\n",
    "\n",
    "# Compute the autocorrelations\n",
    "autocorrelations = [series.autocorr(lag=i) for i in range(11)]\n",
    "\n",
    "# Print the results\n",
    "print(\"Original series:\")\n",
    "print(series.head())\n",
    "print(\"\\nAutocorrelations:\")\n",
    "for i, ac in enumerate(autocorrelations):\n",
    "    print(f\"Lag {i}: {ac}\")"
   ]
  },
  {
   "cell_type": "raw",
   "id": "da1e9ab3-0b98-4e61-81b9-0832fd9406e6",
   "metadata": {},
   "source": [
    "35. Write a Pandas program to create a TimeSeries to display all the Sundays of given year.\n",
    "Sample Output: \n",
    "        All Sundays of 2019:\n",
    "        0 2020-01-05\n",
    "        1 2020-01-12\n",
    "        2 2020-01-19\n",
    "        3 2020-01-26\n",
    "        4 2020-02-02\n",
    "        5 2020-02-09\n",
    "        .....\n",
    "        48 2020-12-06 \n",
    "        49 2020-12-13\n",
    "        50 2020-12-20\n",
    "        51 2020-12-27\n",
    "        dtype: datetime64[ns]"
   ]
  },
  {
   "cell_type": "code",
   "execution_count": 336,
   "id": "04f3287d-5a51-40ed-ab82-7b0b1ae633b7",
   "metadata": {},
   "outputs": [
    {
     "name": "stdout",
     "output_type": "stream",
     "text": [
      "All Sundays of 2020:\n",
      "0    2020-01-05\n",
      "1    2020-01-12\n",
      "2    2020-01-19\n",
      "3    2020-01-26\n",
      "4    2020-02-02\n",
      "5    2020-02-09\n",
      "6    2020-02-16\n",
      "7    2020-02-23\n",
      "8    2020-03-01\n",
      "9    2020-03-08\n",
      "10   2020-03-15\n",
      "11   2020-03-22\n",
      "12   2020-03-29\n",
      "13   2020-04-05\n",
      "14   2020-04-12\n",
      "15   2020-04-19\n",
      "16   2020-04-26\n",
      "17   2020-05-03\n",
      "18   2020-05-10\n",
      "19   2020-05-17\n",
      "20   2020-05-24\n",
      "21   2020-05-31\n",
      "22   2020-06-07\n",
      "23   2020-06-14\n",
      "24   2020-06-21\n",
      "25   2020-06-28\n",
      "26   2020-07-05\n",
      "27   2020-07-12\n",
      "28   2020-07-19\n",
      "29   2020-07-26\n",
      "30   2020-08-02\n",
      "31   2020-08-09\n",
      "32   2020-08-16\n",
      "33   2020-08-23\n",
      "34   2020-08-30\n",
      "35   2020-09-06\n",
      "36   2020-09-13\n",
      "37   2020-09-20\n",
      "38   2020-09-27\n",
      "39   2020-10-04\n",
      "40   2020-10-11\n",
      "41   2020-10-18\n",
      "42   2020-10-25\n",
      "43   2020-11-01\n",
      "44   2020-11-08\n",
      "45   2020-11-15\n",
      "46   2020-11-22\n",
      "47   2020-11-29\n",
      "48   2020-12-06\n",
      "49   2020-12-13\n",
      "50   2020-12-20\n",
      "51   2020-12-27\n",
      "dtype: datetime64[ns]\n"
     ]
    }
   ],
   "source": [
    "\n",
    "# Create a TimeSeries with all Sundays of 2020\n",
    "sundays_2020 = pd.Series(pd.date_range(start='2020-01-01', end='2020-12-31', freq='W-SUN'))\n",
    "\n",
    "print(\"All Sundays of 2020:\")\n",
    "print(sundays_2020)"
   ]
  },
  {
   "cell_type": "raw",
   "id": "ae95f3dc-52eb-4fa6-b482-7613b2b0622b",
   "metadata": {},
   "source": [
    "36. Write a Pandas program to convert given series into a dataframe with its index as another column on the dataframe.\n",
    "Sample Output:\n",
    "         index   0\n",
    "      0     A    0\n",
    "      1     B    1\n",
    "      2     C    2\n",
    "      3     D    3\n",
    "      4     E    4\n"
   ]
  },
  {
   "cell_type": "code",
   "execution_count": 337,
   "id": "ea733348-731d-4bb5-9393-aa7c019d34c6",
   "metadata": {},
   "outputs": [
    {
     "name": "stdout",
     "output_type": "stream",
     "text": [
      "  index  0\n",
      "0     A  0\n",
      "1     B  1\n",
      "2     C  2\n",
      "3     D  3\n",
      "4     E  4\n"
     ]
    }
   ],
   "source": [
    "series = pd.Series([0, 1, 2, 3, 4], index=['A', 'B', 'C', 'D', 'E'])\n",
    "\n",
    "df = series.to_frame().reset_index()\n",
    "\n",
    "print(df)"
   ]
  },
  {
   "cell_type": "raw",
   "id": "b3039654-33b0-4b88-a94f-685b022915fe",
   "metadata": {},
   "source": [
    "37. Write a Pandas program to stack two given series vertically and horizontally.\n",
    "Sample Output:\n",
    "        Original Series:\n",
    "        0 0\n",
    "        1 1\n",
    "        2 2\n",
    "        ....\n",
    "        7 7\n",
    "        8 8\n",
    "        9 9\n",
    "        dtype: int64\n",
    "        0 p\n",
    "        1 q\n",
    "        2 r\n",
    "        ....\n",
    "        7 w\n",
    "        8 x\n",
    "        9 y\n",
    "        dtype: object\n",
    "        Stack two given series vertically and horizontally:\n",
    "         0 1\n",
    "        0 0 p\n",
    "        1 1 q\n",
    "        2 2 r\n",
    "        .....\n",
    "        8 8 x\n",
    "        9 9 y"
   ]
  },
  {
   "cell_type": "code",
   "execution_count": 338,
   "id": "87cf2b1c-d3d1-415e-a4fb-ea1a0997bcc9",
   "metadata": {},
   "outputs": [
    {
     "name": "stdout",
     "output_type": "stream",
     "text": [
      "Original Series:\n",
      "0    0\n",
      "1    1\n",
      "2    2\n",
      "3    3\n",
      "4    4\n",
      "5    5\n",
      "6    6\n",
      "7    7\n",
      "8    8\n",
      "9    9\n",
      "dtype: int64\n",
      "0    p\n",
      "1    q\n",
      "2    r\n",
      "3    s\n",
      "4    t\n",
      "5    u\n",
      "6    v\n",
      "7    w\n",
      "8    x\n",
      "9    y\n",
      "dtype: object\n",
      "\n",
      "Stack two given series vertically and horizontally:\n",
      "0    0\n",
      "1    1\n",
      "2    2\n",
      "3    3\n",
      "4    4\n",
      "5    5\n",
      "6    6\n",
      "7    7\n",
      "8    8\n",
      "9    9\n",
      "0    p\n",
      "1    q\n",
      "2    r\n",
      "3    s\n",
      "4    t\n",
      "5    u\n",
      "6    v\n",
      "7    w\n",
      "8    x\n",
      "9    y\n",
      "dtype: object\n",
      "   0  1\n",
      "0  0  p\n",
      "1  1  q\n",
      "2  2  r\n",
      "3  3  s\n",
      "4  4  t\n",
      "5  5  u\n",
      "6  6  v\n",
      "7  7  w\n",
      "8  8  x\n",
      "9  9  y\n"
     ]
    }
   ],
   "source": [
    "series1 = pd.Series(range(10))\n",
    "series2 = pd.Series(['p', 'q', 'r', 's', 't', 'u', 'v', 'w', 'x', 'y'])\n",
    "\n",
    "# Stack vertically\n",
    "vertical_stack = pd.concat([series1, series2], axis=0)\n",
    "\n",
    "# Stack horizontally\n",
    "horizontal_stack = pd.concat([series1, series2], axis=1)\n",
    "\n",
    "print(\"Original Series:\")\n",
    "print(series1)\n",
    "print(series2)\n",
    "print(\"\\nStack two given series vertically and horizontally:\")\n",
    "print(vertical_stack)\n",
    "print(horizontal_stack)"
   ]
  },
  {
   "cell_type": "raw",
   "id": "4e94005b-67a3-4330-a8a0-4f2a9b30b42f",
   "metadata": {},
   "source": [
    "38. Write a Pandas program to check the equality of two given series.\n",
    "Sample Output: \n",
    "        Original Series:\n",
    "        0 1\n",
    "        1 8\n",
    "        2 7\n",
    "        ...\n",
    "        7 4\n",
    "        8 7\n",
    "        9 1\n",
    "        dtype: int64\n",
    "        0 1\n",
    "        1 8\n",
    "        2 7\n",
    "        3 5\n",
    "        .....\n",
    "        8 7\n",
    "        9 1\n",
    "        dtype: int64\n",
    "        Check 2 series are equal or not?\n",
    "        0 True\n",
    "        1 True\n",
    "        2 True\n",
    "        ....\n",
    "        7 True\n",
    "        8 True\n",
    "        9 True\n",
    "        dtype: bool"
   ]
  },
  {
   "cell_type": "code",
   "execution_count": 339,
   "id": "2af6ced9-e3a5-48e4-ac65-dfe842dd6858",
   "metadata": {},
   "outputs": [
    {
     "name": "stdout",
     "output_type": "stream",
     "text": [
      "Original Series:\n",
      "0    1\n",
      "1    8\n",
      "2    7\n",
      "3    3\n",
      "4    2\n",
      "5    5\n",
      "6    4\n",
      "7    6\n",
      "8    7\n",
      "9    1\n",
      "dtype: int64\n",
      "0    1\n",
      "1    8\n",
      "2    7\n",
      "3    5\n",
      "4    2\n",
      "5    5\n",
      "6    4\n",
      "7    6\n",
      "8    7\n",
      "9    1\n",
      "dtype: int64\n",
      "\n",
      "Check 2 series are equal or not?\n",
      "0     True\n",
      "1     True\n",
      "2     True\n",
      "3    False\n",
      "4     True\n",
      "5     True\n",
      "6     True\n",
      "7     True\n",
      "8     True\n",
      "9     True\n",
      "dtype: bool\n"
     ]
    }
   ],
   "source": [
    "series1 = pd.Series([1, 8, 7, 3, 2, 5, 4, 6, 7, 1])\n",
    "series2 = pd.Series([1, 8, 7, 5, 2, 5, 4, 6, 7, 1])\n",
    "\n",
    "print(\"Original Series:\")\n",
    "print(series1)\n",
    "print(series2)\n",
    "print(\"\\nCheck 2 series are equal or not?\")\n",
    "print(series1 == series2)"
   ]
  },
  {
   "cell_type": "raw",
   "id": "7d874ddb-2166-49cf-be6a-7ba1eab21c76",
   "metadata": {},
   "source": [
    "39. Write a Pandas program to find the index of the first occurrence of the smallest and largest value of a given series.\n",
    "Sample Output:\n",
    "        Original Series:\n",
    "        0 1\n",
    "        1 3\n",
    "        2 7\n",
    "        .....\n",
    "        7 1\n",
    "        8 9\n",
    "        9 0\n",
    "        dtype: int64\n",
    "        Index of the first occurrence of the smallest and largest value of the said \n",
    "        series:\n",
    "        9\n",
    "        4"
   ]
  },
  {
   "cell_type": "code",
   "execution_count": 340,
   "id": "b61bd307-42c0-4fdf-b57c-7742ce72ebe4",
   "metadata": {},
   "outputs": [
    {
     "name": "stdout",
     "output_type": "stream",
     "text": [
      "Original Series:\n",
      "0     1\n",
      "1     3\n",
      "2     7\n",
      "3    12\n",
      "4     8\n",
      "5     1\n",
      "6     1\n",
      "7     7\n",
      "8     9\n",
      "9     0\n",
      "dtype: int64\n",
      "\n",
      "Index of the first occurrence of the smallest and largest value of the said series:\n",
      "9\n",
      "3\n"
     ]
    }
   ],
   "source": [
    "series = pd.Series([1, 3, 7, 12, 8, 1, 1, 7, 9, 0])\n",
    "print(\"Original Series:\")\n",
    "print(series)\n",
    "min_index = series.idxmin()\n",
    "max_index = series.idxmax()\n",
    "print(\"\\nIndex of the first occurrence of the smallest and largest value of the said series:\")\n",
    "print(min_index)\n",
    "print(max_index)"
   ]
  },
  {
   "cell_type": "raw",
   "id": "4e801cf3-65af-4069-88a2-6f40829227de",
   "metadata": {},
   "source": [
    "40. Write a Pandas program to check inequality over the index axis of a given dataframe and a given series.\n",
    "Sample Output: \n",
    "        Original DataFrame:\n",
    "         W X Y Z\n",
    "        0 68.0 78.0 84 86\n",
    "        1 75.0 75.0 94 97\n",
    "        2 86.0 NaN 89 96\n",
    "        3 80.0 80.0 86 72\n",
    "        4 NaN 86.0 86 83\n",
    "        Original Series:\n",
    "        0 68.0\n",
    "        1 75.0\n",
    "        2 86.0\n",
    "        3 80.0\n",
    "        4 NaN\n",
    "        dtype: float64\n",
    "        Check for inequality of the said series & dataframe:\n",
    "         W X Y Z\n",
    "        0 False True True True\n",
    "        1 False False True True\n",
    "        2 False True True True\n",
    "        3 False False True True\n",
    "        4 True True True True"
   ]
  },
  {
   "cell_type": "code",
   "execution_count": 341,
   "id": "c305c4b2-eff0-47c1-8318-ef508309b3ad",
   "metadata": {},
   "outputs": [
    {
     "name": "stdout",
     "output_type": "stream",
     "text": [
      "Original DataFrame:\n",
      "      W     X   Y   Z\n",
      "0  68.0  78.0  84  86\n",
      "1  75.0  75.0  94  97\n",
      "2  86.0   NaN  89  96\n",
      "3  80.0  80.0  86  72\n",
      "4   NaN  86.0  86  83\n",
      "\n",
      "Original Series:\n",
      "0    68.0\n",
      "1    75.0\n",
      "2    86.0\n",
      "3    80.0\n",
      "4     NaN\n",
      "dtype: float64\n",
      "\n",
      "Check inequality over the index axis of a DataFrame and a Series:\n",
      "       W      X     Y     Z\n",
      "0  False   True  True  True\n",
      "1  False  False  True  True\n",
      "2  False   True  True  True\n",
      "3  False  False  True  True\n",
      "4   True   True  True  True\n"
     ]
    }
   ],
   "source": [
    "\n",
    "df = pd.DataFrame({'W':[68.0, 75.0, 86.0, 80.0, np.nan],\n",
    "                   'X':[78.0, 75.0, np.nan, 80.0, 86.0],\n",
    "                   'Y':[84, 94, 89, 86, 86],\n",
    "                   'Z':[86, 97, 96, 72, 83]})\n",
    "s = pd.Series([68.0, 75.0, 86.0, 80.0, np.nan])\n",
    "\n",
    "print(\"Original DataFrame:\")\n",
    "print(df)\n",
    "print(\"\\nOriginal Series:\")\n",
    "print(s)\n",
    "print(\"\\nCheck inequality over the index axis of a DataFrame and a Series:\")\n",
    "print(df.ne(s, axis = 0))"
   ]
  },
  {
   "cell_type": "code",
   "execution_count": null,
   "id": "9afab8dd-07e3-492b-bb14-6e27fe058d14",
   "metadata": {},
   "outputs": [],
   "source": []
  }
 ],
 "metadata": {
  "kernelspec": {
   "display_name": "Python 3 (ipykernel)",
   "language": "python",
   "name": "python3"
  },
  "language_info": {
   "codemirror_mode": {
    "name": "ipython",
    "version": 3
   },
   "file_extension": ".py",
   "mimetype": "text/x-python",
   "name": "python",
   "nbconvert_exporter": "python",
   "pygments_lexer": "ipython3",
   "version": "3.12.4"
  }
 },
 "nbformat": 4,
 "nbformat_minor": 5
}
