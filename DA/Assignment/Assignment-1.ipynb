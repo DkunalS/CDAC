{
 "cells": [
  {
   "cell_type": "code",
   "execution_count": 2,
   "metadata": {
    "id": "vanbIUFcuVHQ"
   },
   "outputs": [],
   "source": [
    "import numpy as np"
   ]
  },
  {
   "cell_type": "markdown",
   "metadata": {
    "id": "_gRwA60r8O8L"
   },
   "source": [
    "1. Write a NumPy program to get the numpy version and show numpy build configuration."
   ]
  },
  {
   "cell_type": "code",
   "execution_count": 4,
   "metadata": {
    "colab": {
     "base_uri": "https://localhost:8080/",
     "height": 36
    },
    "id": "bpiU7NZ2uaz4",
    "outputId": "24225970-1d08-49c2-b688-9b92d92d6e5a"
   },
   "outputs": [
    {
     "data": {
      "application/vnd.google.colaboratory.intrinsic+json": {
       "type": "string"
      },
      "text/plain": [
       "'1.26.4'"
      ]
     },
     "execution_count": 4,
     "metadata": {},
     "output_type": "execute_result"
    }
   ],
   "source": [
    "np.version.version"
   ]
  },
  {
   "cell_type": "markdown",
   "metadata": {
    "id": "Xid432KSREl0"
   },
   "source": [
    "2. Write a NumPy program to get help on the add function."
   ]
  },
  {
   "cell_type": "code",
   "execution_count": 193,
   "metadata": {
    "colab": {
     "base_uri": "https://localhost:8080/"
    },
    "id": "5ry1pTYAujrO",
    "outputId": "c87ec9b1-102e-486e-f556-bcff1f664bc8"
   },
   "outputs": [
    {
     "name": "stdout",
     "output_type": "stream",
     "text": [
      "Help on ufunc:\n",
      "\n",
      "add = <ufunc 'add'>\n",
      "    add(x1, x2, /, out=None, *, where=True, casting='same_kind', order='K', dtype=None, subok=True[, signature, extobj])\n",
      "    \n",
      "    Add arguments element-wise.\n",
      "    \n",
      "    Parameters\n",
      "    ----------\n",
      "    x1, x2 : array_like\n",
      "        The arrays to be added.\n",
      "        If ``x1.shape != x2.shape``, they must be broadcastable to a common\n",
      "        shape (which becomes the shape of the output).\n",
      "    out : ndarray, None, or tuple of ndarray and None, optional\n",
      "        A location into which the result is stored. If provided, it must have\n",
      "        a shape that the inputs broadcast to. If not provided or None,\n",
      "        a freshly-allocated array is returned. A tuple (possible only as a\n",
      "        keyword argument) must have length equal to the number of outputs.\n",
      "    where : array_like, optional\n",
      "        This condition is broadcast over the input. At locations where the\n",
      "        condition is True, the `out` array will be set to the ufunc result.\n",
      "        Elsewhere, the `out` array will retain its original value.\n",
      "        Note that if an uninitialized `out` array is created via the default\n",
      "        ``out=None``, locations within it where the condition is False will\n",
      "        remain uninitialized.\n",
      "    **kwargs\n",
      "        For other keyword-only arguments, see the\n",
      "        :ref:`ufunc docs <ufuncs.kwargs>`.\n",
      "    \n",
      "    Returns\n",
      "    -------\n",
      "    add : ndarray or scalar\n",
      "        The sum of `x1` and `x2`, element-wise.\n",
      "        This is a scalar if both `x1` and `x2` are scalars.\n",
      "    \n",
      "    Notes\n",
      "    -----\n",
      "    Equivalent to `x1` + `x2` in terms of array broadcasting.\n",
      "    \n",
      "    Examples\n",
      "    --------\n",
      "    >>> np.add(1.0, 4.0)\n",
      "    5.0\n",
      "    >>> x1 = np.arange(9.0).reshape((3, 3))\n",
      "    >>> x2 = np.arange(3.0)\n",
      "    >>> np.add(x1, x2)\n",
      "    array([[  0.,   2.,   4.],\n",
      "           [  3.,   5.,   7.],\n",
      "           [  6.,   8.,  10.]])\n",
      "    \n",
      "    The ``+`` operator can be used as a shorthand for ``np.add`` on ndarrays.\n",
      "    \n",
      "    >>> x1 = np.arange(9.0).reshape((3, 3))\n",
      "    >>> x2 = np.arange(3.0)\n",
      "    >>> x1 + x2\n",
      "    array([[ 0.,  2.,  4.],\n",
      "           [ 3.,  5.,  7.],\n",
      "           [ 6.,  8., 10.]])\n",
      "\n"
     ]
    }
   ],
   "source": [
    "help(np.add)"
   ]
  },
  {
   "cell_type": "markdown",
   "metadata": {
    "id": "zvqV0eNBRKgt"
   },
   "source": [
    "3. Write a NumPy program to test whether none of the elements of a given array is zero.\n"
   ]
  },
  {
   "cell_type": "code",
   "execution_count": 9,
   "metadata": {
    "colab": {
     "base_uri": "https://localhost:8080/"
    },
    "id": "vE-MnQeQuouv",
    "outputId": "853a280a-3abf-437f-b19d-05e4e0a87b82"
   },
   "outputs": [
    {
     "data": {
      "text/plain": [
       "True"
      ]
     },
     "execution_count": 9,
     "metadata": {},
     "output_type": "execute_result"
    }
   ],
   "source": [
    "x = np.array([1,2,3,4])\n",
    "np.all(x)"
   ]
  },
  {
   "cell_type": "markdown",
   "metadata": {
    "id": "oxvtmS1FRNx0"
   },
   "source": [
    "4. Write a NumPy program to test whether any of the elements of a given array is non-zero.\n"
   ]
  },
  {
   "cell_type": "code",
   "execution_count": 45,
   "metadata": {
    "colab": {
     "base_uri": "https://localhost:8080/"
    },
    "id": "j_vwTcuUutp2",
    "outputId": "b2d8490f-ff89-4db9-ec3e-fe13127ec280"
   },
   "outputs": [
    {
     "name": "stdout",
     "output_type": "stream",
     "text": [
      "False\n",
      "True\n"
     ]
    }
   ],
   "source": [
    "kunnu = np.array([0,0,0,0])\n",
    "kunnu1 = np.array([1,2,3,4])\n",
    "print(np.any(kunnu))\n",
    "print(np.any(kunnu1))"
   ]
  },
  {
   "cell_type": "markdown",
   "metadata": {
    "id": "ypKmzhBNRQGp"
   },
   "source": [
    "5. Write a NumPy program to test a given array element-wise for finiteness (not infinity or not a Number).\n"
   ]
  },
  {
   "cell_type": "code",
   "execution_count": 11,
   "metadata": {
    "colab": {
     "base_uri": "https://localhost:8080/"
    },
    "id": "wSJMIUyIvGoN",
    "outputId": "a1c82fcb-8881-4909-f215-cb8eef8eac15"
   },
   "outputs": [
    {
     "data": {
      "text/plain": [
       "array([ True,  True, False, False])"
      ]
     },
     "execution_count": 11,
     "metadata": {},
     "output_type": "execute_result"
    }
   ],
   "source": [
    "x = np.array([1, 0, np.nan, np.inf])\n",
    "np.isfinite(x)"
   ]
  },
  {
   "cell_type": "markdown",
   "metadata": {
    "id": "n_QhCtEHRT4i"
   },
   "source": [
    "6. Write a NumPy program to test element-wise for positive or negative infinity.\n"
   ]
  },
  {
   "cell_type": "code",
   "execution_count": 12,
   "metadata": {
    "colab": {
     "base_uri": "https://localhost:8080/"
    },
    "id": "ybXBod4lvP7y",
    "outputId": "b0edd8b8-1e9b-4e42-9130-d5d7d64e7b15"
   },
   "outputs": [
    {
     "data": {
      "text/plain": [
       "array([False, False, False,  True])"
      ]
     },
     "execution_count": 12,
     "metadata": {},
     "output_type": "execute_result"
    }
   ],
   "source": [
    "x = np.array([1, 0, np.nan, np.inf])\n",
    "np.isinf(x)"
   ]
  },
  {
   "cell_type": "markdown",
   "metadata": {
    "id": "ONHvZQ8bRXwi"
   },
   "source": [
    "7. Write a NumPy program to test element-wise for NaN of a given array."
   ]
  },
  {
   "cell_type": "code",
   "execution_count": 194,
   "metadata": {
    "colab": {
     "base_uri": "https://localhost:8080/"
    },
    "id": "7VEgr3nOvy4J",
    "outputId": "ef42f419-5a0f-4f05-8108-62ab354617a8"
   },
   "outputs": [
    {
     "data": {
      "text/plain": [
       "array([False, False,  True, False])"
      ]
     },
     "execution_count": 194,
     "metadata": {},
     "output_type": "execute_result"
    }
   ],
   "source": [
    "x = np.array([1, 0, np.nan, np.inf])\n",
    "np.isnan(x)"
   ]
  },
  {
   "cell_type": "markdown",
   "metadata": {
    "id": "kS_ZsKfyRb4R"
   },
   "source": [
    "8. Write a NumPy program to test element-wise for complex number, real number of a given array. Also test whether a given number is a scalar type or not.\n"
   ]
  },
  {
   "cell_type": "code",
   "execution_count": 14,
   "metadata": {
    "colab": {
     "base_uri": "https://localhost:8080/"
    },
    "id": "UwCTsYcdv49I",
    "outputId": "5608db7a-02aa-4a91-f667-b8781b3e66c1"
   },
   "outputs": [
    {
     "data": {
      "text/plain": [
       "array([ True, False, False, False, False,  True])"
      ]
     },
     "execution_count": 14,
     "metadata": {},
     "output_type": "execute_result"
    }
   ],
   "source": [
    "x = np.array([1+1j, 1+0j, 4.5, 3, 2, 2j])\n",
    "np.iscomplex(x)"
   ]
  },
  {
   "cell_type": "markdown",
   "metadata": {
    "id": "6w4-6HlXRe8F"
   },
   "source": [
    "9. Write a NumPy program to create an element-wise comparison (greater, greater_equal, less and less_equal) of two given arrays.\n"
   ]
  },
  {
   "cell_type": "code",
   "execution_count": 22,
   "metadata": {
    "colab": {
     "base_uri": "https://localhost:8080/"
    },
    "id": "40mxkyBVwe1X",
    "outputId": "0a91f95c-8c75-43dd-bbfc-036c4f72b9ad"
   },
   "outputs": [
    {
     "name": "stdout",
     "output_type": "stream",
     "text": [
      "Greater  Number is:          [False  True False False  True]\n",
      "Greater Equal  Number is:    [False  True  True False  True]\n",
      "Less  Number is:             [ True False False  True False]\n",
      "Less Equal  Number is:       [ True False  True  True False]\n"
     ]
    }
   ],
   "source": [
    "a = [1,6,3,4,5]\n",
    "b = [6,4,3,9,0]\n",
    "# Greater Number\n",
    "print(\"Greater  Number is:         \",np.greater(a,b))\n",
    "# Greater Equal\n",
    "print(\"Greater Equal  Number is:   \",np.greater_equal(a,b))\n",
    "# Less Number\n",
    "print(\"Less  Number is:            \",np.less(a,b))\n",
    "# Less Equal\n",
    "print(\"Less Equal  Number is:      \",np.less_equal(a,b))"
   ]
  },
  {
   "cell_type": "markdown",
   "metadata": {
    "id": "E91WW29_Rh6N"
   },
   "source": [
    "10. Write a NumPy program to create an array with the values 1, 7, 13, 105 and determine the size of the memory occupied by the array.\n"
   ]
  },
  {
   "cell_type": "code",
   "execution_count": 23,
   "metadata": {
    "colab": {
     "base_uri": "https://localhost:8080/"
    },
    "id": "W7aKO0hEyUUm",
    "outputId": "c531cbe2-e5c0-41f1-dca4-5ae79960e006"
   },
   "outputs": [
    {
     "name": "stdout",
     "output_type": "stream",
     "text": [
      "Size of the memory occupied by the array:  32\n"
     ]
    }
   ],
   "source": [
    "x = np.array([1, 7, 13, 105])\n",
    "print(\"Size of the memory occupied by the array: \",x.size * x.itemsize)"
   ]
  },
  {
   "cell_type": "markdown",
   "metadata": {
    "id": "fjKNAx2vRmEZ"
   },
   "source": [
    "11. Write a NumPy program to create an array of 10 zeros,10 ones, 10 fives.\n"
   ]
  },
  {
   "cell_type": "code",
   "execution_count": 24,
   "metadata": {
    "colab": {
     "base_uri": "https://localhost:8080/"
    },
    "id": "3nuoO79s0aK1",
    "outputId": "2db9d392-dec8-4c4d-a03a-45e92f98628e"
   },
   "outputs": [
    {
     "name": "stdout",
     "output_type": "stream",
     "text": [
      "An array of 10 zeros:  [0. 0. 0. 0. 0. 0. 0. 0. 0. 0.]\n",
      "An array of 10 ones:  [1. 1. 1. 1. 1. 1. 1. 1. 1. 1.]\n",
      "An array of 10 fives:  [5. 5. 5. 5. 5. 5. 5. 5. 5. 5.]\n"
     ]
    }
   ],
   "source": [
    "print(\"An array of 10 zeros: \",np.zeros(10))\n",
    "print(\"An array of 10 ones: \",np.ones(10))\n",
    "print(\"An array of 10 fives: \",np.ones(10)*5)"
   ]
  },
  {
   "cell_type": "markdown",
   "metadata": {
    "id": "Hno1iLZNRoi8"
   },
   "source": [
    "12. Write a NumPy program to create an array of the integers from 30 to70.\n"
   ]
  },
  {
   "cell_type": "code",
   "execution_count": 25,
   "metadata": {
    "colab": {
     "base_uri": "https://localhost:8080/"
    },
    "id": "32MiJnhp0hlD",
    "outputId": "c1ea451e-1e79-4b49-afc6-945073e9fc73"
   },
   "outputs": [
    {
     "data": {
      "text/plain": [
       "array([30, 31, 32, 33, 34, 35, 36, 37, 38, 39, 40, 41, 42, 43, 44, 45, 46,\n",
       "       47, 48, 49, 50, 51, 52, 53, 54, 55, 56, 57, 58, 59, 60, 61, 62, 63,\n",
       "       64, 65, 66, 67, 68, 69, 70])"
      ]
     },
     "execution_count": 25,
     "metadata": {},
     "output_type": "execute_result"
    }
   ],
   "source": [
    "np.arange(30,71)"
   ]
  },
  {
   "cell_type": "markdown",
   "metadata": {
    "id": "G6MMuKVLRq-t"
   },
   "source": [
    "13. Write a NumPy program to create an array of all the even integers from 30 to 70.\n"
   ]
  },
  {
   "cell_type": "code",
   "execution_count": 26,
   "metadata": {
    "colab": {
     "base_uri": "https://localhost:8080/"
    },
    "id": "TBBhsgua0y3k",
    "outputId": "6942a44e-1edd-490a-a9ac-6ab866f30def"
   },
   "outputs": [
    {
     "data": {
      "text/plain": [
       "array([30, 32, 34, 36, 38, 40, 42, 44, 46, 48, 50, 52, 54, 56, 58, 60, 62,\n",
       "       64, 66, 68, 70])"
      ]
     },
     "execution_count": 26,
     "metadata": {},
     "output_type": "execute_result"
    }
   ],
   "source": [
    "np.arange(30,71,2)"
   ]
  },
  {
   "cell_type": "markdown",
   "metadata": {
    "id": "66Pm2ITQRvOU"
   },
   "source": [
    "14. Write a NumPy program to create a 3x3 identity matrix.\n"
   ]
  },
  {
   "cell_type": "code",
   "execution_count": 34,
   "metadata": {
    "colab": {
     "base_uri": "https://localhost:8080/"
    },
    "id": "Bc7vnsqS015k",
    "outputId": "2b39cd9e-6876-41a3-c6f7-da29cd04a119"
   },
   "outputs": [
    {
     "data": {
      "text/plain": [
       "array([[1., 0., 0.],\n",
       "       [0., 1., 0.],\n",
       "       [0., 0., 1.]])"
      ]
     },
     "execution_count": 34,
     "metadata": {},
     "output_type": "execute_result"
    }
   ],
   "source": [
    "np.identity(3)        # We cannot change Diagonal within the matrix"
   ]
  },
  {
   "cell_type": "code",
   "execution_count": 33,
   "metadata": {
    "colab": {
     "base_uri": "https://localhost:8080/"
    },
    "id": "f9bdFr2J05RD",
    "outputId": "486c4beb-22c9-4c90-d46e-495d14477a3b"
   },
   "outputs": [
    {
     "data": {
      "text/plain": [
       "array([[0., 1., 0.],\n",
       "       [0., 0., 1.],\n",
       "       [0., 0., 0.]])"
      ]
     },
     "execution_count": 33,
     "metadata": {},
     "output_type": "execute_result"
    }
   ],
   "source": [
    "np.eye(3,k=1)        # We can change Diagonal within the matrix"
   ]
  },
  {
   "cell_type": "markdown",
   "metadata": {
    "id": "2CVuEE3qR0QU"
   },
   "source": [
    "15. Write a NumPy program to generate a random number between 0 and 1.\n"
   ]
  },
  {
   "cell_type": "code",
   "execution_count": 35,
   "metadata": {
    "colab": {
     "base_uri": "https://localhost:8080/"
    },
    "id": "Q2-CYwbO0_sT",
    "outputId": "59527250-10f4-4d9f-cfaf-ae76a829d7a9"
   },
   "outputs": [
    {
     "data": {
      "text/plain": [
       "array([-0.34964435])"
      ]
     },
     "execution_count": 35,
     "metadata": {},
     "output_type": "execute_result"
    }
   ],
   "source": [
    "np.random.normal(0,1,1)"
   ]
  },
  {
   "cell_type": "markdown",
   "metadata": {
    "id": "sln1u_8FR3E7"
   },
   "source": [
    "16. Write a NumPy program to generate an array of 15 random numbers from a standard normal distribution.\n"
   ]
  },
  {
   "cell_type": "code",
   "execution_count": 36,
   "metadata": {
    "colab": {
     "base_uri": "https://localhost:8080/"
    },
    "id": "Q1ue3I7S2q9i",
    "outputId": "a5595419-d74a-4632-d745-246d782a512e"
   },
   "outputs": [
    {
     "data": {
      "text/plain": [
       "array([ 0.18547918, -0.26927258,  0.06081302, -1.1589618 ,  1.4054203 ,\n",
       "        0.29588715,  0.71761542,  1.62865343, -1.732849  , -0.25816401,\n",
       "       -0.18585756, -0.42332507,  1.18077435, -3.03582827, -0.7022354 ])"
      ]
     },
     "execution_count": 36,
     "metadata": {},
     "output_type": "execute_result"
    }
   ],
   "source": [
    "np.random.normal(0,1,15)"
   ]
  },
  {
   "cell_type": "markdown",
   "metadata": {
    "id": "RYgw1k3yR5k0"
   },
   "source": [
    "17. Write a NumPy program to create a vector with values ranging from 15 to 55 and print all values except the first and last.\n"
   ]
  },
  {
   "cell_type": "code",
   "execution_count": 39,
   "metadata": {
    "colab": {
     "base_uri": "https://localhost:8080/"
    },
    "id": "hwOr2kW52z8x",
    "outputId": "03a0f6a5-4a5a-484c-e78c-cc0751435052"
   },
   "outputs": [
    {
     "data": {
      "text/plain": [
       "array([16, 17, 18, 19, 20, 21, 22, 23, 24, 25, 26, 27, 28, 29, 30, 31, 32,\n",
       "       33, 34, 35, 36, 37, 38, 39, 40, 41, 42, 43, 44, 45, 46, 47, 48, 49,\n",
       "       50, 51, 52, 53, 54])"
      ]
     },
     "execution_count": 39,
     "metadata": {},
     "output_type": "execute_result"
    }
   ],
   "source": [
    "np.arange(16,55)"
   ]
  },
  {
   "cell_type": "markdown",
   "metadata": {
    "id": "Cvz5MtqKR74B"
   },
   "source": [
    "18. Write a NumPy program to create a 3X4 array.\n"
   ]
  },
  {
   "cell_type": "code",
   "execution_count": 43,
   "metadata": {
    "colab": {
     "base_uri": "https://localhost:8080/"
    },
    "id": "tzuJFqZY2_lS",
    "outputId": "0cdcf8e9-2694-4a2c-d275-0469e664c837"
   },
   "outputs": [
    {
     "name": "stdout",
     "output_type": "stream",
     "text": [
      "[[10 11 12 13]\n",
      " [14 15 16 17]\n",
      " [18 19 20 21]]\n"
     ]
    }
   ],
   "source": [
    "print(np.arange(10,22).reshape(3,4))"
   ]
  },
  {
   "cell_type": "markdown",
   "metadata": {
    "id": "rOk7EEwdR-JJ"
   },
   "source": [
    "19. Write a NumPy program to create a vector of length 10 with values evenly distributed between 5 and 50.\n"
   ]
  },
  {
   "cell_type": "code",
   "execution_count": 42,
   "metadata": {
    "colab": {
     "base_uri": "https://localhost:8080/"
    },
    "id": "yXHkN1YN3KEi",
    "outputId": "27314815-16ee-412e-aa7a-6084c9424954"
   },
   "outputs": [
    {
     "name": "stdout",
     "output_type": "stream",
     "text": [
      "[ 5. 10. 15. 20. 25. 30. 35. 40. 45. 50.]\n"
     ]
    }
   ],
   "source": [
    "print(np.linspace(5,50,10))"
   ]
  },
  {
   "cell_type": "markdown",
   "metadata": {
    "id": "chnHCWDJSAxA"
   },
   "source": [
    "20. Write a NumPy program to create a vector with values from 0 to 20 and change the sign of the numbers in the range from 9 to 15.\n"
   ]
  },
  {
   "cell_type": "code",
   "execution_count": 44,
   "metadata": {
    "colab": {
     "base_uri": "https://localhost:8080/"
    },
    "id": "gP3n5a_r3XtC",
    "outputId": "58e1e2f7-4f1a-40b1-c071-537341bdd898"
   },
   "outputs": [
    {
     "name": "stdout",
     "output_type": "stream",
     "text": [
      "[  0   1   2   3   4   5   6   7   8  -9 -10 -11 -12 -13 -14 -15  16  17\n",
      "  18  19  20]\n"
     ]
    }
   ],
   "source": [
    "x = np.arange(0,21)\n",
    "x[(x>=9) & (x<=15)] *= -1\n",
    "print(x)"
   ]
  },
  {
   "cell_type": "markdown",
   "metadata": {
    "id": "xdxKOAEWSDDZ"
   },
   "source": [
    "21. Write a NumPy program to create a vector of length 5 filled with arbitrary integers from 0 to 10.\n"
   ]
  },
  {
   "cell_type": "code",
   "execution_count": 47,
   "metadata": {
    "colab": {
     "base_uri": "https://localhost:8080/"
    },
    "id": "1Q_7I2q83mFx",
    "outputId": "129e706c-576d-4f0c-db8a-1e3a4887ac94"
   },
   "outputs": [
    {
     "data": {
      "text/plain": [
       "array([8, 3, 6, 8, 4])"
      ]
     },
     "execution_count": 47,
     "metadata": {},
     "output_type": "execute_result"
    }
   ],
   "source": [
    "np.random.randint(0,11,5)"
   ]
  },
  {
   "cell_type": "markdown",
   "metadata": {
    "id": "VeVhcMjLSF95"
   },
   "source": [
    "22. Write a NumPy program to multiply the values of two given vectors.\n"
   ]
  },
  {
   "cell_type": "code",
   "execution_count": 49,
   "metadata": {
    "colab": {
     "base_uri": "https://localhost:8080/"
    },
    "id": "E3-Rd-Rn9MH3",
    "outputId": "e6590060-0ed2-4ca6-f6b0-f51b674d48cd"
   },
   "outputs": [
    {
     "name": "stdout",
     "output_type": "stream",
     "text": [
      "[ 5 12 21 32]\n"
     ]
    }
   ],
   "source": [
    "a = np.array([1,2,3,4])\n",
    "b = np.array([5,6,7,8])\n",
    "vector_mul = a*b\n",
    "print(vector_mul)"
   ]
  },
  {
   "cell_type": "markdown",
   "metadata": {
    "id": "hDZFHGZ8SJNY"
   },
   "source": [
    "23. Write a NumPy program to create a 3x4 matrix filled with values from 10 to 21.\n"
   ]
  },
  {
   "cell_type": "code",
   "execution_count": 52,
   "metadata": {
    "colab": {
     "base_uri": "https://localhost:8080/"
    },
    "id": "4sO_xG-D9dLi",
    "outputId": "84b9afb8-719d-4c31-ec89-3e7556f42804"
   },
   "outputs": [
    {
     "name": "stdout",
     "output_type": "stream",
     "text": [
      "[[10 11 12 13]\n",
      " [14 15 16 17]\n",
      " [18 19 20 21]]\n"
     ]
    }
   ],
   "source": [
    "print(np.arange(10,22).reshape(3,4))"
   ]
  },
  {
   "cell_type": "markdown",
   "metadata": {
    "id": "wmYfSqj4SL2I"
   },
   "source": [
    "24. Write a NumPy program to find the number of rows and columns of a given matrix.\n"
   ]
  },
  {
   "cell_type": "code",
   "execution_count": 55,
   "metadata": {
    "colab": {
     "base_uri": "https://localhost:8080/"
    },
    "id": "FHiiIUQY9yUr",
    "outputId": "1150a0e9-b7fd-41e2-aa86-89f766a6670e"
   },
   "outputs": [
    {
     "name": "stdout",
     "output_type": "stream",
     "text": [
      "[[10 11 12 13]\n",
      " [14 15 16 17]\n",
      " [18 19 20 21]]\n",
      "Number of rows:     3\n",
      "Number of columns:  4\n"
     ]
    }
   ],
   "source": [
    "x = np.arange(10,22).reshape(3,4)\n",
    "print(x)\n",
    "print(\"Number of rows:    \",x.shape[0])\n",
    "print(\"Number of columns: \",x.shape[1])"
   ]
  },
  {
   "cell_type": "markdown",
   "metadata": {
    "id": "3GuaXwdASOBg"
   },
   "source": [
    "25. Write a NumPy program to create a 3x3 identity matrix, i.e. diagonal elements are 1, the rest are 0.\n"
   ]
  },
  {
   "cell_type": "code",
   "execution_count": 56,
   "metadata": {
    "colab": {
     "base_uri": "https://localhost:8080/"
    },
    "id": "HHqbuKwz99zI",
    "outputId": "2a986667-bbf4-49be-c3d3-64a174f523ca"
   },
   "outputs": [
    {
     "data": {
      "text/plain": [
       "array([[1., 0., 0.],\n",
       "       [0., 1., 0.],\n",
       "       [0., 0., 1.]])"
      ]
     },
     "execution_count": 56,
     "metadata": {},
     "output_type": "execute_result"
    }
   ],
   "source": [
    "np.eye(3)"
   ]
  },
  {
   "cell_type": "markdown",
   "metadata": {
    "id": "ycFHGZTsSQYI"
   },
   "source": [
    "26. Write a NumPy program to create a 10x10 matrix, in which the elements on the borders will be equal to 1, and inside 0.\n"
   ]
  },
  {
   "cell_type": "code",
   "execution_count": 61,
   "metadata": {
    "colab": {
     "base_uri": "https://localhost:8080/"
    },
    "id": "Oq6IP_fX-IyY",
    "outputId": "7786c2a6-2d5e-4671-f041-ab8aba2cf056"
   },
   "outputs": [
    {
     "name": "stdout",
     "output_type": "stream",
     "text": [
      "[[1. 1. 1. 1. 1. 1. 1. 1. 1. 1.]\n",
      " [1. 0. 0. 0. 0. 0. 0. 0. 0. 1.]\n",
      " [1. 0. 0. 0. 0. 0. 0. 0. 0. 1.]\n",
      " [1. 0. 0. 0. 0. 0. 0. 0. 0. 1.]\n",
      " [1. 0. 0. 0. 0. 0. 0. 0. 0. 1.]\n",
      " [1. 0. 0. 0. 0. 0. 0. 0. 0. 1.]\n",
      " [1. 0. 0. 0. 0. 0. 0. 0. 0. 1.]\n",
      " [1. 0. 0. 0. 0. 0. 0. 0. 0. 1.]\n",
      " [1. 0. 0. 0. 0. 0. 0. 0. 0. 1.]\n",
      " [1. 1. 1. 1. 1. 1. 1. 1. 1. 1.]]\n"
     ]
    }
   ],
   "source": [
    "x = np.ones((10,10))\n",
    "x[1:-1,1:-1] = 0\n",
    "print(x)"
   ]
  },
  {
   "cell_type": "markdown",
   "metadata": {
    "id": "dRo8aICASSlf"
   },
   "source": [
    "27. Write a NumPy program to create a 5x5 zero matrix with elements on the main diagonal equal to 1, 2, 3, 4, 5.\n"
   ]
  },
  {
   "cell_type": "code",
   "execution_count": 68,
   "metadata": {
    "colab": {
     "base_uri": "https://localhost:8080/"
    },
    "id": "OVMXFzXy-uRE",
    "outputId": "84465006-3c8b-431f-c0c2-5a7a60e4b7c2"
   },
   "outputs": [
    {
     "data": {
      "text/plain": [
       "array([[1, 0, 0, 0, 0],\n",
       "       [0, 2, 0, 0, 0],\n",
       "       [0, 0, 3, 0, 0],\n",
       "       [0, 0, 0, 4, 0],\n",
       "       [0, 0, 0, 0, 5]])"
      ]
     },
     "execution_count": 68,
     "metadata": {},
     "output_type": "execute_result"
    }
   ],
   "source": [
    "np.diag([1,2,3,4,5])"
   ]
  },
  {
   "cell_type": "markdown",
   "metadata": {
    "id": "1QKBZpW1SWo_"
   },
   "source": [
    "28. Write a NumPy program to create a 3x3x3 array filled with arbitrary values.\n"
   ]
  },
  {
   "cell_type": "code",
   "execution_count": 70,
   "metadata": {
    "colab": {
     "base_uri": "https://localhost:8080/"
    },
    "id": "1FUoDLRh_gjA",
    "outputId": "8f6b0bc2-45cf-40ff-a500-547926308c4a"
   },
   "outputs": [
    {
     "data": {
      "text/plain": [
       "array([[[ 0,  1,  2],\n",
       "        [ 3,  4,  5],\n",
       "        [ 6,  7,  8]],\n",
       "\n",
       "       [[ 9, 10, 11],\n",
       "        [12, 13, 14],\n",
       "        [15, 16, 17]],\n",
       "\n",
       "       [[18, 19, 20],\n",
       "        [21, 22, 23],\n",
       "        [24, 25, 26]]])"
      ]
     },
     "execution_count": 70,
     "metadata": {},
     "output_type": "execute_result"
    }
   ],
   "source": [
    "np.arange(0,27).reshape(3,3,3)"
   ]
  },
  {
   "cell_type": "markdown",
   "metadata": {
    "id": "Gn5y-Hq2SZQF"
   },
   "source": [
    "29. Write a NumPy program to compute the inner product of two given vectors.\n"
   ]
  },
  {
   "cell_type": "code",
   "execution_count": 121,
   "metadata": {
    "colab": {
     "base_uri": "https://localhost:8080/"
    },
    "id": "uh7iJanXANO9",
    "outputId": "16545d4c-986e-4305-e832-5c8ca30764e9"
   },
   "outputs": [
    {
     "name": "stdout",
     "output_type": "stream",
     "text": [
      "[[1 2]\n",
      " [3 4]]\n",
      "[[3 4]\n",
      " [5 6]]\n",
      "Inner Product is : \n",
      " [[11 17]\n",
      " [25 39]]\n",
      "Dot Product is :  \n",
      " [[13 16]\n",
      " [29 36]]\n"
     ]
    }
   ],
   "source": [
    "a = np.array([[1,2],[3,4]])\n",
    "b = np.array([[3,4],[5,6]])\n",
    "print(a)\n",
    "print(b)\n",
    "\n",
    "print(\"Inner Product is : \\n\",np.inner(a,b))\n",
    "print(\"Dot Product is :  \\n\",np.dot(a,b))"
   ]
  },
  {
   "cell_type": "markdown",
   "metadata": {
    "id": "5va2Opa2SdM-"
   },
   "source": [
    "30. Write a NumPy program to sort a given array by row and column in ascending order.\n"
   ]
  },
  {
   "cell_type": "code",
   "execution_count": 122,
   "metadata": {
    "colab": {
     "base_uri": "https://localhost:8080/"
    },
    "id": "TvfwaOmVAv8Z",
    "outputId": "c06f46b3-4825-4136-b4f0-0dc2c4bdf335"
   },
   "outputs": [
    {
     "name": "stdout",
     "output_type": "stream",
     "text": [
      "[3 6 7 9]\n"
     ]
    }
   ],
   "source": [
    "a = np.array([9,6,7,3])\n",
    "print(np.sort(a))"
   ]
  },
  {
   "cell_type": "markdown",
   "metadata": {
    "id": "lByHrCN9SgEV"
   },
   "source": [
    "31. Write a NumPy program to extract all numbers from a given array which are less and greater than a specified number.\n"
   ]
  },
  {
   "cell_type": "code",
   "execution_count": 170,
   "metadata": {
    "colab": {
     "base_uri": "https://localhost:8080/"
    },
    "id": "cS6MUBqGH6CZ",
    "outputId": "380532a1-de31-4235-ca3d-4d9e1efe0bc6"
   },
   "outputs": [
    {
     "name": "stdout",
     "output_type": "stream",
     "text": [
      "[66 77 88 99]\n",
      "[11 22 33]\n",
      "[11 22 33 66 77 88 99]\n",
      "[11 22 33 66 77 88 99]\n"
     ]
    }
   ],
   "source": [
    "a = np.array([11,22,33,55,66,77,88,99])\n",
    "print(a[a>55])\n",
    "print(a[a<55])\n",
    "# Anoter way\n",
    "print(a[a != 55])\n",
    "# Anoter way\n",
    "arr = a[(a>55) | (a<55)]\n",
    "print(arr)"
   ]
  },
  {
   "cell_type": "markdown",
   "metadata": {
    "id": "GRKaMOy1SjGu"
   },
   "source": [
    "32. Write a NumPy program to replace all numbers in a given array which is equal, less and greater to a given number.\n"
   ]
  },
  {
   "cell_type": "code",
   "execution_count": 175,
   "metadata": {
    "colab": {
     "base_uri": "https://localhost:8080/"
    },
    "id": "bt41hVpZIszm",
    "outputId": "0970bf94-e00e-4a9f-aa92-ec9243f00597"
   },
   "outputs": [
    {
     "name": "stdout",
     "output_type": "stream",
     "text": [
      "Greater Number:  [11 22 33 55  0  0  0  0]\n",
      "Less Number:     [ 0  0  0 55 66 77 88 99]\n",
      "Equal Number:    [11 22 33  0 66 77 88 99]\n"
     ]
    }
   ],
   "source": [
    "a = np.array([11,22,33,55,66,77,88,99])\n",
    "a[(a>55)] = 0\n",
    "print(\"Greater Number: \",a)\n",
    "a = np.array([11,22,33,55,66,77,88,99])\n",
    "a[(a<55)] = 0\n",
    "print(\"Less Number:    \",a)\n",
    "a = np.array([11,22,33,55,66,77,88,99])\n",
    "a[(a==55)] = 0\n",
    "print(\"Equal Number:   \",a)"
   ]
  },
  {
   "cell_type": "markdown",
   "metadata": {
    "id": "39AXZ1EYSmBO"
   },
   "source": [
    "33. Write a NumPy program to create an array of equal shape and data type of a given array.\n"
   ]
  },
  {
   "cell_type": "code",
   "execution_count": 188,
   "metadata": {
    "colab": {
     "base_uri": "https://localhost:8080/"
    },
    "id": "FiIa9xMoOF98",
    "outputId": "1adad029-cd41-404e-cabf-045e02aea90c"
   },
   "outputs": [
    {
     "name": "stdout",
     "output_type": "stream",
     "text": [
      "[11 22 33 55 66 77 88 99]\n",
      "[99249998409066              0              0              0\n",
      "              0              0              0              0]\n"
     ]
    }
   ],
   "source": [
    "a = np.array([11,22,33,55,66,77,88,99])\n",
    "print(a)\n",
    "print(np.empty_like(a))"
   ]
  },
  {
   "cell_type": "markdown",
   "metadata": {
    "id": "5EMQfNL3Sop0"
   },
   "source": [
    "34. Write a NumPy program to create a three-dimension array with shape (3,5,4) and set to a variable.\n"
   ]
  },
  {
   "cell_type": "code",
   "execution_count": 189,
   "metadata": {
    "colab": {
     "base_uri": "https://localhost:8080/"
    },
    "id": "CSOI0EqvPw4U",
    "outputId": "a2008ad4-dc61-4993-a4a9-c979a45ceb46"
   },
   "outputs": [
    {
     "name": "stdout",
     "output_type": "stream",
     "text": [
      "[[[ 0  1  2  3]\n",
      "  [ 4  5  6  7]\n",
      "  [ 8  9 10 11]\n",
      "  [12 13 14 15]\n",
      "  [16 17 18 19]]\n",
      "\n",
      " [[20 21 22 23]\n",
      "  [24 25 26 27]\n",
      "  [28 29 30 31]\n",
      "  [32 33 34 35]\n",
      "  [36 37 38 39]]\n",
      "\n",
      " [[40 41 42 43]\n",
      "  [44 45 46 47]\n",
      "  [48 49 50 51]\n",
      "  [52 53 54 55]\n",
      "  [56 57 58 59]]]\n"
     ]
    }
   ],
   "source": [
    "a = np.arange(0,60).reshape(3,5,4)\n",
    "print(a)"
   ]
  },
  {
   "cell_type": "markdown",
   "metadata": {
    "id": "5pLw9QSqSri8"
   },
   "source": [
    "\n",
    "35. Write a NumPy program to multiply two given arrays of same size element-by-element.\n"
   ]
  },
  {
   "cell_type": "code",
   "execution_count": 192,
   "metadata": {
    "colab": {
     "base_uri": "https://localhost:8080/"
    },
    "id": "udrWDTjFQcn3",
    "outputId": "789a93b8-68f3-43eb-e40a-118209b88af3"
   },
   "outputs": [
    {
     "name": "stdout",
     "output_type": "stream",
     "text": [
      "[1089 1936 2541 3630 3630 2541 1936 1089]\n"
     ]
    }
   ],
   "source": [
    "a = np.array([11,22,33,55,66,77,88,99])\n",
    "b = np.array([99,88,77,66,55,33,22,11])\n",
    "print(a*b)"
   ]
  },
  {
   "cell_type": "markdown",
   "metadata": {
    "id": "U_0SepV5SwI0"
   },
   "source": [
    "**THANK YOU!**\n",
    "\n",
    "\n",
    "\n"
   ]
  },
  {
   "cell_type": "code",
   "execution_count": null,
   "metadata": {
    "id": "we8Mrd4PS_J0"
   },
   "outputs": [],
   "source": []
  }
 ],
 "metadata": {
  "colab": {
   "provenance": []
  },
  "kernelspec": {
   "display_name": "Python 3 (ipykernel)",
   "language": "python",
   "name": "python3"
  },
  "language_info": {
   "codemirror_mode": {
    "name": "ipython",
    "version": 3
   },
   "file_extension": ".py",
   "mimetype": "text/x-python",
   "name": "python",
   "nbconvert_exporter": "python",
   "pygments_lexer": "ipython3",
   "version": "3.12.4"
  }
 },
 "nbformat": 4,
 "nbformat_minor": 4
}
